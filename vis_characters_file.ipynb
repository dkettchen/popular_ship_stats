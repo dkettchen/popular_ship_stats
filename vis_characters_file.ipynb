{
 "cells": [
  {
   "cell_type": "code",
   "execution_count": 112,
   "metadata": {},
   "outputs": [
    {
     "data": {
      "text/plain": [
       "Index(['given_name', 'middle_name', 'maiden_name', 'surname', 'alias',\n",
       "       'nickname', 'title_prefix', 'title_suffix', 'name_order', 'full_name',\n",
       "       'fandom', 'gender', 'race', 'rpf_or_fic'],\n",
       "      dtype='object')"
      ]
     },
     "execution_count": 112,
     "metadata": {},
     "output_type": "execute_result"
    }
   ],
   "source": [
    "from src.util_functions.retrieve_data_from_csv import read_data_from_csv\n",
    "import pandas as pd\n",
    "\n",
    "# read from characters file\n",
    "characters_filepath = \"data/fifth_clean_up_data/stage_5_characters.csv\"\n",
    "characters_csv_data = read_data_from_csv(characters_filepath)\n",
    "\n",
    "# make a df\n",
    "characters_df = pd.DataFrame(characters_csv_data[1:], columns=characters_csv_data[0])\n",
    "characters_df.columns"
   ]
  },
  {
   "cell_type": "code",
   "execution_count": 120,
   "metadata": {},
   "outputs": [
    {
     "name": "stdout",
     "output_type": "stream",
     "text": [
      "total_num_of_characters    922\n",
      "dtype: int64\n",
      "               count\n",
      "gender              \n",
      "M                520\n",
      "F                368\n",
      "Ambig             12\n",
      "F | Other         10\n",
      "M | Other          5\n",
      "M | F | Other      4\n",
      "Other              2\n"
     ]
    }
   ],
   "source": [
    "# all-characters gender percentages (all time, entire set)\n",
    "\n",
    "total_chars = characters_df.get([\"full_name\"]).count()\n",
    "total_chars = total_chars.rename(index={\"full_name\":\"total_num_of_characters\"})\n",
    "print(total_chars)\n",
    "\n",
    "total_gender_percentages = characters_df.get([\"full_name\",\"gender\"]).groupby(\"gender\").count()\n",
    "total_gender_percentages = total_gender_percentages.rename(columns={\"full_name\": \"count\"})\n",
    "print(total_gender_percentages.sort_values(by=\"count\",ascending=False)) # TO VISUALISE\n",
    "\n"
   ]
  },
  {
   "cell_type": "code",
   "execution_count": 126,
   "metadata": {},
   "outputs": [
    {
     "name": "stdout",
     "output_type": "stream",
     "text": [
      "men                                        2.50\n",
      "women                                      1.80\n",
      "characters of other or ambiguous gender    0.09\n",
      "dtype: float64\n"
     ]
    }
   ],
   "source": [
    "# how many male vs female vs other characters a fandom has on average\n",
    "\n",
    "average_gender_per_fandom = characters_df.copy().get(\n",
    "    [\"full_name\",\"fandom\",\"gender\"]\n",
    ")\n",
    "average_gender_per_fandom.insert(loc=3, column=\"women\", \n",
    "    value=(average_gender_per_fandom.gender.where( # only replacing values in one column!\n",
    "        cond=(characters_df.gender == \"F\") | (characters_df.gender == \"F | Other\"),\n",
    "    )) # pipe acts as OR here, and needs brackets around conditions!\n",
    ")\n",
    "average_gender_per_fandom.insert(loc=3, column=\"men\", \n",
    "    value=(average_gender_per_fandom.gender.where( # only replacing values in one column!\n",
    "        cond=(characters_df.gender == \"M\") | (characters_df.gender == \"M | Other\") ,\n",
    "    )) # pipe acts as OR here, and needs brackets around conditions!\n",
    ")\n",
    "average_gender_per_fandom.insert(loc=5, column=\"characters of other or ambiguous gender\", \n",
    "    value=(average_gender_per_fandom.gender.where( # only replacing values in one column!\n",
    "        (characters_df.gender != \"F\") & (characters_df.gender != \"F | Other\") & (characters_df.gender != \"M\") & (characters_df.gender != \"M | Other\")\n",
    "    )) # & acts as AND\n",
    ")\n",
    "average_gender_per_fandom = average_gender_per_fandom.groupby(by=\"fandom\", dropna=False).count().get(\n",
    "    [\"men\",\"women\",\"characters of other or ambiguous gender\"]\n",
    ").mean(0).round(2)\n",
    "\n",
    "print(average_gender_per_fandom) # TO VISUALISE\n"
   ]
  },
  {
   "cell_type": "code",
   "execution_count": 115,
   "metadata": {},
   "outputs": [
    {
     "name": "stdout",
     "output_type": "stream",
     "text": [
      "                 count\n",
      "race                  \n",
      "White              537\n",
      "E Asian            163\n",
      "Ambig               57\n",
      "N.H.                35\n",
      "Latin               27\n",
      "Black               13\n",
      "E Asian (Multi)     13\n",
      "MENA                11\n",
      "SE Asian             9\n",
      "Latin (Multi)        7\n"
     ]
    }
   ],
   "source": [
    "# all-characters race percentages (all time, entire set)\n",
    "\n",
    "total_race_percentages = characters_df.get([\"full_name\",\"race\"]).groupby(\"race\").count()\n",
    "total_race_percentages = total_race_percentages.rename(columns={\"full_name\": \"count\"}) \n",
    "\n",
    "print(total_race_percentages.sort_values(by=\"count\", ascending=False).head(10)) # TO VISUALISE\n",
    "\n",
    "\n"
   ]
  },
  {
   "cell_type": "code",
   "execution_count": 130,
   "metadata": {},
   "outputs": [
    {
     "name": "stdout",
     "output_type": "stream",
     "text": [
      "                                     count\n",
      "total_fandoms                          210\n",
      "fandoms_with_only_one_racial_group     123\n",
      "fandoms_with_multiple_racial_groups     87\n"
     ]
    }
   ],
   "source": [
    "# find fandoms with lowest (aka no) racial diversity\n",
    "\n",
    "racial_div_by_fandom = characters_df.get(\n",
    "    [\"full_name\",\"fandom\",\"race\"]\n",
    ").groupby(\n",
    "    [\"fandom\", \"race\"]\n",
    ").count()\n",
    "racial_div_by_fandom = racial_div_by_fandom.rename(columns={\"full_name\": \"count\"})\n",
    "#print(racial_div_by_fandom)\n",
    "\n",
    "plural_vs_monoracial_fandoms = pd.DataFrame([\n",
    "    characters_df.get([\"fandom\"]).nunique().rename(index={\"fandom\":\"total_fandoms\"})\n",
    "    # counting all unique fandom names for total\n",
    "])\n",
    "plural_vs_monoracial_fandoms.insert(\n",
    "    loc=1, \n",
    "    column=\"fandoms_with_only_one_racial_group\", \n",
    "    value=racial_div_by_fandom.where( # there is only one racial group in the fandom\n",
    "        racial_div_by_fandom.groupby(\n",
    "            racial_div_by_fandom.index.droplevel(1)\n",
    "        ).count() == 1 \n",
    "    ).count().rename(\n",
    "        index={\"count\": \"fandoms_with_only_one_racial_group\"}\n",
    "    )[\"fandoms_with_only_one_racial_group\"]\n",
    ")\n",
    "plural_vs_monoracial_fandoms.insert(\n",
    "    loc=2, \n",
    "    column=\"fandoms_with_multiple_racial_groups\", \n",
    "    value=plural_vs_monoracial_fandoms[\"total_fandoms\"] - plural_vs_monoracial_fandoms[\"fandoms_with_only_one_racial_group\"]\n",
    "    # total minus monoracial fandoms\n",
    ")\n",
    "plural_vs_monoracial_fandoms = plural_vs_monoracial_fandoms.transpose().rename(columns={0: \"count\"})\n",
    "# total is 210\n",
    "# we have 123 fandoms that have only one race in em... huh..\n",
    "\n",
    "print(plural_vs_monoracial_fandoms) # TO VISUALISE!\n"
   ]
  },
  {
   "cell_type": "code",
   "execution_count": 117,
   "metadata": {},
   "outputs": [
    {
     "name": "stdout",
     "output_type": "stream",
     "text": [
      "                     count\n",
      "fandom                    \n",
      "Marvel                   8\n",
      "The 100                  7\n",
      "DC                       7\n",
      "Star Wars                6\n",
      "Teen Wolf                5\n",
      "Genshin Impact | 原神      5\n"
     ]
    }
   ],
   "source": [
    "# find fandoms with highest racial diversity (Genshin would likely be in here)\n",
    "\n",
    "highest_racial_div = racial_div_by_fandom.where(\n",
    "    racial_div_by_fandom.groupby(racial_div_by_fandom.index.droplevel(1)).count() > 1\n",
    ").droplevel(1).dropna()\n",
    "highest_racial_div = highest_racial_div.groupby(highest_racial_div.index).count().sort_values(\n",
    "    by=\"count\", ascending=False\n",
    ").head(6) # everything else was under 5\n",
    "\n",
    "print(highest_racial_div) # TO VISUALISE\n"
   ]
  },
  {
   "cell_type": "code",
   "execution_count": 118,
   "metadata": {},
   "outputs": [
    {
     "name": "stdout",
     "output_type": "stream",
     "text": [
      "average no of racial groups per fandom overall    1.7\n",
      "dtype: float64\n"
     ]
    }
   ],
   "source": [
    "# how much racial diversity a fandom has on average \n",
    "\n",
    "average_racial_div = racial_div_by_fandom.groupby(racial_div_by_fandom.index.droplevel(1)).count().mean(0).round(2)\n",
    "average_racial_div = average_racial_div.rename(index={\"count\":\"average no of racial groups per fandom overall\"})\n",
    "\n",
    "print(average_racial_div) # TO VISUALISE"
   ]
  }
 ],
 "metadata": {
  "kernelspec": {
   "display_name": "venv",
   "language": "python",
   "name": "python3"
  },
  "language_info": {
   "codemirror_mode": {
    "name": "ipython",
    "version": 3
   },
   "file_extension": ".py",
   "mimetype": "text/x-python",
   "name": "python",
   "nbconvert_exporter": "python",
   "pygments_lexer": "ipython3",
   "version": "3.11.1"
  }
 },
 "nbformat": 4,
 "nbformat_minor": 2
}
