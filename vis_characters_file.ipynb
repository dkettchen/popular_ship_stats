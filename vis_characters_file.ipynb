{
 "cells": [
  {
   "cell_type": "code",
   "execution_count": 4,
   "metadata": {},
   "outputs": [
    {
     "data": {
      "text/plain": [
       "Index(['given_name', 'middle_name', 'maiden_name', 'surname', 'alias',\n",
       "       'nickname', 'title_prefix', 'title_suffix', 'name_order', 'full_name',\n",
       "       'fandom', 'gender', 'race', 'rpf_or_fic'],\n",
       "      dtype='object')"
      ]
     },
     "execution_count": 4,
     "metadata": {},
     "output_type": "execute_result"
    }
   ],
   "source": [
    "from src.util_functions.retrieve_data_from_csv import read_data_from_csv\n",
    "import pandas as pd\n",
    "\n",
    "# read from characters file\n",
    "characters_filepath = \"data/fifth_clean_up_data/stage_5_characters.csv\"\n",
    "characters_csv_data = read_data_from_csv(characters_filepath)\n",
    "\n",
    "# make a df\n",
    "characters_df = pd.DataFrame(characters_csv_data[1:], columns=characters_csv_data[0])\n",
    "characters_df.columns"
   ]
  },
  {
   "cell_type": "code",
   "execution_count": 59,
   "metadata": {},
   "outputs": [
    {
     "name": "stdout",
     "output_type": "stream",
     "text": [
      "total_num_of_characters    922\n",
      "dtype: int64\n",
      "               count\n",
      "gender              \n",
      "Ambig             12\n",
      "F                367\n",
      "F | Other         11\n",
      "M                520\n",
      "M | F | Other      4\n",
      "M | Other          5\n",
      "Other              2\n"
     ]
    }
   ],
   "source": [
    "# all-characters gender percentages (all time, entire set)\n",
    "\n",
    "total_chars = characters_df.get([\"full_name\"]).count()\n",
    "total_chars = total_chars.rename(index={\"full_name\":\"total_num_of_characters\"})\n",
    "print(total_chars)\n",
    "\n",
    "total_gender_percentages = characters_df.get([\"full_name\",\"gender\"]).groupby(\"gender\").count()\n",
    "total_gender_percentages = total_gender_percentages.rename(columns={\"full_name\": \"count\"})\n",
    "print(total_gender_percentages) # TO VISUALISE\n",
    "\n"
   ]
  },
  {
   "cell_type": "code",
   "execution_count": 25,
   "metadata": {},
   "outputs": [
    {
     "name": "stdout",
     "output_type": "stream",
     "text": [
      "                          count\n",
      "race                           \n",
      "Af Lat                        4\n",
      "Am Ind                        3\n",
      "Am Ind / E Asian (Multi)      1\n",
      "Ambig                        57\n",
      "As Ind                        3\n",
      "As Ind / S Asian (Multi)      1\n",
      "Asian (Multi)                 3\n",
      "Black                        13\n",
      "Black (Multi)                 5\n",
      "Central As                    1\n",
      "E Asian                     163\n",
      "E Asian (Multi)              13\n",
      "Eu Ind (Multi)                2\n",
      "Latin                        27\n",
      "Latin (Multi)                 7\n",
      "MENA                         11\n",
      "MENA (Multi)                  2\n",
      "Māori Ind                     1\n",
      "Māori Ind (Multi)             3\n",
      "N.H.                         35\n",
      "Romani                        2\n",
      "S Asian                       3\n",
      "S Asian (Multi)               1\n",
      "SE Asian                      9\n",
      "SE Asian (Multi)              4\n",
      "SE Eu                         1\n",
      "SE Eu (Multi)                 1\n",
      "Unknown                       5\n",
      "White                       537\n",
      "White (Multi)                 4\n"
     ]
    }
   ],
   "source": [
    "# all-characters race percentages (all time, entire set)\n",
    "\n",
    "total_race_percentages = characters_df.get([\"full_name\",\"race\"]).groupby(\"race\").count()\n",
    "total_race_percentages = total_race_percentages.rename(columns={\"full_name\": \"count\"})\n",
    "print(total_race_percentages) # TO VISUALISE\n",
    "\n"
   ]
  },
  {
   "cell_type": "code",
   "execution_count": 88,
   "metadata": {},
   "outputs": [
    {
     "name": "stdout",
     "output_type": "stream",
     "text": [
      "                                     count\n",
      "total_fandoms                          210\n",
      "fandoms_with_only_one_racial_group     123\n",
      "fandoms_with_multiple_racial_groups     87\n"
     ]
    }
   ],
   "source": [
    "# find fandoms with lowest (aka no) racial diversity\n",
    "\n",
    "total_fandoms = characters_df.get([\"fandom\"]).nunique()\n",
    "total_fandoms = total_fandoms.rename(index={\"fandom\":\"total_fandoms\"})\n",
    "# total is 210\n",
    "\n",
    "racial_div_by_fandom = characters_df.get(\n",
    "    [\"full_name\",\"fandom\",\"race\"]\n",
    ").groupby(\n",
    "    [\"fandom\", \"race\"]\n",
    ").count()\n",
    "racial_div_by_fandom = racial_div_by_fandom.rename(columns={\"full_name\": \"count\"})\n",
    "#print(racial_div_by_fandom)\n",
    "\n",
    "# we have 123 fandoms that have only one race in em... huh..\n",
    "lowest_racial_div = racial_div_by_fandom.where(\n",
    "    racial_div_by_fandom.groupby(racial_div_by_fandom.index.droplevel(1)).count() == 1\n",
    ").count()\n",
    "lowest_racial_div = lowest_racial_div.rename(index={\"count\": \"fandoms_with_only_one_racial_group\"})\n",
    "\n",
    "plural_vs_monoracial_fandoms = pd.DataFrame([total_fandoms])\n",
    "plural_vs_monoracial_fandoms.insert(\n",
    "    loc=1, \n",
    "    column=\"fandoms_with_only_one_racial_group\", \n",
    "    value=lowest_racial_div[\"fandoms_with_only_one_racial_group\"])\n",
    "plural_vs_monoracial_fandoms.insert(\n",
    "    loc=2, \n",
    "    column=\"fandoms_with_multiple_racial_groups\", \n",
    "    value=plural_vs_monoracial_fandoms[\"total_fandoms\"] - plural_vs_monoracial_fandoms[\"fandoms_with_only_one_racial_group\"]\n",
    ")\n",
    "plural_vs_monoracial_fandoms = plural_vs_monoracial_fandoms.transpose().rename(columns={0: \"count\"})\n",
    "\n",
    "print(plural_vs_monoracial_fandoms) # TO VISUALISE!\n"
   ]
  },
  {
   "cell_type": "code",
   "execution_count": 85,
   "metadata": {},
   "outputs": [
    {
     "name": "stdout",
     "output_type": "stream",
     "text": [
      "                     count\n",
      "fandom                    \n",
      "Marvel                   8\n",
      "The 100                  7\n",
      "DC                       7\n",
      "Star Wars                6\n",
      "Teen Wolf                5\n",
      "Genshin Impact | 原神      5\n"
     ]
    }
   ],
   "source": [
    "# find fandoms with highest racial diversity (Genshin would likely be in here)\n",
    "\n",
    "highest_racial_div = racial_div_by_fandom.where(\n",
    "    racial_div_by_fandom.groupby(racial_div_by_fandom.index.droplevel(1)).count() > 1\n",
    ").droplevel(1).dropna()\n",
    "highest_racial_div = highest_racial_div.groupby(highest_racial_div.index).count().sort_values(\n",
    "    by=\"count\", ascending=False\n",
    ").head(6) # everything else was under 5\n",
    "\n",
    "print(highest_racial_div) # TO VISUALISE\n"
   ]
  },
  {
   "cell_type": "code",
   "execution_count": null,
   "metadata": {},
   "outputs": [],
   "source": [
    "# how many male vs female vs other characters a fandom has on average"
   ]
  },
  {
   "cell_type": "code",
   "execution_count": null,
   "metadata": {},
   "outputs": [],
   "source": [
    "# how much racial diversity a fandom has on average \n",
    "# (how many groups, what percentage)"
   ]
  }
 ],
 "metadata": {
  "kernelspec": {
   "display_name": "venv",
   "language": "python",
   "name": "python3"
  },
  "language_info": {
   "codemirror_mode": {
    "name": "ipython",
    "version": 3
   },
   "file_extension": ".py",
   "mimetype": "text/x-python",
   "name": "python",
   "nbconvert_exporter": "python",
   "pygments_lexer": "ipython3",
   "version": "3.11.1"
  }
 },
 "nbformat": 4,
 "nbformat_minor": 2
}
