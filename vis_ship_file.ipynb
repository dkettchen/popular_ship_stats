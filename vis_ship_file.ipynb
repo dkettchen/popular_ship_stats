{
 "cells": [
  {
   "cell_type": "code",
   "execution_count": 1,
   "metadata": {},
   "outputs": [
    {
     "data": {
      "text/plain": [
       "Index(['slash_ship', 'gen_ship', 'members_no', 'fandom', 'rpf_or_fic',\n",
       "       'gender_combo', 'race_combo', 'member_1', 'member_2', 'member_3',\n",
       "       'member_4'],\n",
       "      dtype='object')"
      ]
     },
     "execution_count": 1,
     "metadata": {},
     "output_type": "execute_result"
    }
   ],
   "source": [
    "from src.util_functions.retrieve_data_from_csv import read_data_from_csv\n",
    "import pandas as pd\n",
    "\n",
    "# read from ships file\n",
    "ships_filepath = \"data/fifth_clean_up_data/stage_5_ships.csv\"\n",
    "ships_csv_data = read_data_from_csv(ships_filepath)\n",
    "\n",
    "# make a df\n",
    "ships_df = pd.DataFrame(ships_csv_data[1:], columns=ships_csv_data[0])\n",
    "ships_df.columns"
   ]
  },
  {
   "cell_type": "code",
   "execution_count": 32,
   "metadata": {},
   "outputs": [
    {
     "name": "stdout",
     "output_type": "stream",
     "text": [
      "total_num_of_ships    600\n",
      "dtype: int64\n",
      "                               count\n",
      "gender_combo                        \n",
      "F / Ambig                          1\n",
      "F / F | Other                      1\n",
      "F / M / M                          1\n",
      "F / Other                          1\n",
      "M | Other / Ambig                  1\n",
      "M | Other / M / M                  1\n",
      "M / Other                          1\n",
      "M | F | Other / M | F | Other      2\n",
      "F | Other / F | Other              7\n",
      "M / M | Other                      8\n",
      "M / Ambig                         17\n",
      "M / F                             85\n",
      "F / F                            192\n",
      "M / M                            282\n"
     ]
    }
   ],
   "source": [
    "#all ships gender combo percentages\n",
    "    #of which how many mlm vs het (incl x other) vs wlw\n",
    "\n",
    "total_ships = ships_df.copy().get([\"slash_ship\"]).count()\n",
    "total_ships = total_ships.rename(index={\"slash_ship\":\"total_num_of_ships\"})\n",
    "print(total_ships)\n",
    "\n",
    "total_gender_percentages = ships_df.copy().get([\"slash_ship\",\"gender_combo\"]).groupby(\"gender_combo\").count().rename(index={\n",
    "    \"F / M\": \"M / F\",\n",
    "    \"Ambig / M\": \"M / Ambig\",\n",
    "    \"Ambig / F\": \"F / Ambig\",\n",
    "    \"M | Other / M\": \"M / M | Other\"\n",
    "})\n",
    "total_gender_percentages = total_gender_percentages.groupby(total_gender_percentages.index).aggregate(\"sum\")\n",
    "total_gender_percentages = total_gender_percentages.rename(columns={\"slash_ship\": \"count\"}).sort_values(by=\"count\")\n",
    "\n",
    "print(total_gender_percentages) # TO VISUALISE\n",
    "\n",
    "gender_combos_we_recognise = { # for annotation reference!\n",
    "    \"F / Other\": \"owl house witches\",\n",
    "    \"F / F | Other\": \"sailor scouts\",\n",
    "    \"M / Other\": \"venom\",\n",
    "    \"M | Other / Ambig\" : \"loki x reader\",\n",
    "}"
   ]
  },
  {
   "cell_type": "code",
   "execution_count": 42,
   "metadata": {},
   "outputs": [
    {
     "data": {
      "application/vnd.plotly.v1+json": {
       "config": {
        "plotlyServerURL": "https://plot.ly"
       },
       "data": [
        {
         "marker": {
          "color": "darkolivegreen"
         },
         "text": "F / Ambig",
         "type": "bar",
         "x": [
          "ambiguous"
         ],
         "y": [
          1
         ]
        },
        {
         "marker": {
          "color": "red"
         },
         "text": "F / F | Other",
         "type": "bar",
         "x": [
          "wlw"
         ],
         "y": [
          1
         ]
        },
        {
         "marker": {
          "color": "silver"
         },
         "text": "F / M / M",
         "type": "bar",
         "x": [
          "non-same-sex"
         ],
         "y": [
          1
         ]
        },
        {
         "marker": {
          "color": "grey"
         },
         "text": "F / Other",
         "type": "bar",
         "x": [
          "non-same-sex"
         ],
         "y": [
          1
         ]
        },
        {
         "marker": {
          "color": "limegreen"
         },
         "text": "M | Other / Ambig",
         "type": "bar",
         "x": [
          "ambiguous"
         ],
         "y": [
          1
         ]
        },
        {
         "marker": {
          "color": "turquoise"
         },
         "text": "M | Other / M / M",
         "type": "bar",
         "x": [
          "mlm"
         ],
         "y": [
          1
         ]
        },
        {
         "marker": {
          "color": "gainsboro"
         },
         "text": "M / Other",
         "type": "bar",
         "x": [
          "non-same-sex"
         ],
         "y": [
          1
         ]
        },
        {
         "marker": {
          "color": "mediumseagreen"
         },
         "text": "M | F | Other / M | F | Other",
         "type": "bar",
         "x": [
          "ambiguous"
         ],
         "y": [
          2
         ]
        },
        {
         "marker": {
          "color": "orange"
         },
         "text": "F | Other / F | Other",
         "type": "bar",
         "x": [
          "wlw"
         ],
         "y": [
          7
         ]
        },
        {
         "marker": {
          "color": "azure"
         },
         "text": "M / M | Other",
         "type": "bar",
         "x": [
          "mlm"
         ],
         "y": [
          8
         ]
        },
        {
         "marker": {
          "color": "olive"
         },
         "text": "M / Ambig",
         "type": "bar",
         "x": [
          "ambiguous"
         ],
         "y": [
          17
         ]
        },
        {
         "marker": {
          "color": "black"
         },
         "text": "M / F",
         "type": "bar",
         "x": [
          "non-same-sex"
         ],
         "y": [
          85
         ]
        },
        {
         "marker": {
          "color": "tomato"
         },
         "text": "F / F",
         "type": "bar",
         "x": [
          "wlw"
         ],
         "y": [
          192
         ]
        },
        {
         "marker": {
          "color": "steelblue"
         },
         "text": "M / M",
         "type": "bar",
         "x": [
          "mlm"
         ],
         "y": [
          282
         ]
        }
       ],
       "layout": {
        "barmode": "stack",
        "showlegend": false,
        "template": {
         "data": {
          "bar": [
           {
            "error_x": {
             "color": "#2a3f5f"
            },
            "error_y": {
             "color": "#2a3f5f"
            },
            "marker": {
             "line": {
              "color": "#E5ECF6",
              "width": 0.5
             },
             "pattern": {
              "fillmode": "overlay",
              "size": 10,
              "solidity": 0.2
             }
            },
            "type": "bar"
           }
          ],
          "barpolar": [
           {
            "marker": {
             "line": {
              "color": "#E5ECF6",
              "width": 0.5
             },
             "pattern": {
              "fillmode": "overlay",
              "size": 10,
              "solidity": 0.2
             }
            },
            "type": "barpolar"
           }
          ],
          "carpet": [
           {
            "aaxis": {
             "endlinecolor": "#2a3f5f",
             "gridcolor": "white",
             "linecolor": "white",
             "minorgridcolor": "white",
             "startlinecolor": "#2a3f5f"
            },
            "baxis": {
             "endlinecolor": "#2a3f5f",
             "gridcolor": "white",
             "linecolor": "white",
             "minorgridcolor": "white",
             "startlinecolor": "#2a3f5f"
            },
            "type": "carpet"
           }
          ],
          "choropleth": [
           {
            "colorbar": {
             "outlinewidth": 0,
             "ticks": ""
            },
            "type": "choropleth"
           }
          ],
          "contour": [
           {
            "colorbar": {
             "outlinewidth": 0,
             "ticks": ""
            },
            "colorscale": [
             [
              0,
              "#0d0887"
             ],
             [
              0.1111111111111111,
              "#46039f"
             ],
             [
              0.2222222222222222,
              "#7201a8"
             ],
             [
              0.3333333333333333,
              "#9c179e"
             ],
             [
              0.4444444444444444,
              "#bd3786"
             ],
             [
              0.5555555555555556,
              "#d8576b"
             ],
             [
              0.6666666666666666,
              "#ed7953"
             ],
             [
              0.7777777777777778,
              "#fb9f3a"
             ],
             [
              0.8888888888888888,
              "#fdca26"
             ],
             [
              1,
              "#f0f921"
             ]
            ],
            "type": "contour"
           }
          ],
          "contourcarpet": [
           {
            "colorbar": {
             "outlinewidth": 0,
             "ticks": ""
            },
            "type": "contourcarpet"
           }
          ],
          "heatmap": [
           {
            "colorbar": {
             "outlinewidth": 0,
             "ticks": ""
            },
            "colorscale": [
             [
              0,
              "#0d0887"
             ],
             [
              0.1111111111111111,
              "#46039f"
             ],
             [
              0.2222222222222222,
              "#7201a8"
             ],
             [
              0.3333333333333333,
              "#9c179e"
             ],
             [
              0.4444444444444444,
              "#bd3786"
             ],
             [
              0.5555555555555556,
              "#d8576b"
             ],
             [
              0.6666666666666666,
              "#ed7953"
             ],
             [
              0.7777777777777778,
              "#fb9f3a"
             ],
             [
              0.8888888888888888,
              "#fdca26"
             ],
             [
              1,
              "#f0f921"
             ]
            ],
            "type": "heatmap"
           }
          ],
          "heatmapgl": [
           {
            "colorbar": {
             "outlinewidth": 0,
             "ticks": ""
            },
            "colorscale": [
             [
              0,
              "#0d0887"
             ],
             [
              0.1111111111111111,
              "#46039f"
             ],
             [
              0.2222222222222222,
              "#7201a8"
             ],
             [
              0.3333333333333333,
              "#9c179e"
             ],
             [
              0.4444444444444444,
              "#bd3786"
             ],
             [
              0.5555555555555556,
              "#d8576b"
             ],
             [
              0.6666666666666666,
              "#ed7953"
             ],
             [
              0.7777777777777778,
              "#fb9f3a"
             ],
             [
              0.8888888888888888,
              "#fdca26"
             ],
             [
              1,
              "#f0f921"
             ]
            ],
            "type": "heatmapgl"
           }
          ],
          "histogram": [
           {
            "marker": {
             "pattern": {
              "fillmode": "overlay",
              "size": 10,
              "solidity": 0.2
             }
            },
            "type": "histogram"
           }
          ],
          "histogram2d": [
           {
            "colorbar": {
             "outlinewidth": 0,
             "ticks": ""
            },
            "colorscale": [
             [
              0,
              "#0d0887"
             ],
             [
              0.1111111111111111,
              "#46039f"
             ],
             [
              0.2222222222222222,
              "#7201a8"
             ],
             [
              0.3333333333333333,
              "#9c179e"
             ],
             [
              0.4444444444444444,
              "#bd3786"
             ],
             [
              0.5555555555555556,
              "#d8576b"
             ],
             [
              0.6666666666666666,
              "#ed7953"
             ],
             [
              0.7777777777777778,
              "#fb9f3a"
             ],
             [
              0.8888888888888888,
              "#fdca26"
             ],
             [
              1,
              "#f0f921"
             ]
            ],
            "type": "histogram2d"
           }
          ],
          "histogram2dcontour": [
           {
            "colorbar": {
             "outlinewidth": 0,
             "ticks": ""
            },
            "colorscale": [
             [
              0,
              "#0d0887"
             ],
             [
              0.1111111111111111,
              "#46039f"
             ],
             [
              0.2222222222222222,
              "#7201a8"
             ],
             [
              0.3333333333333333,
              "#9c179e"
             ],
             [
              0.4444444444444444,
              "#bd3786"
             ],
             [
              0.5555555555555556,
              "#d8576b"
             ],
             [
              0.6666666666666666,
              "#ed7953"
             ],
             [
              0.7777777777777778,
              "#fb9f3a"
             ],
             [
              0.8888888888888888,
              "#fdca26"
             ],
             [
              1,
              "#f0f921"
             ]
            ],
            "type": "histogram2dcontour"
           }
          ],
          "mesh3d": [
           {
            "colorbar": {
             "outlinewidth": 0,
             "ticks": ""
            },
            "type": "mesh3d"
           }
          ],
          "parcoords": [
           {
            "line": {
             "colorbar": {
              "outlinewidth": 0,
              "ticks": ""
             }
            },
            "type": "parcoords"
           }
          ],
          "pie": [
           {
            "automargin": true,
            "type": "pie"
           }
          ],
          "scatter": [
           {
            "fillpattern": {
             "fillmode": "overlay",
             "size": 10,
             "solidity": 0.2
            },
            "type": "scatter"
           }
          ],
          "scatter3d": [
           {
            "line": {
             "colorbar": {
              "outlinewidth": 0,
              "ticks": ""
             }
            },
            "marker": {
             "colorbar": {
              "outlinewidth": 0,
              "ticks": ""
             }
            },
            "type": "scatter3d"
           }
          ],
          "scattercarpet": [
           {
            "marker": {
             "colorbar": {
              "outlinewidth": 0,
              "ticks": ""
             }
            },
            "type": "scattercarpet"
           }
          ],
          "scattergeo": [
           {
            "marker": {
             "colorbar": {
              "outlinewidth": 0,
              "ticks": ""
             }
            },
            "type": "scattergeo"
           }
          ],
          "scattergl": [
           {
            "marker": {
             "colorbar": {
              "outlinewidth": 0,
              "ticks": ""
             }
            },
            "type": "scattergl"
           }
          ],
          "scattermapbox": [
           {
            "marker": {
             "colorbar": {
              "outlinewidth": 0,
              "ticks": ""
             }
            },
            "type": "scattermapbox"
           }
          ],
          "scatterpolar": [
           {
            "marker": {
             "colorbar": {
              "outlinewidth": 0,
              "ticks": ""
             }
            },
            "type": "scatterpolar"
           }
          ],
          "scatterpolargl": [
           {
            "marker": {
             "colorbar": {
              "outlinewidth": 0,
              "ticks": ""
             }
            },
            "type": "scatterpolargl"
           }
          ],
          "scatterternary": [
           {
            "marker": {
             "colorbar": {
              "outlinewidth": 0,
              "ticks": ""
             }
            },
            "type": "scatterternary"
           }
          ],
          "surface": [
           {
            "colorbar": {
             "outlinewidth": 0,
             "ticks": ""
            },
            "colorscale": [
             [
              0,
              "#0d0887"
             ],
             [
              0.1111111111111111,
              "#46039f"
             ],
             [
              0.2222222222222222,
              "#7201a8"
             ],
             [
              0.3333333333333333,
              "#9c179e"
             ],
             [
              0.4444444444444444,
              "#bd3786"
             ],
             [
              0.5555555555555556,
              "#d8576b"
             ],
             [
              0.6666666666666666,
              "#ed7953"
             ],
             [
              0.7777777777777778,
              "#fb9f3a"
             ],
             [
              0.8888888888888888,
              "#fdca26"
             ],
             [
              1,
              "#f0f921"
             ]
            ],
            "type": "surface"
           }
          ],
          "table": [
           {
            "cells": {
             "fill": {
              "color": "#EBF0F8"
             },
             "line": {
              "color": "white"
             }
            },
            "header": {
             "fill": {
              "color": "#C8D4E3"
             },
             "line": {
              "color": "white"
             }
            },
            "type": "table"
           }
          ]
         },
         "layout": {
          "annotationdefaults": {
           "arrowcolor": "#2a3f5f",
           "arrowhead": 0,
           "arrowwidth": 1
          },
          "autotypenumbers": "strict",
          "coloraxis": {
           "colorbar": {
            "outlinewidth": 0,
            "ticks": ""
           }
          },
          "colorscale": {
           "diverging": [
            [
             0,
             "#8e0152"
            ],
            [
             0.1,
             "#c51b7d"
            ],
            [
             0.2,
             "#de77ae"
            ],
            [
             0.3,
             "#f1b6da"
            ],
            [
             0.4,
             "#fde0ef"
            ],
            [
             0.5,
             "#f7f7f7"
            ],
            [
             0.6,
             "#e6f5d0"
            ],
            [
             0.7,
             "#b8e186"
            ],
            [
             0.8,
             "#7fbc41"
            ],
            [
             0.9,
             "#4d9221"
            ],
            [
             1,
             "#276419"
            ]
           ],
           "sequential": [
            [
             0,
             "#0d0887"
            ],
            [
             0.1111111111111111,
             "#46039f"
            ],
            [
             0.2222222222222222,
             "#7201a8"
            ],
            [
             0.3333333333333333,
             "#9c179e"
            ],
            [
             0.4444444444444444,
             "#bd3786"
            ],
            [
             0.5555555555555556,
             "#d8576b"
            ],
            [
             0.6666666666666666,
             "#ed7953"
            ],
            [
             0.7777777777777778,
             "#fb9f3a"
            ],
            [
             0.8888888888888888,
             "#fdca26"
            ],
            [
             1,
             "#f0f921"
            ]
           ],
           "sequentialminus": [
            [
             0,
             "#0d0887"
            ],
            [
             0.1111111111111111,
             "#46039f"
            ],
            [
             0.2222222222222222,
             "#7201a8"
            ],
            [
             0.3333333333333333,
             "#9c179e"
            ],
            [
             0.4444444444444444,
             "#bd3786"
            ],
            [
             0.5555555555555556,
             "#d8576b"
            ],
            [
             0.6666666666666666,
             "#ed7953"
            ],
            [
             0.7777777777777778,
             "#fb9f3a"
            ],
            [
             0.8888888888888888,
             "#fdca26"
            ],
            [
             1,
             "#f0f921"
            ]
           ]
          },
          "colorway": [
           "#636efa",
           "#EF553B",
           "#00cc96",
           "#ab63fa",
           "#FFA15A",
           "#19d3f3",
           "#FF6692",
           "#B6E880",
           "#FF97FF",
           "#FECB52"
          ],
          "font": {
           "color": "#2a3f5f"
          },
          "geo": {
           "bgcolor": "white",
           "lakecolor": "white",
           "landcolor": "#E5ECF6",
           "showlakes": true,
           "showland": true,
           "subunitcolor": "white"
          },
          "hoverlabel": {
           "align": "left"
          },
          "hovermode": "closest",
          "mapbox": {
           "style": "light"
          },
          "paper_bgcolor": "white",
          "plot_bgcolor": "#E5ECF6",
          "polar": {
           "angularaxis": {
            "gridcolor": "white",
            "linecolor": "white",
            "ticks": ""
           },
           "bgcolor": "#E5ECF6",
           "radialaxis": {
            "gridcolor": "white",
            "linecolor": "white",
            "ticks": ""
           }
          },
          "scene": {
           "xaxis": {
            "backgroundcolor": "#E5ECF6",
            "gridcolor": "white",
            "gridwidth": 2,
            "linecolor": "white",
            "showbackground": true,
            "ticks": "",
            "zerolinecolor": "white"
           },
           "yaxis": {
            "backgroundcolor": "#E5ECF6",
            "gridcolor": "white",
            "gridwidth": 2,
            "linecolor": "white",
            "showbackground": true,
            "ticks": "",
            "zerolinecolor": "white"
           },
           "zaxis": {
            "backgroundcolor": "#E5ECF6",
            "gridcolor": "white",
            "gridwidth": 2,
            "linecolor": "white",
            "showbackground": true,
            "ticks": "",
            "zerolinecolor": "white"
           }
          },
          "shapedefaults": {
           "line": {
            "color": "#2a3f5f"
           }
          },
          "ternary": {
           "aaxis": {
            "gridcolor": "white",
            "linecolor": "white",
            "ticks": ""
           },
           "baxis": {
            "gridcolor": "white",
            "linecolor": "white",
            "ticks": ""
           },
           "bgcolor": "#E5ECF6",
           "caxis": {
            "gridcolor": "white",
            "linecolor": "white",
            "ticks": ""
           }
          },
          "title": {
           "x": 0.05
          },
          "xaxis": {
           "automargin": true,
           "gridcolor": "white",
           "linecolor": "white",
           "ticks": "",
           "title": {
            "standoff": 15
           },
           "zerolinecolor": "white",
           "zerolinewidth": 2
          },
          "yaxis": {
           "automargin": true,
           "gridcolor": "white",
           "linecolor": "white",
           "ticks": "",
           "title": {
            "standoff": 15
           },
           "zerolinecolor": "white",
           "zerolinewidth": 2
          }
         }
        },
        "title": {
         "text": "Gender combinations of all ranked ships (incl. femslash ranking) - ao3 2013-2023"
        }
       }
      },
      "text/html": [
       "<div>                            <div id=\"bd907cda-311e-41c2-b5e0-6da611cf9d7f\" class=\"plotly-graph-div\" style=\"height:525px; width:100%;\"></div>            <script type=\"text/javascript\">                require([\"plotly\"], function(Plotly) {                    window.PLOTLYENV=window.PLOTLYENV || {};                                    if (document.getElementById(\"bd907cda-311e-41c2-b5e0-6da611cf9d7f\")) {                    Plotly.newPlot(                        \"bd907cda-311e-41c2-b5e0-6da611cf9d7f\",                        [{\"marker\":{\"color\":\"darkolivegreen\"},\"text\":\"F \\u002f Ambig\",\"x\":[\"ambiguous\"],\"y\":[1],\"type\":\"bar\"},{\"marker\":{\"color\":\"red\"},\"text\":\"F \\u002f F | Other\",\"x\":[\"wlw\"],\"y\":[1],\"type\":\"bar\"},{\"marker\":{\"color\":\"silver\"},\"text\":\"F \\u002f M \\u002f M\",\"x\":[\"non-same-sex\"],\"y\":[1],\"type\":\"bar\"},{\"marker\":{\"color\":\"grey\"},\"text\":\"F \\u002f Other\",\"x\":[\"non-same-sex\"],\"y\":[1],\"type\":\"bar\"},{\"marker\":{\"color\":\"limegreen\"},\"text\":\"M | Other \\u002f Ambig\",\"x\":[\"ambiguous\"],\"y\":[1],\"type\":\"bar\"},{\"marker\":{\"color\":\"turquoise\"},\"text\":\"M | Other \\u002f M \\u002f M\",\"x\":[\"mlm\"],\"y\":[1],\"type\":\"bar\"},{\"marker\":{\"color\":\"gainsboro\"},\"text\":\"M \\u002f Other\",\"x\":[\"non-same-sex\"],\"y\":[1],\"type\":\"bar\"},{\"marker\":{\"color\":\"mediumseagreen\"},\"text\":\"M | F | Other \\u002f M | F | Other\",\"x\":[\"ambiguous\"],\"y\":[2],\"type\":\"bar\"},{\"marker\":{\"color\":\"orange\"},\"text\":\"F | Other \\u002f F | Other\",\"x\":[\"wlw\"],\"y\":[7],\"type\":\"bar\"},{\"marker\":{\"color\":\"azure\"},\"text\":\"M \\u002f M | Other\",\"x\":[\"mlm\"],\"y\":[8],\"type\":\"bar\"},{\"marker\":{\"color\":\"olive\"},\"text\":\"M \\u002f Ambig\",\"x\":[\"ambiguous\"],\"y\":[17],\"type\":\"bar\"},{\"marker\":{\"color\":\"black\"},\"text\":\"M \\u002f F\",\"x\":[\"non-same-sex\"],\"y\":[85],\"type\":\"bar\"},{\"marker\":{\"color\":\"tomato\"},\"text\":\"F \\u002f F\",\"x\":[\"wlw\"],\"y\":[192],\"type\":\"bar\"},{\"marker\":{\"color\":\"steelblue\"},\"text\":\"M \\u002f M\",\"x\":[\"mlm\"],\"y\":[282],\"type\":\"bar\"}],                        {\"template\":{\"data\":{\"histogram2dcontour\":[{\"type\":\"histogram2dcontour\",\"colorbar\":{\"outlinewidth\":0,\"ticks\":\"\"},\"colorscale\":[[0.0,\"#0d0887\"],[0.1111111111111111,\"#46039f\"],[0.2222222222222222,\"#7201a8\"],[0.3333333333333333,\"#9c179e\"],[0.4444444444444444,\"#bd3786\"],[0.5555555555555556,\"#d8576b\"],[0.6666666666666666,\"#ed7953\"],[0.7777777777777778,\"#fb9f3a\"],[0.8888888888888888,\"#fdca26\"],[1.0,\"#f0f921\"]]}],\"choropleth\":[{\"type\":\"choropleth\",\"colorbar\":{\"outlinewidth\":0,\"ticks\":\"\"}}],\"histogram2d\":[{\"type\":\"histogram2d\",\"colorbar\":{\"outlinewidth\":0,\"ticks\":\"\"},\"colorscale\":[[0.0,\"#0d0887\"],[0.1111111111111111,\"#46039f\"],[0.2222222222222222,\"#7201a8\"],[0.3333333333333333,\"#9c179e\"],[0.4444444444444444,\"#bd3786\"],[0.5555555555555556,\"#d8576b\"],[0.6666666666666666,\"#ed7953\"],[0.7777777777777778,\"#fb9f3a\"],[0.8888888888888888,\"#fdca26\"],[1.0,\"#f0f921\"]]}],\"heatmap\":[{\"type\":\"heatmap\",\"colorbar\":{\"outlinewidth\":0,\"ticks\":\"\"},\"colorscale\":[[0.0,\"#0d0887\"],[0.1111111111111111,\"#46039f\"],[0.2222222222222222,\"#7201a8\"],[0.3333333333333333,\"#9c179e\"],[0.4444444444444444,\"#bd3786\"],[0.5555555555555556,\"#d8576b\"],[0.6666666666666666,\"#ed7953\"],[0.7777777777777778,\"#fb9f3a\"],[0.8888888888888888,\"#fdca26\"],[1.0,\"#f0f921\"]]}],\"heatmapgl\":[{\"type\":\"heatmapgl\",\"colorbar\":{\"outlinewidth\":0,\"ticks\":\"\"},\"colorscale\":[[0.0,\"#0d0887\"],[0.1111111111111111,\"#46039f\"],[0.2222222222222222,\"#7201a8\"],[0.3333333333333333,\"#9c179e\"],[0.4444444444444444,\"#bd3786\"],[0.5555555555555556,\"#d8576b\"],[0.6666666666666666,\"#ed7953\"],[0.7777777777777778,\"#fb9f3a\"],[0.8888888888888888,\"#fdca26\"],[1.0,\"#f0f921\"]]}],\"contourcarpet\":[{\"type\":\"contourcarpet\",\"colorbar\":{\"outlinewidth\":0,\"ticks\":\"\"}}],\"contour\":[{\"type\":\"contour\",\"colorbar\":{\"outlinewidth\":0,\"ticks\":\"\"},\"colorscale\":[[0.0,\"#0d0887\"],[0.1111111111111111,\"#46039f\"],[0.2222222222222222,\"#7201a8\"],[0.3333333333333333,\"#9c179e\"],[0.4444444444444444,\"#bd3786\"],[0.5555555555555556,\"#d8576b\"],[0.6666666666666666,\"#ed7953\"],[0.7777777777777778,\"#fb9f3a\"],[0.8888888888888888,\"#fdca26\"],[1.0,\"#f0f921\"]]}],\"surface\":[{\"type\":\"surface\",\"colorbar\":{\"outlinewidth\":0,\"ticks\":\"\"},\"colorscale\":[[0.0,\"#0d0887\"],[0.1111111111111111,\"#46039f\"],[0.2222222222222222,\"#7201a8\"],[0.3333333333333333,\"#9c179e\"],[0.4444444444444444,\"#bd3786\"],[0.5555555555555556,\"#d8576b\"],[0.6666666666666666,\"#ed7953\"],[0.7777777777777778,\"#fb9f3a\"],[0.8888888888888888,\"#fdca26\"],[1.0,\"#f0f921\"]]}],\"mesh3d\":[{\"type\":\"mesh3d\",\"colorbar\":{\"outlinewidth\":0,\"ticks\":\"\"}}],\"scatter\":[{\"fillpattern\":{\"fillmode\":\"overlay\",\"size\":10,\"solidity\":0.2},\"type\":\"scatter\"}],\"parcoords\":[{\"type\":\"parcoords\",\"line\":{\"colorbar\":{\"outlinewidth\":0,\"ticks\":\"\"}}}],\"scatterpolargl\":[{\"type\":\"scatterpolargl\",\"marker\":{\"colorbar\":{\"outlinewidth\":0,\"ticks\":\"\"}}}],\"bar\":[{\"error_x\":{\"color\":\"#2a3f5f\"},\"error_y\":{\"color\":\"#2a3f5f\"},\"marker\":{\"line\":{\"color\":\"#E5ECF6\",\"width\":0.5},\"pattern\":{\"fillmode\":\"overlay\",\"size\":10,\"solidity\":0.2}},\"type\":\"bar\"}],\"scattergeo\":[{\"type\":\"scattergeo\",\"marker\":{\"colorbar\":{\"outlinewidth\":0,\"ticks\":\"\"}}}],\"scatterpolar\":[{\"type\":\"scatterpolar\",\"marker\":{\"colorbar\":{\"outlinewidth\":0,\"ticks\":\"\"}}}],\"histogram\":[{\"marker\":{\"pattern\":{\"fillmode\":\"overlay\",\"size\":10,\"solidity\":0.2}},\"type\":\"histogram\"}],\"scattergl\":[{\"type\":\"scattergl\",\"marker\":{\"colorbar\":{\"outlinewidth\":0,\"ticks\":\"\"}}}],\"scatter3d\":[{\"type\":\"scatter3d\",\"line\":{\"colorbar\":{\"outlinewidth\":0,\"ticks\":\"\"}},\"marker\":{\"colorbar\":{\"outlinewidth\":0,\"ticks\":\"\"}}}],\"scattermapbox\":[{\"type\":\"scattermapbox\",\"marker\":{\"colorbar\":{\"outlinewidth\":0,\"ticks\":\"\"}}}],\"scatterternary\":[{\"type\":\"scatterternary\",\"marker\":{\"colorbar\":{\"outlinewidth\":0,\"ticks\":\"\"}}}],\"scattercarpet\":[{\"type\":\"scattercarpet\",\"marker\":{\"colorbar\":{\"outlinewidth\":0,\"ticks\":\"\"}}}],\"carpet\":[{\"aaxis\":{\"endlinecolor\":\"#2a3f5f\",\"gridcolor\":\"white\",\"linecolor\":\"white\",\"minorgridcolor\":\"white\",\"startlinecolor\":\"#2a3f5f\"},\"baxis\":{\"endlinecolor\":\"#2a3f5f\",\"gridcolor\":\"white\",\"linecolor\":\"white\",\"minorgridcolor\":\"white\",\"startlinecolor\":\"#2a3f5f\"},\"type\":\"carpet\"}],\"table\":[{\"cells\":{\"fill\":{\"color\":\"#EBF0F8\"},\"line\":{\"color\":\"white\"}},\"header\":{\"fill\":{\"color\":\"#C8D4E3\"},\"line\":{\"color\":\"white\"}},\"type\":\"table\"}],\"barpolar\":[{\"marker\":{\"line\":{\"color\":\"#E5ECF6\",\"width\":0.5},\"pattern\":{\"fillmode\":\"overlay\",\"size\":10,\"solidity\":0.2}},\"type\":\"barpolar\"}],\"pie\":[{\"automargin\":true,\"type\":\"pie\"}]},\"layout\":{\"autotypenumbers\":\"strict\",\"colorway\":[\"#636efa\",\"#EF553B\",\"#00cc96\",\"#ab63fa\",\"#FFA15A\",\"#19d3f3\",\"#FF6692\",\"#B6E880\",\"#FF97FF\",\"#FECB52\"],\"font\":{\"color\":\"#2a3f5f\"},\"hovermode\":\"closest\",\"hoverlabel\":{\"align\":\"left\"},\"paper_bgcolor\":\"white\",\"plot_bgcolor\":\"#E5ECF6\",\"polar\":{\"bgcolor\":\"#E5ECF6\",\"angularaxis\":{\"gridcolor\":\"white\",\"linecolor\":\"white\",\"ticks\":\"\"},\"radialaxis\":{\"gridcolor\":\"white\",\"linecolor\":\"white\",\"ticks\":\"\"}},\"ternary\":{\"bgcolor\":\"#E5ECF6\",\"aaxis\":{\"gridcolor\":\"white\",\"linecolor\":\"white\",\"ticks\":\"\"},\"baxis\":{\"gridcolor\":\"white\",\"linecolor\":\"white\",\"ticks\":\"\"},\"caxis\":{\"gridcolor\":\"white\",\"linecolor\":\"white\",\"ticks\":\"\"}},\"coloraxis\":{\"colorbar\":{\"outlinewidth\":0,\"ticks\":\"\"}},\"colorscale\":{\"sequential\":[[0.0,\"#0d0887\"],[0.1111111111111111,\"#46039f\"],[0.2222222222222222,\"#7201a8\"],[0.3333333333333333,\"#9c179e\"],[0.4444444444444444,\"#bd3786\"],[0.5555555555555556,\"#d8576b\"],[0.6666666666666666,\"#ed7953\"],[0.7777777777777778,\"#fb9f3a\"],[0.8888888888888888,\"#fdca26\"],[1.0,\"#f0f921\"]],\"sequentialminus\":[[0.0,\"#0d0887\"],[0.1111111111111111,\"#46039f\"],[0.2222222222222222,\"#7201a8\"],[0.3333333333333333,\"#9c179e\"],[0.4444444444444444,\"#bd3786\"],[0.5555555555555556,\"#d8576b\"],[0.6666666666666666,\"#ed7953\"],[0.7777777777777778,\"#fb9f3a\"],[0.8888888888888888,\"#fdca26\"],[1.0,\"#f0f921\"]],\"diverging\":[[0,\"#8e0152\"],[0.1,\"#c51b7d\"],[0.2,\"#de77ae\"],[0.3,\"#f1b6da\"],[0.4,\"#fde0ef\"],[0.5,\"#f7f7f7\"],[0.6,\"#e6f5d0\"],[0.7,\"#b8e186\"],[0.8,\"#7fbc41\"],[0.9,\"#4d9221\"],[1,\"#276419\"]]},\"xaxis\":{\"gridcolor\":\"white\",\"linecolor\":\"white\",\"ticks\":\"\",\"title\":{\"standoff\":15},\"zerolinecolor\":\"white\",\"automargin\":true,\"zerolinewidth\":2},\"yaxis\":{\"gridcolor\":\"white\",\"linecolor\":\"white\",\"ticks\":\"\",\"title\":{\"standoff\":15},\"zerolinecolor\":\"white\",\"automargin\":true,\"zerolinewidth\":2},\"scene\":{\"xaxis\":{\"backgroundcolor\":\"#E5ECF6\",\"gridcolor\":\"white\",\"linecolor\":\"white\",\"showbackground\":true,\"ticks\":\"\",\"zerolinecolor\":\"white\",\"gridwidth\":2},\"yaxis\":{\"backgroundcolor\":\"#E5ECF6\",\"gridcolor\":\"white\",\"linecolor\":\"white\",\"showbackground\":true,\"ticks\":\"\",\"zerolinecolor\":\"white\",\"gridwidth\":2},\"zaxis\":{\"backgroundcolor\":\"#E5ECF6\",\"gridcolor\":\"white\",\"linecolor\":\"white\",\"showbackground\":true,\"ticks\":\"\",\"zerolinecolor\":\"white\",\"gridwidth\":2}},\"shapedefaults\":{\"line\":{\"color\":\"#2a3f5f\"}},\"annotationdefaults\":{\"arrowcolor\":\"#2a3f5f\",\"arrowhead\":0,\"arrowwidth\":1},\"geo\":{\"bgcolor\":\"white\",\"landcolor\":\"#E5ECF6\",\"subunitcolor\":\"white\",\"showland\":true,\"showlakes\":true,\"lakecolor\":\"white\"},\"title\":{\"x\":0.05},\"mapbox\":{\"style\":\"light\"}}},\"barmode\":\"stack\",\"showlegend\":false,\"title\":{\"text\":\"Gender combinations of all ranked ships (incl. femslash ranking) - ao3 2013-2023\"}},                        {\"responsive\": true}                    ).then(function(){\n",
       "                            \n",
       "var gd = document.getElementById('bd907cda-311e-41c2-b5e0-6da611cf9d7f');\n",
       "var x = new MutationObserver(function (mutations, observer) {{\n",
       "        var display = window.getComputedStyle(gd).display;\n",
       "        if (!display || display === 'none') {{\n",
       "            console.log([gd, 'removed!']);\n",
       "            Plotly.purge(gd);\n",
       "            observer.disconnect();\n",
       "        }}\n",
       "}});\n",
       "\n",
       "// Listen for the removal of the full notebook cells\n",
       "var notebookContainer = gd.closest('#notebook-container');\n",
       "if (notebookContainer) {{\n",
       "    x.observe(notebookContainer, {childList: true});\n",
       "}}\n",
       "\n",
       "// Listen for the clearing of the current output cell\n",
       "var outputEl = gd.closest('.output');\n",
       "if (outputEl) {{\n",
       "    x.observe(outputEl, {childList: true});\n",
       "}}\n",
       "\n",
       "                        })                };                });            </script>        </div>"
      ]
     },
     "metadata": {},
     "output_type": "display_data"
    }
   ],
   "source": [
    "# visualising gender stacks\n",
    "\n",
    "import plotly.graph_objects as go\n",
    "from plotly.subplots import make_subplots\n",
    "\n",
    "gender_combo_fig=go.Figure()\n",
    "\n",
    "fem_stack = [\"F / F\",\"F | Other / F | Other\", \"F / F | Other\",]\n",
    "masc_stack = [\"M / M\", \"M / M | Other\",\"M | Other / M / M\",]\n",
    "het_stack = [\"M / F\",\"F / Other\",\"M / Other\",\"F / M / M\"]\n",
    "ambig_gender_stack = [\"M / Ambig\",\"M | Other / Ambig\", \"F / Ambig\",\"M | F | Other / M | F | Other\"]\n",
    "\n",
    "wlw_count = 0\n",
    "mlm_count = 0\n",
    "het_count = 0\n",
    "ambig_count = 0\n",
    "\n",
    "for combo in list(total_gender_percentages.index):\n",
    "    if combo in fem_stack:\n",
    "        label = \"wlw\"\n",
    "        colours = [\"red\", \"orange\", \"tomato\"]\n",
    "        colour = colours[wlw_count]\n",
    "        wlw_count += 1\n",
    "    elif combo in masc_stack:\n",
    "        label = \"mlm\"\n",
    "        colours = [\"turquoise\", \"azure\", \"steelblue\"]\n",
    "        colour = colours[mlm_count]\n",
    "        mlm_count += 1\n",
    "    elif combo in het_stack:\n",
    "        label = \"non-same-sex\"\n",
    "        colours = [\"silver\", \"grey\", \"gainsboro\", \"black\"]\n",
    "        colour = colours[het_count]\n",
    "        het_count += 1\n",
    "    elif combo in ambig_gender_stack:\n",
    "        label = \"ambiguous\"\n",
    "        colours = [\"darkolivegreen\", \"limegreen\", \"mediumseagreen\", \"olive\"]\n",
    "        colour = colours[ambig_count]\n",
    "        ambig_count += 1\n",
    "    else: \n",
    "        print(combo)\n",
    "    gender_combo_fig.add_trace(\n",
    "        go.Bar(\n",
    "            x=[label],\n",
    "            y=total_gender_percentages.loc[combo],\n",
    "            text=combo,\n",
    "            marker_color=colour\n",
    "        )\n",
    "    )\n",
    "\n",
    "gender_combo_fig.update_layout(\n",
    "    barmode='stack', \n",
    "    showlegend=False, \n",
    "    title=\"Gender combinations of all ranked ships (incl. femslash ranking) - ao3 2013-2023\"\n",
    ")\n",
    "\n",
    "gender_combo_fig.show()"
   ]
  },
  {
   "cell_type": "code",
   "execution_count": 59,
   "metadata": {},
   "outputs": [
    {
     "name": "stdout",
     "output_type": "stream",
     "text": [
      "fandom\n",
      "Marvel                                               33.0\n",
      "Youtube                                              24.0\n",
      "Harry Potter Universe                                21.0\n",
      "DC                                                   20.0\n",
      "Homestuck                                            15.0\n",
      "Genshin Impact | 原神                                  14.0\n",
      "Supernatural                                         14.0\n",
      "My Hero Academia | 僕のヒーローアカデミア                       14.0\n",
      "Teen Wolf                                            13.0\n",
      "Bangtan Boys / BTS                                   11.0\n",
      "Stranger Things                                      11.0\n",
      "Star Wars                                            10.0\n",
      "Dragon Age                                           10.0\n",
      "A Song of Ice and Fire / Game of Thrones Universe     9.0\n",
      "Glee                                                  9.0\n",
      "Name: slash_ship, dtype: float64\n"
     ]
    }
   ],
   "source": [
    "#marketshare of fandoms (how many ships?)\n",
    "\n",
    "ships_per_fandom = ships_df.copy().get([\"fandom\", \"slash_ship\", \"gender_combo\", \"race_combo\"])\n",
    "\n",
    "fandom_market_share = ships_per_fandom.groupby(\"fandom\").count()\n",
    "fandom_market_share = fandom_market_share.where(\n",
    "    (fandom_market_share[\"slash_ship\"] / 600) >= 0.01\n",
    ")[\"slash_ship\"].sort_values(ascending=False)\n",
    "# TO VISUALISE!\n",
    "\n",
    "ships_per_fandom = ships_per_fandom.join(\n",
    "    other=fandom_market_share, \n",
    "    on=ships_per_fandom.fandom, \n",
    "    how=\"inner\", \n",
    "    rsuffix=\"_count\"\n",
    ").rename(\n",
    "    columns={\"slash_ship_count\": \"total_ships\"}\n",
    ")\n",
    "ships_per_fandom.pop(\"key_0\")\n",
    "\n",
    "\n",
    "print(fandom_market_share.head(15))"
   ]
  },
  {
   "cell_type": "code",
   "execution_count": 103,
   "metadata": {},
   "outputs": [
    {
     "data": {
      "application/vnd.plotly.v1+json": {
       "config": {
        "plotlyServerURL": "https://plot.ly"
       },
       "data": [
        {
         "automargin": false,
         "insidetextorientation": "horizontal",
         "labels": [
          "Marvel",
          "Youtube",
          "Harry Potter Universe",
          "DC",
          "Homestuck",
          "Genshin Impact | 原神",
          "Supernatural",
          "My Hero Academia | 僕のヒーローアカデミア",
          "Teen Wolf",
          "Bangtan Boys / BTS",
          "Stranger Things",
          "Star Wars",
          "Dragon Age",
          "A Song of Ice and Fire / Game of Thrones Universe",
          "Glee",
          "Doctor Who",
          "Haikyuu!! | ハイキュー!!",
          "Sherlock",
          "The 100",
          "One Direction",
          "Buffy Universe",
          "Steven Universe",
          "Once Upon a Time",
          "Overwatch",
          "Star Trek",
          "5 Seconds of Summer",
          "9-1-1",
          "Adam Lambert",
          "Addam's Family Universe",
          "Adventure Time",
          "All For The Game",
          "American Horror Story",
          "Amphibia",
          "Arcane",
          "Attack on Titan | 進撃の巨人",
          "Avatar: The last Airbender Universe",
          "BLUELOCK | ブルーロック",
          "Battlestar Galactica",
          "Be More Chill",
          "Bridgerton",
          "Bungou Stray Dogs | 文豪ストレイドッグス",
          "Call of Duty",
          "Carmilla",
          "Carol",
          "Carry On",
          "Castle",
          "Check Please!",
          "Chilling Adventures of Sabrina",
          "Criminal Minds",
          "Critical Role",
          "Dangan Ronpa",
          "Descendants",
          "Detroit: Become Human",
          "Drag",
          "Due South",
          "EXO",
          "Emmerdale",
          "Faking It",
          "Fall Out Boy",
          "Fifth Harmony",
          "Figure Skating",
          "Final Fantasy | ファイナルファンタジー",
          "Fire Emblem | ファイアーエムブレム",
          "Free!",
          "Frozen",
          "Fullmetal Alchemist | 鋼の錬金術師",
          "Generation Kill",
          "Ghostbusters",
          "Girl Meets World",
          "Good Omens",
          "Grandmaster of Demonic Cultivation / The Untamed | 魔道祖师 / 陈情令",
          "Gravity Falls",
          "Grey's Anatomy",
          "Hamilton",
          "Hannibal",
          "Hatsune Miku / ボーカロイド | 初音ミク",
          "Hawaii Five-0",
          "Hazbin Hotel",
          "Heartstopper",
          "Heaven Official's Blessing | 天官赐福",
          "Hetalia | ヘタリア",
          "Highlander",
          "Hockey",
          "Holby City",
          "House M.D.",
          "Hunger Games / Panem Universe",
          "IT",
          "Inception",
          "James Bond Universe",
          "JoJo's Bizarre Adventure | ジョジョの奇妙な冒険",
          "Journey to the West Universe",
          "Jujutsu Kaisen | 呪術廻戦",
          "Julie and The Phantoms",
          "KAT-TUN",
          "Kill la Kill | キルラキル",
          "Killing Eve",
          "Kim Possible",
          "Kingdom Hearts",
          "Kingsman",
          "KinnPorsche | คินน์พอร์ช เดอะ ซีรีส์",
          "Law & Order",
          "Legend of the Seeker",
          "Les Misérables",
          "Life Is Strange",
          "Life on Mars",
          "Little Witch Academia | リトルウィッチアカデミア",
          "Lizzie Bennet Diaries",
          "Lockwood & Co.",
          "Lord of the Rings Universe",
          "Lost Girl",
          "Love Live! | ラブライブ!",
          "Lucifer",
          "MIRROR",
          "Maleficent",
          "Mass Effect",
          "Merlin",
          "Miraculous: Tales of Ladybug & Cat Noir | Miraculous: Les Aventures de Ladybug et Chat Noir",
          "Mobile Suit Gundam Wing | 新機動戦記ガンダム W",
          "Motherland",
          "My Chemical Romance",
          "NCIS",
          "NCT",
          "Naruto",
          "New Gods | 新神榜",
          "Omniscient Reader | 전지적 독자 시점",
          "One Piece | ワンピース",
          "One-Punch Man | ワンパンマン",
          "Orange is the New Black",
          "Orphan Black",
          "Our Flag Means Death",
          "Pacific Rim",
          "Panic! at the Disco",
          "Percy Jackson",
          "Person of Interest",
          "Persona",
          "Pitch Perfect",
          "Power Rangers",
          "Pretty Guardian Sailor Moon | 美少女戦士セーラームーン",
          "Puella Magi Madoka Magica | 魔法少女まどか☆マギカ",
          "Queer as Folk",
          "RWBY",
          "Raven Cycle",
          "Red Velvet",
          "Riverdale",
          "Rizzoli & Isles",
          "Rookie Blue",
          "Roswell New Mexico",
          "SK8 the Infinity | SK∞ エスケーエイト",
          "SKAM",
          "Sanders Sides",
          "Schitt's Creek",
          "Seraph of the End | 終わりのセラフ",
          "Shadow and Bone",
          "Shadowhunters | Mortal Instruments",
          "Shameless",
          "She-Ra and the Princesses of Power",
          "Six of Crows",
          "Skins",
          "South Park",
          "Spartacus",
          "Stargate",
          "Starsky & Hutch",
          "Station 19",
          "Stray Kids",
          "Suits",
          "Super-Vocal | 声入人心",
          "TOMORROW X TOGETHER / TXT",
          "Teenage Mutant Ninja Turtles",
          "The Big Bang Theory",
          "The Closer",
          "The Devil Wears Prada",
          "The Good Wife",
          "The Haunting of Bly Manor",
          "The Last of Us",
          "The Locked Tomb / Gideon the Ninth",
          "The Magnus Archives",
          "The Man From U.N.C.L.E.",
          "The Old Guard",
          "The Owl House",
          "The Professionals",
          "The Rookie",
          "The Sandman",
          "The Sentinel",
          "The Walking Dead",
          "The Wilds",
          "The Witcher | Wiedźmin",
          "The X-Files",
          "Tokyo Ghoul | 東京喰種",
          "Tokyo Revengers | 東京卍リベンジャーズ",
          "Top Gun",
          "Torchwood",
          "Trigun Universe | トライガン",
          "Twenty One Pilots",
          "Twilight",
          "Undertale",
          "Vampire Diaries Universe",
          "Victorious",
          "Voltron",
          "Warehouse 13",
          "Warrior Nun",
          "Welcome to Night Vale",
          "Wentworth",
          "White Collar",
          "Women's Soccer",
          "Word of Honor | 山河令",
          "Wynonna Earp",
          "Xena",
          "Young Royals",
          "Yuri!!! on ICE | ユーリ!!! on ICE"
         ],
         "marker": {
          "colors": [
           "crimson",
           "red",
           "green",
           "dodgerblue",
           "orange",
           "gold",
           "rgb(127, 60, 141)",
           "rgb(17, 165, 121)",
           "rgb(57, 105, 172)",
           "rgb(242, 183, 1)",
           "rgb(231, 63, 116)",
           "rgb(128, 186, 90)",
           "rgb(230, 131, 16)",
           "rgb(0, 134, 149)",
           "rgb(207, 28, 144)",
           "rgb(249, 123, 114)",
           "rgb(165, 170, 153)",
           "rgb(127, 60, 141)",
           "rgb(17, 165, 121)",
           "rgb(57, 105, 172)",
           "rgb(242, 183, 1)",
           "rgb(231, 63, 116)",
           "rgb(128, 186, 90)",
           "rgb(230, 131, 16)",
           "rgb(0, 134, 149)",
           "rgb(207, 28, 144)",
           "rgb(249, 123, 114)",
           "rgb(165, 170, 153)"
          ]
         },
         "textinfo": "label",
         "type": "pie",
         "values": [
          33,
          24,
          21,
          20,
          15,
          14,
          14,
          14,
          13,
          11,
          11,
          10,
          10,
          9,
          9,
          9,
          8,
          8,
          8,
          8,
          7,
          7,
          6,
          6,
          6,
          null,
          null,
          null,
          null,
          null,
          null,
          null,
          null,
          null,
          null,
          null,
          null,
          null,
          null,
          null,
          null,
          null,
          null,
          null,
          null,
          null,
          null,
          null,
          null,
          null,
          null,
          null,
          null,
          null,
          null,
          null,
          null,
          null,
          null,
          null,
          null,
          null,
          null,
          null,
          null,
          null,
          null,
          null,
          null,
          null,
          null,
          null,
          null,
          null,
          null,
          null,
          null,
          null,
          null,
          null,
          null,
          null,
          null,
          null,
          null,
          null,
          null,
          null,
          null,
          null,
          null,
          null,
          null,
          null,
          null,
          null,
          null,
          null,
          null,
          null,
          null,
          null,
          null,
          null,
          null,
          null,
          null,
          null,
          null,
          null,
          null,
          null,
          null,
          null,
          null,
          null,
          null,
          null,
          null,
          null,
          null,
          null,
          null,
          null,
          null,
          null,
          null,
          null,
          null,
          null,
          null,
          null,
          null,
          null,
          null,
          null,
          null,
          null,
          null,
          null,
          null,
          null,
          null,
          null,
          null,
          null,
          null,
          null,
          null,
          null,
          null,
          null,
          null,
          null,
          null,
          null,
          null,
          null,
          null,
          null,
          null,
          null,
          null,
          null,
          null,
          null,
          null,
          null,
          null,
          null,
          null,
          null,
          null,
          null,
          null,
          null,
          null,
          null,
          null,
          null,
          null,
          null,
          null,
          null,
          null,
          null,
          null,
          null,
          null,
          null,
          null,
          null,
          null,
          null,
          null,
          null,
          null,
          null,
          null,
          null,
          null,
          null,
          null,
          null,
          null,
          null,
          null,
          null,
          null
         ]
        }
       ],
       "layout": {
        "showlegend": false,
        "template": {
         "data": {
          "bar": [
           {
            "error_x": {
             "color": "#2a3f5f"
            },
            "error_y": {
             "color": "#2a3f5f"
            },
            "marker": {
             "line": {
              "color": "#E5ECF6",
              "width": 0.5
             },
             "pattern": {
              "fillmode": "overlay",
              "size": 10,
              "solidity": 0.2
             }
            },
            "type": "bar"
           }
          ],
          "barpolar": [
           {
            "marker": {
             "line": {
              "color": "#E5ECF6",
              "width": 0.5
             },
             "pattern": {
              "fillmode": "overlay",
              "size": 10,
              "solidity": 0.2
             }
            },
            "type": "barpolar"
           }
          ],
          "carpet": [
           {
            "aaxis": {
             "endlinecolor": "#2a3f5f",
             "gridcolor": "white",
             "linecolor": "white",
             "minorgridcolor": "white",
             "startlinecolor": "#2a3f5f"
            },
            "baxis": {
             "endlinecolor": "#2a3f5f",
             "gridcolor": "white",
             "linecolor": "white",
             "minorgridcolor": "white",
             "startlinecolor": "#2a3f5f"
            },
            "type": "carpet"
           }
          ],
          "choropleth": [
           {
            "colorbar": {
             "outlinewidth": 0,
             "ticks": ""
            },
            "type": "choropleth"
           }
          ],
          "contour": [
           {
            "colorbar": {
             "outlinewidth": 0,
             "ticks": ""
            },
            "colorscale": [
             [
              0,
              "#0d0887"
             ],
             [
              0.1111111111111111,
              "#46039f"
             ],
             [
              0.2222222222222222,
              "#7201a8"
             ],
             [
              0.3333333333333333,
              "#9c179e"
             ],
             [
              0.4444444444444444,
              "#bd3786"
             ],
             [
              0.5555555555555556,
              "#d8576b"
             ],
             [
              0.6666666666666666,
              "#ed7953"
             ],
             [
              0.7777777777777778,
              "#fb9f3a"
             ],
             [
              0.8888888888888888,
              "#fdca26"
             ],
             [
              1,
              "#f0f921"
             ]
            ],
            "type": "contour"
           }
          ],
          "contourcarpet": [
           {
            "colorbar": {
             "outlinewidth": 0,
             "ticks": ""
            },
            "type": "contourcarpet"
           }
          ],
          "heatmap": [
           {
            "colorbar": {
             "outlinewidth": 0,
             "ticks": ""
            },
            "colorscale": [
             [
              0,
              "#0d0887"
             ],
             [
              0.1111111111111111,
              "#46039f"
             ],
             [
              0.2222222222222222,
              "#7201a8"
             ],
             [
              0.3333333333333333,
              "#9c179e"
             ],
             [
              0.4444444444444444,
              "#bd3786"
             ],
             [
              0.5555555555555556,
              "#d8576b"
             ],
             [
              0.6666666666666666,
              "#ed7953"
             ],
             [
              0.7777777777777778,
              "#fb9f3a"
             ],
             [
              0.8888888888888888,
              "#fdca26"
             ],
             [
              1,
              "#f0f921"
             ]
            ],
            "type": "heatmap"
           }
          ],
          "heatmapgl": [
           {
            "colorbar": {
             "outlinewidth": 0,
             "ticks": ""
            },
            "colorscale": [
             [
              0,
              "#0d0887"
             ],
             [
              0.1111111111111111,
              "#46039f"
             ],
             [
              0.2222222222222222,
              "#7201a8"
             ],
             [
              0.3333333333333333,
              "#9c179e"
             ],
             [
              0.4444444444444444,
              "#bd3786"
             ],
             [
              0.5555555555555556,
              "#d8576b"
             ],
             [
              0.6666666666666666,
              "#ed7953"
             ],
             [
              0.7777777777777778,
              "#fb9f3a"
             ],
             [
              0.8888888888888888,
              "#fdca26"
             ],
             [
              1,
              "#f0f921"
             ]
            ],
            "type": "heatmapgl"
           }
          ],
          "histogram": [
           {
            "marker": {
             "pattern": {
              "fillmode": "overlay",
              "size": 10,
              "solidity": 0.2
             }
            },
            "type": "histogram"
           }
          ],
          "histogram2d": [
           {
            "colorbar": {
             "outlinewidth": 0,
             "ticks": ""
            },
            "colorscale": [
             [
              0,
              "#0d0887"
             ],
             [
              0.1111111111111111,
              "#46039f"
             ],
             [
              0.2222222222222222,
              "#7201a8"
             ],
             [
              0.3333333333333333,
              "#9c179e"
             ],
             [
              0.4444444444444444,
              "#bd3786"
             ],
             [
              0.5555555555555556,
              "#d8576b"
             ],
             [
              0.6666666666666666,
              "#ed7953"
             ],
             [
              0.7777777777777778,
              "#fb9f3a"
             ],
             [
              0.8888888888888888,
              "#fdca26"
             ],
             [
              1,
              "#f0f921"
             ]
            ],
            "type": "histogram2d"
           }
          ],
          "histogram2dcontour": [
           {
            "colorbar": {
             "outlinewidth": 0,
             "ticks": ""
            },
            "colorscale": [
             [
              0,
              "#0d0887"
             ],
             [
              0.1111111111111111,
              "#46039f"
             ],
             [
              0.2222222222222222,
              "#7201a8"
             ],
             [
              0.3333333333333333,
              "#9c179e"
             ],
             [
              0.4444444444444444,
              "#bd3786"
             ],
             [
              0.5555555555555556,
              "#d8576b"
             ],
             [
              0.6666666666666666,
              "#ed7953"
             ],
             [
              0.7777777777777778,
              "#fb9f3a"
             ],
             [
              0.8888888888888888,
              "#fdca26"
             ],
             [
              1,
              "#f0f921"
             ]
            ],
            "type": "histogram2dcontour"
           }
          ],
          "mesh3d": [
           {
            "colorbar": {
             "outlinewidth": 0,
             "ticks": ""
            },
            "type": "mesh3d"
           }
          ],
          "parcoords": [
           {
            "line": {
             "colorbar": {
              "outlinewidth": 0,
              "ticks": ""
             }
            },
            "type": "parcoords"
           }
          ],
          "pie": [
           {
            "automargin": true,
            "type": "pie"
           }
          ],
          "scatter": [
           {
            "fillpattern": {
             "fillmode": "overlay",
             "size": 10,
             "solidity": 0.2
            },
            "type": "scatter"
           }
          ],
          "scatter3d": [
           {
            "line": {
             "colorbar": {
              "outlinewidth": 0,
              "ticks": ""
             }
            },
            "marker": {
             "colorbar": {
              "outlinewidth": 0,
              "ticks": ""
             }
            },
            "type": "scatter3d"
           }
          ],
          "scattercarpet": [
           {
            "marker": {
             "colorbar": {
              "outlinewidth": 0,
              "ticks": ""
             }
            },
            "type": "scattercarpet"
           }
          ],
          "scattergeo": [
           {
            "marker": {
             "colorbar": {
              "outlinewidth": 0,
              "ticks": ""
             }
            },
            "type": "scattergeo"
           }
          ],
          "scattergl": [
           {
            "marker": {
             "colorbar": {
              "outlinewidth": 0,
              "ticks": ""
             }
            },
            "type": "scattergl"
           }
          ],
          "scattermapbox": [
           {
            "marker": {
             "colorbar": {
              "outlinewidth": 0,
              "ticks": ""
             }
            },
            "type": "scattermapbox"
           }
          ],
          "scatterpolar": [
           {
            "marker": {
             "colorbar": {
              "outlinewidth": 0,
              "ticks": ""
             }
            },
            "type": "scatterpolar"
           }
          ],
          "scatterpolargl": [
           {
            "marker": {
             "colorbar": {
              "outlinewidth": 0,
              "ticks": ""
             }
            },
            "type": "scatterpolargl"
           }
          ],
          "scatterternary": [
           {
            "marker": {
             "colorbar": {
              "outlinewidth": 0,
              "ticks": ""
             }
            },
            "type": "scatterternary"
           }
          ],
          "surface": [
           {
            "colorbar": {
             "outlinewidth": 0,
             "ticks": ""
            },
            "colorscale": [
             [
              0,
              "#0d0887"
             ],
             [
              0.1111111111111111,
              "#46039f"
             ],
             [
              0.2222222222222222,
              "#7201a8"
             ],
             [
              0.3333333333333333,
              "#9c179e"
             ],
             [
              0.4444444444444444,
              "#bd3786"
             ],
             [
              0.5555555555555556,
              "#d8576b"
             ],
             [
              0.6666666666666666,
              "#ed7953"
             ],
             [
              0.7777777777777778,
              "#fb9f3a"
             ],
             [
              0.8888888888888888,
              "#fdca26"
             ],
             [
              1,
              "#f0f921"
             ]
            ],
            "type": "surface"
           }
          ],
          "table": [
           {
            "cells": {
             "fill": {
              "color": "#EBF0F8"
             },
             "line": {
              "color": "white"
             }
            },
            "header": {
             "fill": {
              "color": "#C8D4E3"
             },
             "line": {
              "color": "white"
             }
            },
            "type": "table"
           }
          ]
         },
         "layout": {
          "annotationdefaults": {
           "arrowcolor": "#2a3f5f",
           "arrowhead": 0,
           "arrowwidth": 1
          },
          "autotypenumbers": "strict",
          "coloraxis": {
           "colorbar": {
            "outlinewidth": 0,
            "ticks": ""
           }
          },
          "colorscale": {
           "diverging": [
            [
             0,
             "#8e0152"
            ],
            [
             0.1,
             "#c51b7d"
            ],
            [
             0.2,
             "#de77ae"
            ],
            [
             0.3,
             "#f1b6da"
            ],
            [
             0.4,
             "#fde0ef"
            ],
            [
             0.5,
             "#f7f7f7"
            ],
            [
             0.6,
             "#e6f5d0"
            ],
            [
             0.7,
             "#b8e186"
            ],
            [
             0.8,
             "#7fbc41"
            ],
            [
             0.9,
             "#4d9221"
            ],
            [
             1,
             "#276419"
            ]
           ],
           "sequential": [
            [
             0,
             "#0d0887"
            ],
            [
             0.1111111111111111,
             "#46039f"
            ],
            [
             0.2222222222222222,
             "#7201a8"
            ],
            [
             0.3333333333333333,
             "#9c179e"
            ],
            [
             0.4444444444444444,
             "#bd3786"
            ],
            [
             0.5555555555555556,
             "#d8576b"
            ],
            [
             0.6666666666666666,
             "#ed7953"
            ],
            [
             0.7777777777777778,
             "#fb9f3a"
            ],
            [
             0.8888888888888888,
             "#fdca26"
            ],
            [
             1,
             "#f0f921"
            ]
           ],
           "sequentialminus": [
            [
             0,
             "#0d0887"
            ],
            [
             0.1111111111111111,
             "#46039f"
            ],
            [
             0.2222222222222222,
             "#7201a8"
            ],
            [
             0.3333333333333333,
             "#9c179e"
            ],
            [
             0.4444444444444444,
             "#bd3786"
            ],
            [
             0.5555555555555556,
             "#d8576b"
            ],
            [
             0.6666666666666666,
             "#ed7953"
            ],
            [
             0.7777777777777778,
             "#fb9f3a"
            ],
            [
             0.8888888888888888,
             "#fdca26"
            ],
            [
             1,
             "#f0f921"
            ]
           ]
          },
          "colorway": [
           "#636efa",
           "#EF553B",
           "#00cc96",
           "#ab63fa",
           "#FFA15A",
           "#19d3f3",
           "#FF6692",
           "#B6E880",
           "#FF97FF",
           "#FECB52"
          ],
          "font": {
           "color": "#2a3f5f"
          },
          "geo": {
           "bgcolor": "white",
           "lakecolor": "white",
           "landcolor": "#E5ECF6",
           "showlakes": true,
           "showland": true,
           "subunitcolor": "white"
          },
          "hoverlabel": {
           "align": "left"
          },
          "hovermode": "closest",
          "mapbox": {
           "style": "light"
          },
          "paper_bgcolor": "white",
          "plot_bgcolor": "#E5ECF6",
          "polar": {
           "angularaxis": {
            "gridcolor": "white",
            "linecolor": "white",
            "ticks": ""
           },
           "bgcolor": "#E5ECF6",
           "radialaxis": {
            "gridcolor": "white",
            "linecolor": "white",
            "ticks": ""
           }
          },
          "scene": {
           "xaxis": {
            "backgroundcolor": "#E5ECF6",
            "gridcolor": "white",
            "gridwidth": 2,
            "linecolor": "white",
            "showbackground": true,
            "ticks": "",
            "zerolinecolor": "white"
           },
           "yaxis": {
            "backgroundcolor": "#E5ECF6",
            "gridcolor": "white",
            "gridwidth": 2,
            "linecolor": "white",
            "showbackground": true,
            "ticks": "",
            "zerolinecolor": "white"
           },
           "zaxis": {
            "backgroundcolor": "#E5ECF6",
            "gridcolor": "white",
            "gridwidth": 2,
            "linecolor": "white",
            "showbackground": true,
            "ticks": "",
            "zerolinecolor": "white"
           }
          },
          "shapedefaults": {
           "line": {
            "color": "#2a3f5f"
           }
          },
          "ternary": {
           "aaxis": {
            "gridcolor": "white",
            "linecolor": "white",
            "ticks": ""
           },
           "baxis": {
            "gridcolor": "white",
            "linecolor": "white",
            "ticks": ""
           },
           "bgcolor": "#E5ECF6",
           "caxis": {
            "gridcolor": "white",
            "linecolor": "white",
            "ticks": ""
           }
          },
          "title": {
           "x": 0.05
          },
          "xaxis": {
           "automargin": true,
           "gridcolor": "white",
           "linecolor": "white",
           "ticks": "",
           "title": {
            "standoff": 15
           },
           "zerolinecolor": "white",
           "zerolinewidth": 2
          },
          "yaxis": {
           "automargin": true,
           "gridcolor": "white",
           "linecolor": "white",
           "ticks": "",
           "title": {
            "standoff": 15
           },
           "zerolinecolor": "white",
           "zerolinewidth": 2
          }
         }
        },
        "title": {
         "text": "Fandoms accounting for more than 1% of total ships during 2013-2023"
        }
       }
      },
      "text/html": [
       "<div>                            <div id=\"cd1b1661-9265-400e-aa2c-207b18288155\" class=\"plotly-graph-div\" style=\"height:525px; width:100%;\"></div>            <script type=\"text/javascript\">                require([\"plotly\"], function(Plotly) {                    window.PLOTLYENV=window.PLOTLYENV || {};                                    if (document.getElementById(\"cd1b1661-9265-400e-aa2c-207b18288155\")) {                    Plotly.newPlot(                        \"cd1b1661-9265-400e-aa2c-207b18288155\",                        [{\"automargin\":false,\"insidetextorientation\":\"horizontal\",\"labels\":[\"Marvel\",\"Youtube\",\"Harry Potter Universe\",\"DC\",\"Homestuck\",\"Genshin Impact | \\u539f\\u795e\",\"Supernatural\",\"My Hero Academia | \\u50d5\\u306e\\u30d2\\u30fc\\u30ed\\u30fc\\u30a2\\u30ab\\u30c7\\u30df\\u30a2\",\"Teen Wolf\",\"Bangtan Boys \\u002f BTS\",\"Stranger Things\",\"Star Wars\",\"Dragon Age\",\"A Song of Ice and Fire \\u002f Game of Thrones Universe\",\"Glee\",\"Doctor Who\",\"Haikyuu!! | \\u30cf\\u30a4\\u30ad\\u30e5\\u30fc!!\",\"Sherlock\",\"The 100\",\"One Direction\",\"Buffy Universe\",\"Steven Universe\",\"Once Upon a Time\",\"Overwatch\",\"Star Trek\",\"5 Seconds of Summer\",\"9-1-1\",\"Adam Lambert\",\"Addam's Family Universe\",\"Adventure Time\",\"All For The Game\",\"American Horror Story\",\"Amphibia\",\"Arcane\",\"Attack on Titan | \\u9032\\u6483\\u306e\\u5de8\\u4eba\",\"Avatar: The last Airbender Universe\",\"BLUELOCK | \\u30d6\\u30eb\\u30fc\\u30ed\\u30c3\\u30af\",\"Battlestar Galactica\",\"Be More Chill\",\"Bridgerton\",\"Bungou Stray Dogs | \\u6587\\u8c6a\\u30b9\\u30c8\\u30ec\\u30a4\\u30c9\\u30c3\\u30b0\\u30b9\",\"Call of Duty\",\"Carmilla\",\"Carol\",\"Carry On\",\"Castle\",\"Check Please!\",\"Chilling Adventures of Sabrina\",\"Criminal Minds\",\"Critical Role\",\"Dangan Ronpa\",\"Descendants\",\"Detroit: Become Human\",\"Drag\",\"Due South\",\"EXO\",\"Emmerdale\",\"Faking It\",\"Fall Out Boy\",\"Fifth Harmony\",\"Figure Skating\",\"Final Fantasy | \\u30d5\\u30a1\\u30a4\\u30ca\\u30eb\\u30d5\\u30a1\\u30f3\\u30bf\\u30b8\\u30fc\",\"Fire Emblem | \\u30d5\\u30a1\\u30a4\\u30a2\\u30fc\\u30a8\\u30e0\\u30d6\\u30ec\\u30e0\",\"Free!\",\"Frozen\",\"Fullmetal Alchemist | \\u92fc\\u306e\\u932c\\u91d1\\u8853\\u5e2b\",\"Generation Kill\",\"Ghostbusters\",\"Girl Meets World\",\"Good Omens\",\"Grandmaster of Demonic Cultivation \\u002f The Untamed | \\u9b54\\u9053\\u7956\\u5e08 \\u002f \\u9648\\u60c5\\u4ee4\",\"Gravity Falls\",\"Grey's Anatomy\",\"Hamilton\",\"Hannibal\",\"Hatsune Miku \\u002f \\u30dc\\u30fc\\u30ab\\u30ed\\u30a4\\u30c9 | \\u521d\\u97f3\\u30df\\u30af\",\"Hawaii Five-0\",\"Hazbin Hotel\",\"Heartstopper\",\"Heaven Official's Blessing | \\u5929\\u5b98\\u8d50\\u798f\",\"Hetalia | \\u30d8\\u30bf\\u30ea\\u30a2\",\"Highlander\",\"Hockey\",\"Holby City\",\"House M.D.\",\"Hunger Games \\u002f Panem Universe\",\"IT\",\"Inception\",\"James Bond Universe\",\"JoJo's Bizarre Adventure | \\u30b8\\u30e7\\u30b8\\u30e7\\u306e\\u5947\\u5999\\u306a\\u5192\\u967a\",\"Journey to the West Universe\",\"Jujutsu Kaisen | \\u546a\\u8853\\u5efb\\u6226\",\"Julie and The Phantoms\",\"KAT-TUN\",\"Kill la Kill | \\u30ad\\u30eb\\u30e9\\u30ad\\u30eb\",\"Killing Eve\",\"Kim Possible\",\"Kingdom Hearts\",\"Kingsman\",\"KinnPorsche | \\u0e04\\u0e34\\u0e19\\u0e19\\u0e4c\\u0e1e\\u0e2d\\u0e23\\u0e4c\\u0e0a \\u0e40\\u0e14\\u0e2d\\u0e30 \\u0e0b\\u0e35\\u0e23\\u0e35\\u0e2a\\u0e4c\",\"Law & Order\",\"Legend of the Seeker\",\"Les Mis\\u00e9rables\",\"Life Is Strange\",\"Life on Mars\",\"Little Witch Academia | \\u30ea\\u30c8\\u30eb\\u30a6\\u30a3\\u30c3\\u30c1\\u30a2\\u30ab\\u30c7\\u30df\\u30a2\",\"Lizzie Bennet Diaries\",\"Lockwood & Co.\",\"Lord of the Rings Universe\",\"Lost Girl\",\"Love Live! | \\u30e9\\u30d6\\u30e9\\u30a4\\u30d6!\",\"Lucifer\",\"MIRROR\",\"Maleficent\",\"Mass Effect\",\"Merlin\",\"Miraculous: Tales of Ladybug & Cat Noir | Miraculous: Les Aventures de Ladybug et Chat Noir\",\"Mobile Suit Gundam Wing | \\u65b0\\u6a5f\\u52d5\\u6226\\u8a18\\u30ac\\u30f3\\u30c0\\u30e0 W\",\"Motherland\",\"My Chemical Romance\",\"NCIS\",\"NCT\",\"Naruto\",\"New Gods | \\u65b0\\u795e\\u699c\",\"Omniscient Reader | \\uc804\\uc9c0\\uc801 \\ub3c5\\uc790 \\uc2dc\\uc810\",\"One Piece | \\u30ef\\u30f3\\u30d4\\u30fc\\u30b9\",\"One-Punch Man | \\u30ef\\u30f3\\u30d1\\u30f3\\u30de\\u30f3\",\"Orange is the New Black\",\"Orphan Black\",\"Our Flag Means Death\",\"Pacific Rim\",\"Panic! at the Disco\",\"Percy Jackson\",\"Person of Interest\",\"Persona\",\"Pitch Perfect\",\"Power Rangers\",\"Pretty Guardian Sailor Moon | \\u7f8e\\u5c11\\u5973\\u6226\\u58eb\\u30bb\\u30fc\\u30e9\\u30fc\\u30e0\\u30fc\\u30f3\",\"Puella Magi Madoka Magica | \\u9b54\\u6cd5\\u5c11\\u5973\\u307e\\u3069\\u304b\\u2606\\u30de\\u30ae\\u30ab\",\"Queer as Folk\",\"RWBY\",\"Raven Cycle\",\"Red Velvet\",\"Riverdale\",\"Rizzoli & Isles\",\"Rookie Blue\",\"Roswell New Mexico\",\"SK8 the Infinity | SK\\u221e \\u30a8\\u30b9\\u30b1\\u30fc\\u30a8\\u30a4\\u30c8\",\"SKAM\",\"Sanders Sides\",\"Schitt's Creek\",\"Seraph of the End | \\u7d42\\u308f\\u308a\\u306e\\u30bb\\u30e9\\u30d5\",\"Shadow and Bone\",\"Shadowhunters | Mortal Instruments\",\"Shameless\",\"She-Ra and the Princesses of Power\",\"Six of Crows\",\"Skins\",\"South Park\",\"Spartacus\",\"Stargate\",\"Starsky & Hutch\",\"Station 19\",\"Stray Kids\",\"Suits\",\"Super-Vocal | \\u58f0\\u5165\\u4eba\\u5fc3\",\"TOMORROW X TOGETHER \\u002f TXT\",\"Teenage Mutant Ninja Turtles\",\"The Big Bang Theory\",\"The Closer\",\"The Devil Wears Prada\",\"The Good Wife\",\"The Haunting of Bly Manor\",\"The Last of Us\",\"The Locked Tomb \\u002f Gideon the Ninth\",\"The Magnus Archives\",\"The Man From U.N.C.L.E.\",\"The Old Guard\",\"The Owl House\",\"The Professionals\",\"The Rookie\",\"The Sandman\",\"The Sentinel\",\"The Walking Dead\",\"The Wilds\",\"The Witcher | Wied\\u017amin\",\"The X-Files\",\"Tokyo Ghoul | \\u6771\\u4eac\\u55b0\\u7a2e\",\"Tokyo Revengers | \\u6771\\u4eac\\u534d\\u30ea\\u30d9\\u30f3\\u30b8\\u30e3\\u30fc\\u30ba\",\"Top Gun\",\"Torchwood\",\"Trigun Universe | \\u30c8\\u30e9\\u30a4\\u30ac\\u30f3\",\"Twenty One Pilots\",\"Twilight\",\"Undertale\",\"Vampire Diaries Universe\",\"Victorious\",\"Voltron\",\"Warehouse 13\",\"Warrior Nun\",\"Welcome to Night Vale\",\"Wentworth\",\"White Collar\",\"Women's Soccer\",\"Word of Honor | \\u5c71\\u6cb3\\u4ee4\",\"Wynonna Earp\",\"Xena\",\"Young Royals\",\"Yuri!!! on ICE | \\u30e6\\u30fc\\u30ea!!! on ICE\"],\"marker\":{\"colors\":[\"crimson\",\"red\",\"green\",\"dodgerblue\",\"orange\",\"gold\",\"rgb(127, 60, 141)\",\"rgb(17, 165, 121)\",\"rgb(57, 105, 172)\",\"rgb(242, 183, 1)\",\"rgb(231, 63, 116)\",\"rgb(128, 186, 90)\",\"rgb(230, 131, 16)\",\"rgb(0, 134, 149)\",\"rgb(207, 28, 144)\",\"rgb(249, 123, 114)\",\"rgb(165, 170, 153)\",\"rgb(127, 60, 141)\",\"rgb(17, 165, 121)\",\"rgb(57, 105, 172)\",\"rgb(242, 183, 1)\",\"rgb(231, 63, 116)\",\"rgb(128, 186, 90)\",\"rgb(230, 131, 16)\",\"rgb(0, 134, 149)\",\"rgb(207, 28, 144)\",\"rgb(249, 123, 114)\",\"rgb(165, 170, 153)\"]},\"textinfo\":\"label\",\"values\":[33.0,24.0,21.0,20.0,15.0,14.0,14.0,14.0,13.0,11.0,11.0,10.0,10.0,9.0,9.0,9.0,8.0,8.0,8.0,8.0,7.0,7.0,6.0,6.0,6.0,null,null,null,null,null,null,null,null,null,null,null,null,null,null,null,null,null,null,null,null,null,null,null,null,null,null,null,null,null,null,null,null,null,null,null,null,null,null,null,null,null,null,null,null,null,null,null,null,null,null,null,null,null,null,null,null,null,null,null,null,null,null,null,null,null,null,null,null,null,null,null,null,null,null,null,null,null,null,null,null,null,null,null,null,null,null,null,null,null,null,null,null,null,null,null,null,null,null,null,null,null,null,null,null,null,null,null,null,null,null,null,null,null,null,null,null,null,null,null,null,null,null,null,null,null,null,null,null,null,null,null,null,null,null,null,null,null,null,null,null,null,null,null,null,null,null,null,null,null,null,null,null,null,null,null,null,null,null,null,null,null,null,null,null,null,null,null,null,null,null,null,null,null,null,null,null,null,null,null,null,null,null,null,null],\"type\":\"pie\"}],                        {\"template\":{\"data\":{\"histogram2dcontour\":[{\"type\":\"histogram2dcontour\",\"colorbar\":{\"outlinewidth\":0,\"ticks\":\"\"},\"colorscale\":[[0.0,\"#0d0887\"],[0.1111111111111111,\"#46039f\"],[0.2222222222222222,\"#7201a8\"],[0.3333333333333333,\"#9c179e\"],[0.4444444444444444,\"#bd3786\"],[0.5555555555555556,\"#d8576b\"],[0.6666666666666666,\"#ed7953\"],[0.7777777777777778,\"#fb9f3a\"],[0.8888888888888888,\"#fdca26\"],[1.0,\"#f0f921\"]]}],\"choropleth\":[{\"type\":\"choropleth\",\"colorbar\":{\"outlinewidth\":0,\"ticks\":\"\"}}],\"histogram2d\":[{\"type\":\"histogram2d\",\"colorbar\":{\"outlinewidth\":0,\"ticks\":\"\"},\"colorscale\":[[0.0,\"#0d0887\"],[0.1111111111111111,\"#46039f\"],[0.2222222222222222,\"#7201a8\"],[0.3333333333333333,\"#9c179e\"],[0.4444444444444444,\"#bd3786\"],[0.5555555555555556,\"#d8576b\"],[0.6666666666666666,\"#ed7953\"],[0.7777777777777778,\"#fb9f3a\"],[0.8888888888888888,\"#fdca26\"],[1.0,\"#f0f921\"]]}],\"heatmap\":[{\"type\":\"heatmap\",\"colorbar\":{\"outlinewidth\":0,\"ticks\":\"\"},\"colorscale\":[[0.0,\"#0d0887\"],[0.1111111111111111,\"#46039f\"],[0.2222222222222222,\"#7201a8\"],[0.3333333333333333,\"#9c179e\"],[0.4444444444444444,\"#bd3786\"],[0.5555555555555556,\"#d8576b\"],[0.6666666666666666,\"#ed7953\"],[0.7777777777777778,\"#fb9f3a\"],[0.8888888888888888,\"#fdca26\"],[1.0,\"#f0f921\"]]}],\"heatmapgl\":[{\"type\":\"heatmapgl\",\"colorbar\":{\"outlinewidth\":0,\"ticks\":\"\"},\"colorscale\":[[0.0,\"#0d0887\"],[0.1111111111111111,\"#46039f\"],[0.2222222222222222,\"#7201a8\"],[0.3333333333333333,\"#9c179e\"],[0.4444444444444444,\"#bd3786\"],[0.5555555555555556,\"#d8576b\"],[0.6666666666666666,\"#ed7953\"],[0.7777777777777778,\"#fb9f3a\"],[0.8888888888888888,\"#fdca26\"],[1.0,\"#f0f921\"]]}],\"contourcarpet\":[{\"type\":\"contourcarpet\",\"colorbar\":{\"outlinewidth\":0,\"ticks\":\"\"}}],\"contour\":[{\"type\":\"contour\",\"colorbar\":{\"outlinewidth\":0,\"ticks\":\"\"},\"colorscale\":[[0.0,\"#0d0887\"],[0.1111111111111111,\"#46039f\"],[0.2222222222222222,\"#7201a8\"],[0.3333333333333333,\"#9c179e\"],[0.4444444444444444,\"#bd3786\"],[0.5555555555555556,\"#d8576b\"],[0.6666666666666666,\"#ed7953\"],[0.7777777777777778,\"#fb9f3a\"],[0.8888888888888888,\"#fdca26\"],[1.0,\"#f0f921\"]]}],\"surface\":[{\"type\":\"surface\",\"colorbar\":{\"outlinewidth\":0,\"ticks\":\"\"},\"colorscale\":[[0.0,\"#0d0887\"],[0.1111111111111111,\"#46039f\"],[0.2222222222222222,\"#7201a8\"],[0.3333333333333333,\"#9c179e\"],[0.4444444444444444,\"#bd3786\"],[0.5555555555555556,\"#d8576b\"],[0.6666666666666666,\"#ed7953\"],[0.7777777777777778,\"#fb9f3a\"],[0.8888888888888888,\"#fdca26\"],[1.0,\"#f0f921\"]]}],\"mesh3d\":[{\"type\":\"mesh3d\",\"colorbar\":{\"outlinewidth\":0,\"ticks\":\"\"}}],\"scatter\":[{\"fillpattern\":{\"fillmode\":\"overlay\",\"size\":10,\"solidity\":0.2},\"type\":\"scatter\"}],\"parcoords\":[{\"type\":\"parcoords\",\"line\":{\"colorbar\":{\"outlinewidth\":0,\"ticks\":\"\"}}}],\"scatterpolargl\":[{\"type\":\"scatterpolargl\",\"marker\":{\"colorbar\":{\"outlinewidth\":0,\"ticks\":\"\"}}}],\"bar\":[{\"error_x\":{\"color\":\"#2a3f5f\"},\"error_y\":{\"color\":\"#2a3f5f\"},\"marker\":{\"line\":{\"color\":\"#E5ECF6\",\"width\":0.5},\"pattern\":{\"fillmode\":\"overlay\",\"size\":10,\"solidity\":0.2}},\"type\":\"bar\"}],\"scattergeo\":[{\"type\":\"scattergeo\",\"marker\":{\"colorbar\":{\"outlinewidth\":0,\"ticks\":\"\"}}}],\"scatterpolar\":[{\"type\":\"scatterpolar\",\"marker\":{\"colorbar\":{\"outlinewidth\":0,\"ticks\":\"\"}}}],\"histogram\":[{\"marker\":{\"pattern\":{\"fillmode\":\"overlay\",\"size\":10,\"solidity\":0.2}},\"type\":\"histogram\"}],\"scattergl\":[{\"type\":\"scattergl\",\"marker\":{\"colorbar\":{\"outlinewidth\":0,\"ticks\":\"\"}}}],\"scatter3d\":[{\"type\":\"scatter3d\",\"line\":{\"colorbar\":{\"outlinewidth\":0,\"ticks\":\"\"}},\"marker\":{\"colorbar\":{\"outlinewidth\":0,\"ticks\":\"\"}}}],\"scattermapbox\":[{\"type\":\"scattermapbox\",\"marker\":{\"colorbar\":{\"outlinewidth\":0,\"ticks\":\"\"}}}],\"scatterternary\":[{\"type\":\"scatterternary\",\"marker\":{\"colorbar\":{\"outlinewidth\":0,\"ticks\":\"\"}}}],\"scattercarpet\":[{\"type\":\"scattercarpet\",\"marker\":{\"colorbar\":{\"outlinewidth\":0,\"ticks\":\"\"}}}],\"carpet\":[{\"aaxis\":{\"endlinecolor\":\"#2a3f5f\",\"gridcolor\":\"white\",\"linecolor\":\"white\",\"minorgridcolor\":\"white\",\"startlinecolor\":\"#2a3f5f\"},\"baxis\":{\"endlinecolor\":\"#2a3f5f\",\"gridcolor\":\"white\",\"linecolor\":\"white\",\"minorgridcolor\":\"white\",\"startlinecolor\":\"#2a3f5f\"},\"type\":\"carpet\"}],\"table\":[{\"cells\":{\"fill\":{\"color\":\"#EBF0F8\"},\"line\":{\"color\":\"white\"}},\"header\":{\"fill\":{\"color\":\"#C8D4E3\"},\"line\":{\"color\":\"white\"}},\"type\":\"table\"}],\"barpolar\":[{\"marker\":{\"line\":{\"color\":\"#E5ECF6\",\"width\":0.5},\"pattern\":{\"fillmode\":\"overlay\",\"size\":10,\"solidity\":0.2}},\"type\":\"barpolar\"}],\"pie\":[{\"automargin\":true,\"type\":\"pie\"}]},\"layout\":{\"autotypenumbers\":\"strict\",\"colorway\":[\"#636efa\",\"#EF553B\",\"#00cc96\",\"#ab63fa\",\"#FFA15A\",\"#19d3f3\",\"#FF6692\",\"#B6E880\",\"#FF97FF\",\"#FECB52\"],\"font\":{\"color\":\"#2a3f5f\"},\"hovermode\":\"closest\",\"hoverlabel\":{\"align\":\"left\"},\"paper_bgcolor\":\"white\",\"plot_bgcolor\":\"#E5ECF6\",\"polar\":{\"bgcolor\":\"#E5ECF6\",\"angularaxis\":{\"gridcolor\":\"white\",\"linecolor\":\"white\",\"ticks\":\"\"},\"radialaxis\":{\"gridcolor\":\"white\",\"linecolor\":\"white\",\"ticks\":\"\"}},\"ternary\":{\"bgcolor\":\"#E5ECF6\",\"aaxis\":{\"gridcolor\":\"white\",\"linecolor\":\"white\",\"ticks\":\"\"},\"baxis\":{\"gridcolor\":\"white\",\"linecolor\":\"white\",\"ticks\":\"\"},\"caxis\":{\"gridcolor\":\"white\",\"linecolor\":\"white\",\"ticks\":\"\"}},\"coloraxis\":{\"colorbar\":{\"outlinewidth\":0,\"ticks\":\"\"}},\"colorscale\":{\"sequential\":[[0.0,\"#0d0887\"],[0.1111111111111111,\"#46039f\"],[0.2222222222222222,\"#7201a8\"],[0.3333333333333333,\"#9c179e\"],[0.4444444444444444,\"#bd3786\"],[0.5555555555555556,\"#d8576b\"],[0.6666666666666666,\"#ed7953\"],[0.7777777777777778,\"#fb9f3a\"],[0.8888888888888888,\"#fdca26\"],[1.0,\"#f0f921\"]],\"sequentialminus\":[[0.0,\"#0d0887\"],[0.1111111111111111,\"#46039f\"],[0.2222222222222222,\"#7201a8\"],[0.3333333333333333,\"#9c179e\"],[0.4444444444444444,\"#bd3786\"],[0.5555555555555556,\"#d8576b\"],[0.6666666666666666,\"#ed7953\"],[0.7777777777777778,\"#fb9f3a\"],[0.8888888888888888,\"#fdca26\"],[1.0,\"#f0f921\"]],\"diverging\":[[0,\"#8e0152\"],[0.1,\"#c51b7d\"],[0.2,\"#de77ae\"],[0.3,\"#f1b6da\"],[0.4,\"#fde0ef\"],[0.5,\"#f7f7f7\"],[0.6,\"#e6f5d0\"],[0.7,\"#b8e186\"],[0.8,\"#7fbc41\"],[0.9,\"#4d9221\"],[1,\"#276419\"]]},\"xaxis\":{\"gridcolor\":\"white\",\"linecolor\":\"white\",\"ticks\":\"\",\"title\":{\"standoff\":15},\"zerolinecolor\":\"white\",\"automargin\":true,\"zerolinewidth\":2},\"yaxis\":{\"gridcolor\":\"white\",\"linecolor\":\"white\",\"ticks\":\"\",\"title\":{\"standoff\":15},\"zerolinecolor\":\"white\",\"automargin\":true,\"zerolinewidth\":2},\"scene\":{\"xaxis\":{\"backgroundcolor\":\"#E5ECF6\",\"gridcolor\":\"white\",\"linecolor\":\"white\",\"showbackground\":true,\"ticks\":\"\",\"zerolinecolor\":\"white\",\"gridwidth\":2},\"yaxis\":{\"backgroundcolor\":\"#E5ECF6\",\"gridcolor\":\"white\",\"linecolor\":\"white\",\"showbackground\":true,\"ticks\":\"\",\"zerolinecolor\":\"white\",\"gridwidth\":2},\"zaxis\":{\"backgroundcolor\":\"#E5ECF6\",\"gridcolor\":\"white\",\"linecolor\":\"white\",\"showbackground\":true,\"ticks\":\"\",\"zerolinecolor\":\"white\",\"gridwidth\":2}},\"shapedefaults\":{\"line\":{\"color\":\"#2a3f5f\"}},\"annotationdefaults\":{\"arrowcolor\":\"#2a3f5f\",\"arrowhead\":0,\"arrowwidth\":1},\"geo\":{\"bgcolor\":\"white\",\"landcolor\":\"#E5ECF6\",\"subunitcolor\":\"white\",\"showland\":true,\"showlakes\":true,\"lakecolor\":\"white\"},\"title\":{\"x\":0.05},\"mapbox\":{\"style\":\"light\"}}},\"title\":{\"text\":\"Fandoms accounting for more than 1% of total ships during 2013-2023\"},\"showlegend\":false},                        {\"responsive\": true}                    ).then(function(){\n",
       "                            \n",
       "var gd = document.getElementById('cd1b1661-9265-400e-aa2c-207b18288155');\n",
       "var x = new MutationObserver(function (mutations, observer) {{\n",
       "        var display = window.getComputedStyle(gd).display;\n",
       "        if (!display || display === 'none') {{\n",
       "            console.log([gd, 'removed!']);\n",
       "            Plotly.purge(gd);\n",
       "            observer.disconnect();\n",
       "        }}\n",
       "}});\n",
       "\n",
       "// Listen for the removal of the full notebook cells\n",
       "var notebookContainer = gd.closest('#notebook-container');\n",
       "if (notebookContainer) {{\n",
       "    x.observe(notebookContainer, {childList: true});\n",
       "}}\n",
       "\n",
       "// Listen for the clearing of the current output cell\n",
       "var outputEl = gd.closest('.output');\n",
       "if (outputEl) {{\n",
       "    x.observe(outputEl, {childList: true});\n",
       "}}\n",
       "\n",
       "                        })                };                });            </script>        </div>"
      ]
     },
     "metadata": {},
     "output_type": "display_data"
    }
   ],
   "source": [
    "\n",
    "import plotly.express as px\n",
    "\n",
    "labels = fandom_market_share.index\n",
    "values = fandom_market_share.values\n",
    "\n",
    "market_share_fig = go.Figure(\n",
    "    data=[\n",
    "        go.Pie(\n",
    "            labels=labels,\n",
    "            values=values,\n",
    "            textinfo=\"label\",\n",
    "            insidetextorientation=\"horizontal\",\n",
    "            automargin=False,\n",
    "            marker=dict(\n",
    "                colors=[\n",
    "                    \"crimson\", \"red\", \"green\", \"dodgerblue\", \"orange\", \"gold\"\n",
    "                ] + px.colors.qualitative.Bold + px.colors.qualitative.Bold\n",
    "            )\n",
    "        )\n",
    "    ]\n",
    ")\n",
    "\n",
    "market_share_fig.update_layout(\n",
    "    title=\"Fandoms accounting for more than 1% of total ships during 2013-2023\",\n",
    "    showlegend=False,\n",
    "    \n",
    ")\n",
    "\n",
    "market_share_fig.show()\n"
   ]
  },
  {
   "cell_type": "code",
   "execution_count": 4,
   "metadata": {},
   "outputs": [
    {
     "name": "stdout",
     "output_type": "stream",
     "text": [
      "fandom\n",
      "DC                       11.0\n",
      "Marvel                    9.0\n",
      "Homestuck                 7.0\n",
      "Steven Universe           7.0\n",
      "Harry Potter Universe     6.0\n",
      "Name: wlw_ships, dtype: float64\n",
      "fandom\n",
      "The 100                                75.00\n",
      "Overwatch                              66.67\n",
      "Riverdale                              66.67\n",
      "Once Upon a Time                       66.67\n",
      "Avatar: The last Airbender Universe    60.00\n",
      "DC                                     55.00\n",
      "Name: %_of_wlw_ships, dtype: float64\n"
     ]
    }
   ],
   "source": [
    "#find fandoms with highest nums of wlw ships\n",
    "#find fandoms with lowest nums of wlw ships\n",
    "\n",
    "wlw_by_fandom = ships_per_fandom.copy().get(\n",
    "    [\"fandom\", \"total_ships\", \"gender_combo\"]\n",
    ")\n",
    "wlw_by_fandom.gender_combo = wlw_by_fandom.gender_combo.where(\n",
    "    (wlw_by_fandom.gender_combo == \"F / F\") | (wlw_by_fandom.gender_combo == \"F | Other / F | Other\") | (wlw_by_fandom.gender_combo == \"F / F | Other\")\n",
    ")\n",
    "wlw_by_fandom = wlw_by_fandom.groupby([\"fandom\"]).count().rename(\n",
    "    columns={\"gender_combo\": \"wlw_ships\"}\n",
    ").sort_values(by=\"wlw_ships\", ascending=False)\n",
    "wlw_by_fandom.insert(\n",
    "    loc=2, \n",
    "    column=\"%_of_wlw_ships\", \n",
    "    value=(wlw_by_fandom[\"wlw_ships\"] / wlw_by_fandom[\"total_ships\"] * 100).round(2)\n",
    ")\n",
    "\n",
    "no_wlw_fandoms = wlw_by_fandom[\"total_ships\"].where(wlw_by_fandom[\"%_of_wlw_ships\"] == 0).count()\n",
    "only_wlw_fandoms = wlw_by_fandom[\"total_ships\"].where(wlw_by_fandom[\"%_of_wlw_ships\"] == 100).count()\n",
    "most_wlw_ships = wlw_by_fandom[\"wlw_ships\"].where(wlw_by_fandom[\"wlw_ships\"] > 1).sort_values(ascending=False).dropna()\n",
    "highest_percent_of_wlw = wlw_by_fandom[\"%_of_wlw_ships\"].where(\n",
    "    (wlw_by_fandom[\"wlw_ships\"] > 1) & (wlw_by_fandom[\"%_of_wlw_ships\"] < 100) & (wlw_by_fandom[\"%_of_wlw_ships\"] >= 50)\n",
    ").dropna().sort_values(ascending=False)\n",
    "\n",
    "print(most_wlw_ships.head())\n",
    "print(highest_percent_of_wlw) # (in mixed gender fandoms!)"
   ]
  },
  {
   "cell_type": "code",
   "execution_count": 5,
   "metadata": {},
   "outputs": [
    {
     "name": "stdout",
     "output_type": "stream",
     "text": [
      "fandom\n",
      "Youtube                           23.0\n",
      "Marvel                            14.0\n",
      "Bangtan Boys / BTS                11.0\n",
      "Harry Potter Universe             10.0\n",
      "My Hero Academia | 僕のヒーローアカデミア     9.0\n",
      "One Direction                      8.0\n",
      "Genshin Impact | 原神                8.0\n",
      "DC                                 7.0\n",
      "Haikyuu!! | ハイキュー!!                7.0\n",
      "Homestuck                          6.0\n",
      "Name: mlm_ships, dtype: float64\n",
      "fandom\n",
      "Youtube                           95.83\n",
      "Haikyuu!! | ハイキュー!!               87.50\n",
      "Voltron                           80.00\n",
      "Naruto                            66.67\n",
      "Criminal Minds                    66.67\n",
      "Star Trek                         66.67\n",
      "Yuri!!! on ICE | ユーリ!!! on ICE    66.67\n",
      "My Hero Academia | 僕のヒーローアカデミア    64.29\n",
      "Les Misérables                    60.00\n",
      "Attack on Titan | 進撃の巨人           60.00\n",
      "Genshin Impact | 原神               57.14\n",
      "Star Wars                         50.00\n",
      "Sherlock                          50.00\n",
      "Hamilton                          50.00\n",
      "Name: %_of_mlm_ships, dtype: float64\n"
     ]
    }
   ],
   "source": [
    "#”” for mlm ships\n",
    "\n",
    "mlm_by_fandom = ships_per_fandom.copy().get(\n",
    "    [\"fandom\", \"total_ships\", \"gender_combo\"]\n",
    ")\n",
    "mlm_by_fandom.gender_combo = mlm_by_fandom.gender_combo.where(\n",
    "    (mlm_by_fandom.gender_combo == \"M / M\"\n",
    "    ) | (mlm_by_fandom.gender_combo == \"M | Other / M / M\"\n",
    "    ) | (mlm_by_fandom.gender_combo == \"M / M | Other\"\n",
    "    ) | (mlm_by_fandom.gender_combo == \"M | Other / M\")\n",
    ")\n",
    "mlm_by_fandom = mlm_by_fandom.groupby([\"fandom\"]).count().rename(\n",
    "    columns={\"gender_combo\": \"mlm_ships\"}\n",
    ").sort_values(by=\"mlm_ships\", ascending=False)\n",
    "mlm_by_fandom.insert(\n",
    "    loc=2, \n",
    "    column=\"%_of_mlm_ships\", \n",
    "    value=(mlm_by_fandom[\"mlm_ships\"] / mlm_by_fandom[\"total_ships\"] * 100).round(2)\n",
    ")\n",
    "\n",
    "no_mlm_fandoms = mlm_by_fandom[\"total_ships\"].where(mlm_by_fandom[\"%_of_mlm_ships\"] == 0).count()\n",
    "only_mlm_fandoms = mlm_by_fandom[\"total_ships\"].where(mlm_by_fandom[\"%_of_mlm_ships\"] == 100).count()\n",
    "most_mlm_ships = mlm_by_fandom[\"mlm_ships\"].where(mlm_by_fandom[\"mlm_ships\"] > 1).sort_values(ascending=False).dropna()\n",
    "highest_percent_of_mlm = mlm_by_fandom[\"%_of_mlm_ships\"].where(\n",
    "    (mlm_by_fandom[\"mlm_ships\"] > 1) & (mlm_by_fandom[\"%_of_mlm_ships\"] < 100) & (mlm_by_fandom[\"%_of_mlm_ships\"] >= 50)\n",
    ").dropna().sort_values(ascending=False)\n",
    "\n",
    "print(most_mlm_ships.head(10))\n",
    "print(highest_percent_of_mlm) # (in mixed gender fandoms!)"
   ]
  },
  {
   "cell_type": "code",
   "execution_count": 6,
   "metadata": {},
   "outputs": [
    {
     "name": "stdout",
     "output_type": "stream",
     "text": [
      "fandom\n",
      "Doctor Who                                           7.0\n",
      "A Song of Ice and Fire / Game of Thrones Universe    6.0\n",
      "Marvel                                               6.0\n",
      "Name: het_ships, dtype: float64\n",
      "fandom\n",
      "Doctor Who                                           77.78\n",
      "A Song of Ice and Fire / Game of Thrones Universe    66.67\n",
      "Name: %_of_het_ships, dtype: float64\n"
     ]
    }
   ],
   "source": [
    "#”” for het ships\n",
    "\n",
    "het_by_fandom = ships_per_fandom.copy().get(\n",
    "    [\"fandom\", \"total_ships\", \"gender_combo\"]\n",
    ")\n",
    "het_by_fandom.gender_combo = het_by_fandom.gender_combo.where(\n",
    "    (het_by_fandom.gender_combo == \"F / M\") | (het_by_fandom.gender_combo == \"M / F\")\n",
    ")\n",
    "het_by_fandom = het_by_fandom.groupby([\"fandom\"]).count().rename(\n",
    "    columns={\"gender_combo\": \"het_ships\"}\n",
    ").sort_values(by=\"het_ships\", ascending=False)\n",
    "het_by_fandom.insert(\n",
    "    loc=2, \n",
    "    column=\"%_of_het_ships\", \n",
    "    value=(het_by_fandom[\"het_ships\"] / het_by_fandom[\"total_ships\"] * 100).round(2)\n",
    ")\n",
    "\n",
    "no_het_fandoms = het_by_fandom[\"total_ships\"].where(het_by_fandom[\"%_of_het_ships\"] == 0).count()\n",
    "only_het_fandoms = het_by_fandom[\"total_ships\"].where(het_by_fandom[\"%_of_het_ships\"] == 100).count()\n",
    "most_het_ships = het_by_fandom[\"het_ships\"].where(het_by_fandom[\"het_ships\"] > 1).sort_values(ascending=False).dropna()\n",
    "highest_percent_of_het = het_by_fandom[\"%_of_het_ships\"].where(\n",
    "    (het_by_fandom[\"het_ships\"] > 1) & (het_by_fandom[\"%_of_het_ships\"] < 100) & (het_by_fandom[\"%_of_het_ships\"] >= 50)\n",
    ").dropna().sort_values(ascending=False)\n",
    "\n",
    "print(most_het_ships.head(3))\n",
    "print(highest_percent_of_het) # (in mixed gender fandoms!)\n",
    "\n",
    "# apparently GoT & Doctor Who have the best het pairings lmao they lead both rankings"
   ]
  },
  {
   "cell_type": "code",
   "execution_count": 7,
   "metadata": {},
   "outputs": [
    {
     "name": "stdout",
     "output_type": "stream",
     "text": [
      "no_mlm_ship_fandoms       77\n",
      "only_mlm_ship_fandoms     85\n",
      "no_wlw_ship_fandoms      105\n",
      "only_wlw_ship_fandoms     55\n",
      "no_het_ship_fandoms      163\n",
      "only_het_ship_fandoms     11\n",
      "dtype: int64\n"
     ]
    }
   ],
   "source": [
    "# combining these into one df now:\n",
    "\n",
    "distr_of_gender_combos_dict = {\n",
    "    \"no_mlm_ship_fandoms\": no_mlm_fandoms,\n",
    "    \"only_mlm_ship_fandoms\": only_mlm_fandoms,\n",
    "    \"no_wlw_ship_fandoms\": no_wlw_fandoms,\n",
    "    \"only_wlw_ship_fandoms\": only_wlw_fandoms,\n",
    "    \"no_het_ship_fandoms\": no_het_fandoms,\n",
    "    \"only_het_ship_fandoms\": only_het_fandoms,\n",
    "}\n",
    "distr_of_gender_combos_series = pd.Series(distr_of_gender_combos_dict)\n",
    "print(distr_of_gender_combos_series) # TO VISUALISE"
   ]
  },
  {
   "cell_type": "code",
   "execution_count": 8,
   "metadata": {},
   "outputs": [
    {
     "name": "stdout",
     "output_type": "stream",
     "text": [
      "ships    2.87\n",
      "mlm      1.39\n",
      "wlw      0.96\n",
      "hets     0.41\n",
      "dtype: float64\n"
     ]
    }
   ],
   "source": [
    "#how many mlm vs wlw vs het ships a fandom has on average\n",
    "\n",
    "average_gender_combo_dict = {\n",
    "    \"ships\": wlw_by_fandom[\"total_ships\"].mean().round(2),\n",
    "    \"mlm\": mlm_by_fandom[\"mlm_ships\"].mean().round(2),\n",
    "    \"wlw\": wlw_by_fandom[\"wlw_ships\"].mean().round(2),\n",
    "    \"hets\": het_by_fandom[\"het_ships\"].mean().round(2)\n",
    "}\n",
    "average_gender_combo_per_fandom_series = pd.Series(average_gender_combo_dict)\n",
    "print(average_gender_combo_per_fandom_series) # TO VISUALISE"
   ]
  },
  {
   "cell_type": "code",
   "execution_count": 9,
   "metadata": {},
   "outputs": [
    {
     "name": "stdout",
     "output_type": "stream",
     "text": [
      "                           count\n",
      "race_combo                      \n",
      "White                        286\n",
      "E Asian                       83\n",
      "Ambig / White                 36\n",
      "Latin / White                 16\n",
      "N.H.                          15\n",
      "E Asian / White               15\n",
      "Ambig                         14\n",
      "Black / White                 11\n",
      "Latin (Multi) / White          9\n",
      "E Asian (Multi) / White        9\n",
      "MENA / White                   8\n",
      "Ambig / N.H.                   8\n",
      "S Asian / White                6\n",
      "Af Lat / White                 6\n",
      "Ambig / E Asian                5\n",
      "Black (Multi) / White          4\n",
      "White / White (Multi)          4\n",
      "E Asian / E Asian (Multi)      4\n",
      "N.H. / White                   4\n",
      "SE Asian (Multi) / White       4\n"
     ]
    }
   ],
   "source": [
    "#all ships race combo percentages\n",
    "\n",
    "from re import split\n",
    "\n",
    "total_race_combo_counts = ships_df.get([\"slash_ship\",\"race_combo\"])\n",
    "\n",
    "unique_combos = sorted(list(set(total_race_combo_counts.race_combo)))\n",
    "rename_dict = {}\n",
    "for combo in unique_combos:\n",
    "    split_version = split(r\"\\s\\/\\s\", combo)\n",
    "    sorted_version = sorted(split_version)\n",
    "    reconcat_version = sorted_version[0]\n",
    "    for item in sorted_version[1:]:\n",
    "        reconcat_version += \" / \" + item\n",
    "    if reconcat_version != combo:\n",
    "        rename_dict[combo] = reconcat_version\n",
    "\n",
    "total_race_combo_counts = total_race_combo_counts.groupby(\"race_combo\").count().rename(\n",
    "    index=rename_dict,\n",
    "    columns={\"slash_ship\": \"count\"}\n",
    ")\n",
    "total_race_combo_counts = total_race_combo_counts.groupby(total_race_combo_counts.index).aggregate(\"sum\").sort_values(\n",
    "    by=\"count\", ascending=False\n",
    ")\n",
    "\n",
    "print(total_race_combo_counts.head(20)) # TO VISUALISE\n",
    "# top 20 (= any with 4+ ships) almost all involve white ppl, if not white ppl east asians instead, or nh/ambig, \n",
    "# no other poc/poc ships ranked that high!\n"
   ]
  },
  {
   "cell_type": "code",
   "execution_count": 10,
   "metadata": {},
   "outputs": [
    {
     "data": {
      "text/plain": [
       "same_race_pairings      395.0\n",
       "interracial_pairings    138.0\n",
       "ambiguous_pairings       67.0\n",
       "dtype: float64"
      ]
     },
     "execution_count": 10,
     "metadata": {},
     "output_type": "execute_result"
    }
   ],
   "source": [
    "#of which how many interracial vs same\n",
    "\n",
    "interracial_ships = total_race_combo_counts.copy()\n",
    "interracial_ships.insert(\n",
    "    loc=1, \n",
    "    column=\"is_interracial_pairing\",\n",
    "    value=interracial_ships.index.str.contains(\"/\")\n",
    ")\n",
    "interracial_ships.insert(\n",
    "    loc=2, \n",
    "    column=\"is_ambig\",\n",
    "    value=interracial_ships.index.str.contains(\"Ambig\")\n",
    ")\n",
    "# print(interracial_ships)\n",
    "\n",
    "interracial_ships_counts = pd.Series(\n",
    "    {\n",
    "        \"same_race_pairings\": interracial_ships[\"count\"].where(\n",
    "            (interracial_ships.is_ambig == False) & (interracial_ships.is_interracial_pairing == False)\n",
    "        ).aggregate(\"sum\"),\n",
    "        \"interracial_pairings\": interracial_ships[\"count\"].where(\n",
    "            (interracial_ships.is_ambig == False) & (interracial_ships.is_interracial_pairing == True)\n",
    "        ).aggregate(\"sum\"), \n",
    "        \"ambiguous_pairings\": interracial_ships[\"count\"].where(\n",
    "            interracial_ships.is_ambig == True\n",
    "        ).aggregate(\"sum\"), \n",
    "    }\n",
    ")\n",
    "interracial_ships_counts # TO VISUALISE"
   ]
  },
  {
   "cell_type": "code",
   "execution_count": 20,
   "metadata": {},
   "outputs": [
    {
     "data": {
      "text/plain": [
       "pairings_with_white_people          440.0\n",
       "pairings_with_east_asian_people     137.0\n",
       "non_white_pairings                  113.0\n",
       "non_white_or_east_asian_pairings     14.0\n",
       "dtype: float64"
      ]
     },
     "execution_count": 20,
     "metadata": {},
     "output_type": "execute_result"
    }
   ],
   "source": [
    "# and how many do not involve white chars\n",
    "\n",
    "non_white_ships = total_race_combo_counts.copy()\n",
    "non_white_ships.insert(\n",
    "    loc=1, \n",
    "    column=\"contains_white_person\",\n",
    "    value=non_white_ships.index.str.contains(\"White\")\n",
    ")\n",
    "non_white_ships.insert(\n",
    "    loc=2, \n",
    "    column=\"contains_e_asian_person\",\n",
    "    value=non_white_ships.index.str.contains(\"E Asian\")\n",
    ")\n",
    "non_white_ships.insert(\n",
    "    loc=3, \n",
    "    column=\"contains_ambig_person\",\n",
    "    value=non_white_ships.index.str.contains(\"Ambig\")\n",
    ")\n",
    "non_white_ships.insert(\n",
    "    loc=3, \n",
    "    column=\"contains_non_human\",\n",
    "    value=non_white_ships.index.str.contains(\"N.H.\")\n",
    ")\n",
    "\n",
    "non_white_ships_counts = pd.Series(\n",
    "    {\n",
    "        \"pairings_with_white_people\": non_white_ships[\"count\"].where(\n",
    "            non_white_ships.contains_white_person == True\n",
    "        ).aggregate(\"sum\"), \n",
    "        \"pairings_with_east_asian_people\": non_white_ships[\"count\"].where(\n",
    "            non_white_ships.contains_e_asian_person == True\n",
    "        ).aggregate(\"sum\"), \n",
    "        \"non_white_pairings\": non_white_ships[\"count\"].where(\n",
    "            (non_white_ships.contains_ambig_person == False) & (\n",
    "            non_white_ships.contains_non_human == False) & (\n",
    "            non_white_ships.contains_white_person == False)\n",
    "        ).aggregate(\"sum\"),\n",
    "        \"non_white_or_east_asian_pairings\": non_white_ships[\"count\"].where(\n",
    "            (non_white_ships.contains_ambig_person == False) & (\n",
    "            non_white_ships.contains_non_human == False) & (\n",
    "            non_white_ships.contains_white_person == False) & (\n",
    "            non_white_ships.contains_e_asian_person == False)\n",
    "        ).aggregate(\"sum\"),\n",
    "    }\n",
    ")\n",
    "\n",
    "non_white_ships_counts # this one's a big oof  # TO VISUALISE"
   ]
  },
  {
   "cell_type": "code",
   "execution_count": 18,
   "metadata": {},
   "outputs": [
    {
     "data": {
      "text/plain": [
       "rpf_or_fic\n",
       "RPF           78\n",
       "fictional    522\n",
       "Name: count, dtype: int64"
      ]
     },
     "execution_count": 18,
     "metadata": {},
     "output_type": "execute_result"
    }
   ],
   "source": [
    "#how much rpf vs fictional\n",
    "\n",
    "rpf_vs_fic_df = ships_df.get([\"slash_ship\", \"rpf_or_fic\"])\n",
    "\n",
    "rpf_vs_fic_df = rpf_vs_fic_df.groupby(\"rpf_or_fic\").count().rename(columns={\"slash_ship\": \"count\"})\n",
    "\n",
    "rpf_vs_fic_df[\"count\"] # TO VISUALISE"
   ]
  }
 ],
 "metadata": {
  "kernelspec": {
   "display_name": "venv",
   "language": "python",
   "name": "python3"
  },
  "language_info": {
   "codemirror_mode": {
    "name": "ipython",
    "version": 3
   },
   "file_extension": ".py",
   "mimetype": "text/x-python",
   "name": "python",
   "nbconvert_exporter": "python",
   "pygments_lexer": "ipython3",
   "version": "3.11.1"
  }
 },
 "nbformat": 4,
 "nbformat_minor": 2
}
