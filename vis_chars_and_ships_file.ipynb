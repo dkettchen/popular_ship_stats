{
 "cells": [
  {
   "cell_type": "code",
   "execution_count": 1,
   "metadata": {},
   "outputs": [
    {
     "name": "stdout",
     "output_type": "stream",
     "text": [
      "Index(['given_name', 'middle_name', 'maiden_name', 'surname', 'alias',\n",
      "       'nickname', 'title_prefix', 'title_suffix', 'name_order', 'full_name',\n",
      "       'fandom', 'gender', 'race', 'rpf_or_fic'],\n",
      "      dtype='object')\n",
      "Index(['slash_ship', 'gen_ship', 'members_no', 'fandom', 'rpf_or_fic',\n",
      "       'gender_combo', 'race_combo', 'member_1', 'member_2', 'member_3',\n",
      "       'member_4'],\n",
      "      dtype='object')\n"
     ]
    }
   ],
   "source": [
    "from visualisation.vis_utils.read_csv_to_df import df_from_csv\n",
    "import pandas as pd\n",
    "\n",
    "# read from ships file make a df\n",
    "characters_df = df_from_csv(\"data/fifth_clean_up_data/stage_5_characters.csv\")\n",
    "print(characters_df.columns)\n",
    "ships_df = df_from_csv(\"data/fifth_clean_up_data/stage_5_ships.csv\")\n",
    "print(ships_df.columns)"
   ]
  },
  {
   "cell_type": "code",
   "execution_count": 2,
   "metadata": {},
   "outputs": [
    {
     "data": {
      "text/html": [
       "<div>\n",
       "<style scoped>\n",
       "    .dataframe tbody tr th:only-of-type {\n",
       "        vertical-align: middle;\n",
       "    }\n",
       "\n",
       "    .dataframe tbody tr th {\n",
       "        vertical-align: top;\n",
       "    }\n",
       "\n",
       "    .dataframe thead th {\n",
       "        text-align: right;\n",
       "    }\n",
       "</style>\n",
       "<table border=\"1\" class=\"dataframe\">\n",
       "  <thead>\n",
       "    <tr style=\"text-align: right;\">\n",
       "      <th></th>\n",
       "      <th>slash_ship</th>\n",
       "      <th>members_no</th>\n",
       "      <th>fandom</th>\n",
       "      <th>rpf_or_fic</th>\n",
       "      <th>gender_combo</th>\n",
       "      <th>race_combo</th>\n",
       "      <th>no_of_ships</th>\n",
       "      <th>full_name</th>\n",
       "      <th>gender</th>\n",
       "      <th>race</th>\n",
       "      <th>name_tag</th>\n",
       "    </tr>\n",
       "  </thead>\n",
       "  <tbody>\n",
       "    <tr>\n",
       "      <th>597</th>\n",
       "      <td>Katsuki Yuuri x Victor Nikiforov</td>\n",
       "      <td>2</td>\n",
       "      <td>Yuri!!! on ICE | ユーリ!!! on ICE</td>\n",
       "      <td>fictional</td>\n",
       "      <td>M / M</td>\n",
       "      <td>E Asian / White</td>\n",
       "      <td>3</td>\n",
       "      <td>Victor Nikiforov</td>\n",
       "      <td>M</td>\n",
       "      <td>White</td>\n",
       "      <td>Yuri!!! on ICE | ユーリ!!! on ICE - Victor Nikiforov</td>\n",
       "    </tr>\n",
       "    <tr>\n",
       "      <th>597</th>\n",
       "      <td>Katsuki Yuuri x Victor Nikiforov</td>\n",
       "      <td>2</td>\n",
       "      <td>Yuri!!! on ICE | ユーリ!!! on ICE</td>\n",
       "      <td>fictional</td>\n",
       "      <td>M / M</td>\n",
       "      <td>E Asian / White</td>\n",
       "      <td>3</td>\n",
       "      <td>Katsuki Yuuri</td>\n",
       "      <td>M</td>\n",
       "      <td>E Asian</td>\n",
       "      <td>Yuri!!! on ICE | ユーリ!!! on ICE - Katsuki Yuuri</td>\n",
       "    </tr>\n",
       "    <tr>\n",
       "      <th>598</th>\n",
       "      <td>Mila Babicheva x Sara Crispino</td>\n",
       "      <td>2</td>\n",
       "      <td>Yuri!!! on ICE | ユーリ!!! on ICE</td>\n",
       "      <td>fictional</td>\n",
       "      <td>F / F</td>\n",
       "      <td>White / Latin</td>\n",
       "      <td>3</td>\n",
       "      <td>Mila Babicheva</td>\n",
       "      <td>F</td>\n",
       "      <td>White</td>\n",
       "      <td>Yuri!!! on ICE | ユーリ!!! on ICE - Mila Babicheva</td>\n",
       "    </tr>\n",
       "    <tr>\n",
       "      <th>599</th>\n",
       "      <td>Otabek Altin x Yuri Plisetsky</td>\n",
       "      <td>2</td>\n",
       "      <td>Yuri!!! on ICE | ユーリ!!! on ICE</td>\n",
       "      <td>fictional</td>\n",
       "      <td>M / M</td>\n",
       "      <td>Central As / White</td>\n",
       "      <td>3</td>\n",
       "      <td>Otabek Altin</td>\n",
       "      <td>M</td>\n",
       "      <td>Central As</td>\n",
       "      <td>Yuri!!! on ICE | ユーリ!!! on ICE - Otabek Altin</td>\n",
       "    </tr>\n",
       "    <tr>\n",
       "      <th>598</th>\n",
       "      <td>Mila Babicheva x Sara Crispino</td>\n",
       "      <td>2</td>\n",
       "      <td>Yuri!!! on ICE | ユーリ!!! on ICE</td>\n",
       "      <td>fictional</td>\n",
       "      <td>F / F</td>\n",
       "      <td>White / Latin</td>\n",
       "      <td>3</td>\n",
       "      <td>Sara Crispino</td>\n",
       "      <td>F</td>\n",
       "      <td>Latin</td>\n",
       "      <td>Yuri!!! on ICE | ユーリ!!! on ICE - Sara Crispino</td>\n",
       "    </tr>\n",
       "  </tbody>\n",
       "</table>\n",
       "</div>"
      ],
      "text/plain": [
       "                           slash_ship  members_no  \\\n",
       "597  Katsuki Yuuri x Victor Nikiforov           2   \n",
       "597  Katsuki Yuuri x Victor Nikiforov           2   \n",
       "598    Mila Babicheva x Sara Crispino           2   \n",
       "599     Otabek Altin x Yuri Plisetsky           2   \n",
       "598    Mila Babicheva x Sara Crispino           2   \n",
       "\n",
       "                             fandom rpf_or_fic gender_combo  \\\n",
       "597  Yuri!!! on ICE | ユーリ!!! on ICE  fictional        M / M   \n",
       "597  Yuri!!! on ICE | ユーリ!!! on ICE  fictional        M / M   \n",
       "598  Yuri!!! on ICE | ユーリ!!! on ICE  fictional        F / F   \n",
       "599  Yuri!!! on ICE | ユーリ!!! on ICE  fictional        M / M   \n",
       "598  Yuri!!! on ICE | ユーリ!!! on ICE  fictional        F / F   \n",
       "\n",
       "             race_combo  no_of_ships         full_name gender        race  \\\n",
       "597     E Asian / White            3  Victor Nikiforov      M       White   \n",
       "597     E Asian / White            3     Katsuki Yuuri      M     E Asian   \n",
       "598       White / Latin            3    Mila Babicheva      F       White   \n",
       "599  Central As / White            3      Otabek Altin      M  Central As   \n",
       "598       White / Latin            3     Sara Crispino      F       Latin   \n",
       "\n",
       "                                              name_tag  \n",
       "597  Yuri!!! on ICE | ユーリ!!! on ICE - Victor Nikiforov  \n",
       "597     Yuri!!! on ICE | ユーリ!!! on ICE - Katsuki Yuuri  \n",
       "598    Yuri!!! on ICE | ユーリ!!! on ICE - Mila Babicheva  \n",
       "599      Yuri!!! on ICE | ユーリ!!! on ICE - Otabek Altin  \n",
       "598     Yuri!!! on ICE | ユーリ!!! on ICE - Sara Crispino  "
      ]
     },
     "execution_count": 2,
     "metadata": {},
     "output_type": "execute_result"
    }
   ],
   "source": [
    "# we need to join these to get a df that has a row per each char per each ship\n",
    "# -> so we can count the rows per each character!\n",
    "\n",
    "# getting only columns we need (for now)\n",
    "character_columns_df = characters_df.copy().get(\n",
    "    ['full_name','fandom', 'gender', 'race']\n",
    ")\n",
    "ship_columns_df = ships_df.copy().get(\n",
    "    [\n",
    "        'slash_ship', 'members_no', 'fandom', \n",
    "        'rpf_or_fic', 'gender_combo', 'race_combo', \n",
    "        'member_1', 'member_2', 'member_3', 'member_4'\n",
    "    ]\n",
    ")\n",
    "\n",
    "# adding count of ships per fandom before joining characters\n",
    "ships_per_fandom_df = ship_columns_df.copy().get(\n",
    "    ['fandom', 'slash_ship',]\n",
    ").groupby(\"fandom\").count().rename(columns={\"slash_ship\":\"no_of_ships\"})\n",
    "ship_columns_df = ship_columns_df.join(\n",
    "    other=ships_per_fandom_df, \n",
    "    on=\"fandom\", \n",
    "    rsuffix=\"_right\", \n",
    "    lsuffix=\"_left\"\n",
    ")\n",
    "\n",
    "# add a column to char df with concat tag!\n",
    "character_columns_df[\"name_tag\"] = character_columns_df[\"fandom\"] + \" - \" + character_columns_df[\"full_name\"]\n",
    "character_columns_df = character_columns_df.set_index(character_columns_df[\"name_tag\"])\n",
    "#print(character_columns_df.head())\n",
    "\n",
    "# make temp df for each member position\n",
    "member_1_df = ship_columns_df.join(\n",
    "    other=character_columns_df, \n",
    "    on=\"member_1\", \n",
    "    rsuffix=\"_right\", \n",
    "    lsuffix=\"_left\"\n",
    ")\n",
    "member_2_df = ship_columns_df.join(\n",
    "    other=character_columns_df, \n",
    "    on=\"member_2\", \n",
    "    rsuffix=\"_right\", \n",
    "    lsuffix=\"_left\"\n",
    ")\n",
    "member_3_df = ship_columns_df.join(\n",
    "    other=character_columns_df, \n",
    "    on=\"member_3\", \n",
    "    rsuffix=\"_right\", \n",
    "    lsuffix=\"_left\"\n",
    ")\n",
    "member_4_df = ship_columns_df.join(\n",
    "    other=character_columns_df, \n",
    "    on=\"member_4\", \n",
    "    rsuffix=\"_right\", \n",
    "    lsuffix=\"_left\"\n",
    ")\n",
    "\n",
    "# -> combine all rows into one big df \n",
    "full_character_df = pd.concat([member_1_df, member_2_df, member_3_df, member_4_df])\n",
    "\n",
    "# drop \"member\" columns now that they're joined\n",
    "full_character_df.pop(\"member_1\")\n",
    "full_character_df.pop(\"member_2\")\n",
    "full_character_df.pop(\"member_3\")\n",
    "full_character_df.pop(\"member_4\")\n",
    "# drop duplicate \"fandom\" column\n",
    "full_character_df.pop(\"fandom_right\")\n",
    "\n",
    "# remove any none value rows from 3 & 4 if you haven't yet \n",
    "full_character_df = full_character_df.dropna().rename(\n",
    "    columns={\"fandom_left\": \"fandom\"}\n",
    ").sort_values(by=\"fandom\")\n",
    "\n",
    "full_character_df.tail()\n"
   ]
  },
  {
   "cell_type": "code",
   "execution_count": 39,
   "metadata": {},
   "outputs": [
    {
     "data": {
      "text/html": [
       "<div>\n",
       "<style scoped>\n",
       "    .dataframe tbody tr th:only-of-type {\n",
       "        vertical-align: middle;\n",
       "    }\n",
       "\n",
       "    .dataframe tbody tr th {\n",
       "        vertical-align: top;\n",
       "    }\n",
       "\n",
       "    .dataframe thead th {\n",
       "        text-align: right;\n",
       "    }\n",
       "</style>\n",
       "<table border=\"1\" class=\"dataframe\">\n",
       "  <thead>\n",
       "    <tr style=\"text-align: right;\">\n",
       "      <th></th>\n",
       "      <th>fandom</th>\n",
       "      <th>rank</th>\n",
       "      <th>names</th>\n",
       "      <th>no_of_ships</th>\n",
       "    </tr>\n",
       "  </thead>\n",
       "  <tbody>\n",
       "    <tr>\n",
       "      <th>39</th>\n",
       "      <td>A Song of Ice and Fire / Game of Thrones Universe</td>\n",
       "      <td>1st</td>\n",
       "      <td>Sansa Stark</td>\n",
       "      <td>3</td>\n",
       "    </tr>\n",
       "    <tr>\n",
       "      <th>38</th>\n",
       "      <td>Adam Lambert</td>\n",
       "      <td>1st</td>\n",
       "      <td>Adam Lambert</td>\n",
       "      <td>3</td>\n",
       "    </tr>\n",
       "    <tr>\n",
       "      <th>35</th>\n",
       "      <td>Bangtan Boys / BTS</td>\n",
       "      <td>1st</td>\n",
       "      <td>Min Yoongi | Suga</td>\n",
       "      <td>5</td>\n",
       "    </tr>\n",
       "    <tr>\n",
       "      <th>36</th>\n",
       "      <td>Bangtan Boys / BTS</td>\n",
       "      <td>2nd</td>\n",
       "      <td>Jeon Jungkook | Jungkook &amp; Park Jimin | Jimin ...</td>\n",
       "      <td>4</td>\n",
       "    </tr>\n",
       "    <tr>\n",
       "      <th>37</th>\n",
       "      <td>Bangtan Boys / BTS</td>\n",
       "      <td>3rd</td>\n",
       "      <td>Kim Namjoon | Rap Monster/RM &amp; Kim Taehyung | ...</td>\n",
       "      <td>3</td>\n",
       "    </tr>\n",
       "    <tr>\n",
       "      <th>33</th>\n",
       "      <td>Buffy Universe</td>\n",
       "      <td>1st</td>\n",
       "      <td>Buffy Summers</td>\n",
       "      <td>4</td>\n",
       "    </tr>\n",
       "    <tr>\n",
       "      <th>34</th>\n",
       "      <td>Buffy Universe</td>\n",
       "      <td>2nd</td>\n",
       "      <td>Spike</td>\n",
       "      <td>3</td>\n",
       "    </tr>\n",
       "    <tr>\n",
       "      <th>31</th>\n",
       "      <td>DC</td>\n",
       "      <td>1st</td>\n",
       "      <td>Alexandra 'Alex' Danvers | Supergirl/Sentinel</td>\n",
       "      <td>5</td>\n",
       "    </tr>\n",
       "    <tr>\n",
       "      <th>32</th>\n",
       "      <td>DC</td>\n",
       "      <td>2nd</td>\n",
       "      <td>Clark Kent | Superman &amp; Kara Danvers/Zor-El | ...</td>\n",
       "      <td>3</td>\n",
       "    </tr>\n",
       "    <tr>\n",
       "      <th>30</th>\n",
       "      <td>Doctor Who</td>\n",
       "      <td>1st</td>\n",
       "      <td>The Doctor</td>\n",
       "      <td>6</td>\n",
       "    </tr>\n",
       "    <tr>\n",
       "      <th>29</th>\n",
       "      <td>Dragon Age</td>\n",
       "      <td>1st</td>\n",
       "      <td>Inquisitor | Player Character</td>\n",
       "      <td>5</td>\n",
       "    </tr>\n",
       "    <tr>\n",
       "      <th>27</th>\n",
       "      <td>Glee</td>\n",
       "      <td>1st</td>\n",
       "      <td>Kurt Hummel</td>\n",
       "      <td>4</td>\n",
       "    </tr>\n",
       "    <tr>\n",
       "      <th>28</th>\n",
       "      <td>Glee</td>\n",
       "      <td>2nd</td>\n",
       "      <td>Rachel Berry &amp; Santana Lopez (tied)</td>\n",
       "      <td>3</td>\n",
       "    </tr>\n",
       "    <tr>\n",
       "      <th>26</th>\n",
       "      <td>Hamilton</td>\n",
       "      <td>1st</td>\n",
       "      <td>Alexander Hamilton</td>\n",
       "      <td>3</td>\n",
       "    </tr>\n",
       "    <tr>\n",
       "      <th>23</th>\n",
       "      <td>Harry Potter Universe</td>\n",
       "      <td>1st</td>\n",
       "      <td>Hermione Granger</td>\n",
       "      <td>6</td>\n",
       "    </tr>\n",
       "    <tr>\n",
       "      <th>24</th>\n",
       "      <td>Harry Potter Universe</td>\n",
       "      <td>2nd</td>\n",
       "      <td>Harry Potter</td>\n",
       "      <td>5</td>\n",
       "    </tr>\n",
       "    <tr>\n",
       "      <th>25</th>\n",
       "      <td>Harry Potter Universe</td>\n",
       "      <td>3rd</td>\n",
       "      <td>Ginny Weasley &amp; Severus Snape (tied)</td>\n",
       "      <td>3</td>\n",
       "    </tr>\n",
       "    <tr>\n",
       "      <th>22</th>\n",
       "      <td>Homestuck</td>\n",
       "      <td>1st</td>\n",
       "      <td>Dave Strider &amp; Karkat Vantas (tied)</td>\n",
       "      <td>3</td>\n",
       "    </tr>\n",
       "    <tr>\n",
       "      <th>18</th>\n",
       "      <td>Marvel</td>\n",
       "      <td>1st</td>\n",
       "      <td>Tony Stark | Iron Man</td>\n",
       "      <td>7</td>\n",
       "    </tr>\n",
       "    <tr>\n",
       "      <th>19</th>\n",
       "      <td>Marvel</td>\n",
       "      <td>2nd</td>\n",
       "      <td>Natalia Alianovna 'Natasha' Romanova | Black W...</td>\n",
       "      <td>5</td>\n",
       "    </tr>\n",
       "    <tr>\n",
       "      <th>20</th>\n",
       "      <td>Marvel</td>\n",
       "      <td>3rd</td>\n",
       "      <td>James Buchanan 'Bucky' Barnes | Winter Soldier...</td>\n",
       "      <td>4</td>\n",
       "    </tr>\n",
       "    <tr>\n",
       "      <th>21</th>\n",
       "      <td>Marvel</td>\n",
       "      <td>4th</td>\n",
       "      <td>Peter Parker | Spiderman &amp; Steve Rogers | Capt...</td>\n",
       "      <td>3</td>\n",
       "    </tr>\n",
       "    <tr>\n",
       "      <th>17</th>\n",
       "      <td>Mass Effect</td>\n",
       "      <td>1st</td>\n",
       "      <td>Shepard | Player Character</td>\n",
       "      <td>4</td>\n",
       "    </tr>\n",
       "    <tr>\n",
       "      <th>15</th>\n",
       "      <td>My Hero Academia | 僕のヒーローアカデミア</td>\n",
       "      <td>1st</td>\n",
       "      <td>Bakugou Katsuki &amp; Midoriya Izuku | Deku (tied)</td>\n",
       "      <td>5</td>\n",
       "    </tr>\n",
       "    <tr>\n",
       "      <th>16</th>\n",
       "      <td>My Hero Academia | 僕のヒーローアカデミア</td>\n",
       "      <td>2nd</td>\n",
       "      <td>Uraraka Ochako | Uravity</td>\n",
       "      <td>3</td>\n",
       "    </tr>\n",
       "    <tr>\n",
       "      <th>13</th>\n",
       "      <td>One Direction</td>\n",
       "      <td>1st</td>\n",
       "      <td>Zayn Malik</td>\n",
       "      <td>4</td>\n",
       "    </tr>\n",
       "    <tr>\n",
       "      <th>14</th>\n",
       "      <td>One Direction</td>\n",
       "      <td>2nd</td>\n",
       "      <td>Harry Styles &amp; Liam Payne &amp; Louis Tomlinson &amp; ...</td>\n",
       "      <td>3</td>\n",
       "    </tr>\n",
       "    <tr>\n",
       "      <th>12</th>\n",
       "      <td>Steven Universe</td>\n",
       "      <td>1st</td>\n",
       "      <td>Pearl &amp; Peridot (tied)</td>\n",
       "      <td>3</td>\n",
       "    </tr>\n",
       "    <tr>\n",
       "      <th>11</th>\n",
       "      <td>Stranger Things</td>\n",
       "      <td>1st</td>\n",
       "      <td>Eddie Munson &amp; Steve Harrington (tied)</td>\n",
       "      <td>3</td>\n",
       "    </tr>\n",
       "    <tr>\n",
       "      <th>9</th>\n",
       "      <td>Supernatural</td>\n",
       "      <td>1st</td>\n",
       "      <td>Sam Winchester</td>\n",
       "      <td>6</td>\n",
       "    </tr>\n",
       "    <tr>\n",
       "      <th>10</th>\n",
       "      <td>Supernatural</td>\n",
       "      <td>2nd</td>\n",
       "      <td>Charlie Bradbury &amp; Dean Winchester (tied)</td>\n",
       "      <td>3</td>\n",
       "    </tr>\n",
       "    <tr>\n",
       "      <th>6</th>\n",
       "      <td>Teen Wolf</td>\n",
       "      <td>1st</td>\n",
       "      <td>Lydia Martin</td>\n",
       "      <td>5</td>\n",
       "    </tr>\n",
       "    <tr>\n",
       "      <th>7</th>\n",
       "      <td>Teen Wolf</td>\n",
       "      <td>2nd</td>\n",
       "      <td>Stiles Stilinski</td>\n",
       "      <td>4</td>\n",
       "    </tr>\n",
       "    <tr>\n",
       "      <th>8</th>\n",
       "      <td>Teen Wolf</td>\n",
       "      <td>3rd</td>\n",
       "      <td>Scott McCall</td>\n",
       "      <td>3</td>\n",
       "    </tr>\n",
       "    <tr>\n",
       "      <th>5</th>\n",
       "      <td>The 100</td>\n",
       "      <td>1st</td>\n",
       "      <td>Clarke Griffin &amp; Raven Reyes (tied)</td>\n",
       "      <td>3</td>\n",
       "    </tr>\n",
       "    <tr>\n",
       "      <th>4</th>\n",
       "      <td>Voltron</td>\n",
       "      <td>1st</td>\n",
       "      <td>Shiro</td>\n",
       "      <td>4</td>\n",
       "    </tr>\n",
       "    <tr>\n",
       "      <th>0</th>\n",
       "      <td>Youtube</td>\n",
       "      <td>1st</td>\n",
       "      <td>Thomas Michael Simons | TommyInnit</td>\n",
       "      <td>8</td>\n",
       "    </tr>\n",
       "    <tr>\n",
       "      <th>1</th>\n",
       "      <td>Youtube</td>\n",
       "      <td>2nd</td>\n",
       "      <td>Alexander | Technoblade &amp; Clay | Dream &amp; Phil ...</td>\n",
       "      <td>5</td>\n",
       "    </tr>\n",
       "    <tr>\n",
       "      <th>2</th>\n",
       "      <td>Youtube</td>\n",
       "      <td>3rd</td>\n",
       "      <td>Nicholas Armstrong | Sapnap &amp; William Patrick ...</td>\n",
       "      <td>4</td>\n",
       "    </tr>\n",
       "    <tr>\n",
       "      <th>3</th>\n",
       "      <td>Youtube</td>\n",
       "      <td>4th</td>\n",
       "      <td>Ranboo &amp; Toby Smith | Tubbo (tied)</td>\n",
       "      <td>3</td>\n",
       "    </tr>\n",
       "  </tbody>\n",
       "</table>\n",
       "</div>"
      ],
      "text/plain": [
       "                                               fandom rank  \\\n",
       "39  A Song of Ice and Fire / Game of Thrones Universe  1st   \n",
       "38                                       Adam Lambert  1st   \n",
       "35                                 Bangtan Boys / BTS  1st   \n",
       "36                                 Bangtan Boys / BTS  2nd   \n",
       "37                                 Bangtan Boys / BTS  3rd   \n",
       "33                                     Buffy Universe  1st   \n",
       "34                                     Buffy Universe  2nd   \n",
       "31                                                 DC  1st   \n",
       "32                                                 DC  2nd   \n",
       "30                                         Doctor Who  1st   \n",
       "29                                         Dragon Age  1st   \n",
       "27                                               Glee  1st   \n",
       "28                                               Glee  2nd   \n",
       "26                                           Hamilton  1st   \n",
       "23                              Harry Potter Universe  1st   \n",
       "24                              Harry Potter Universe  2nd   \n",
       "25                              Harry Potter Universe  3rd   \n",
       "22                                          Homestuck  1st   \n",
       "18                                             Marvel  1st   \n",
       "19                                             Marvel  2nd   \n",
       "20                                             Marvel  3rd   \n",
       "21                                             Marvel  4th   \n",
       "17                                        Mass Effect  1st   \n",
       "15                     My Hero Academia | 僕のヒーローアカデミア  1st   \n",
       "16                     My Hero Academia | 僕のヒーローアカデミア  2nd   \n",
       "13                                      One Direction  1st   \n",
       "14                                      One Direction  2nd   \n",
       "12                                    Steven Universe  1st   \n",
       "11                                    Stranger Things  1st   \n",
       "9                                        Supernatural  1st   \n",
       "10                                       Supernatural  2nd   \n",
       "6                                           Teen Wolf  1st   \n",
       "7                                           Teen Wolf  2nd   \n",
       "8                                           Teen Wolf  3rd   \n",
       "5                                             The 100  1st   \n",
       "4                                             Voltron  1st   \n",
       "0                                             Youtube  1st   \n",
       "1                                             Youtube  2nd   \n",
       "2                                             Youtube  3rd   \n",
       "3                                             Youtube  4th   \n",
       "\n",
       "                                                names  no_of_ships  \n",
       "39                                        Sansa Stark            3  \n",
       "38                                       Adam Lambert            3  \n",
       "35                                  Min Yoongi | Suga            5  \n",
       "36  Jeon Jungkook | Jungkook & Park Jimin | Jimin ...            4  \n",
       "37  Kim Namjoon | Rap Monster/RM & Kim Taehyung | ...            3  \n",
       "33                                      Buffy Summers            4  \n",
       "34                                              Spike            3  \n",
       "31      Alexandra 'Alex' Danvers | Supergirl/Sentinel            5  \n",
       "32  Clark Kent | Superman & Kara Danvers/Zor-El | ...            3  \n",
       "30                                         The Doctor            6  \n",
       "29                      Inquisitor | Player Character            5  \n",
       "27                                        Kurt Hummel            4  \n",
       "28                Rachel Berry & Santana Lopez (tied)            3  \n",
       "26                                 Alexander Hamilton            3  \n",
       "23                                   Hermione Granger            6  \n",
       "24                                       Harry Potter            5  \n",
       "25               Ginny Weasley & Severus Snape (tied)            3  \n",
       "22                Dave Strider & Karkat Vantas (tied)            3  \n",
       "18                              Tony Stark | Iron Man            7  \n",
       "19  Natalia Alianovna 'Natasha' Romanova | Black W...            5  \n",
       "20  James Buchanan 'Bucky' Barnes | Winter Soldier...            4  \n",
       "21  Peter Parker | Spiderman & Steve Rogers | Capt...            3  \n",
       "17                         Shepard | Player Character            4  \n",
       "15     Bakugou Katsuki & Midoriya Izuku | Deku (tied)            5  \n",
       "16                           Uraraka Ochako | Uravity            3  \n",
       "13                                         Zayn Malik            4  \n",
       "14  Harry Styles & Liam Payne & Louis Tomlinson & ...            3  \n",
       "12                             Pearl & Peridot (tied)            3  \n",
       "11             Eddie Munson & Steve Harrington (tied)            3  \n",
       "9                                      Sam Winchester            6  \n",
       "10          Charlie Bradbury & Dean Winchester (tied)            3  \n",
       "6                                        Lydia Martin            5  \n",
       "7                                    Stiles Stilinski            4  \n",
       "8                                        Scott McCall            3  \n",
       "5                 Clarke Griffin & Raven Reyes (tied)            3  \n",
       "4                                               Shiro            4  \n",
       "0                  Thomas Michael Simons | TommyInnit            8  \n",
       "1   Alexander | Technoblade & Clay | Dream & Phil ...            5  \n",
       "2   Nicholas Armstrong | Sapnap & William Patrick ...            4  \n",
       "3                  Ranboo & Toby Smith | Tubbo (tied)            3  "
      ]
     },
     "execution_count": 39,
     "metadata": {},
     "output_type": "execute_result"
    }
   ],
   "source": [
    "# hottest character (character in most ships in fandom)\n",
    "\n",
    "# we need: \n",
    "hottest_df = full_character_df.copy().where(\n",
    "    cond=full_character_df[\"no_of_ships\"] > 1\n",
    ").get(\n",
    "    [\"fandom\", \"full_name\", \"slash_ship\", \"gender\", \"race\"]\n",
    ")\n",
    "\n",
    "# renaming the doctor & gender diff player characters as they are the same character\n",
    "renaming_dict = {}\n",
    "reassigning_dict = {}\n",
    "for doctor in [\n",
    "    \"The Eleventh Doctor\",\n",
    "    \"The Ninth Doctor\",\n",
    "    \"The Tenth Doctor\",\n",
    "    \"The Thirteenth Doctor\",\n",
    "    \"The Twelfth Doctor\",\n",
    "]:\n",
    "    renaming_dict[doctor] = \"The Doctor\"\n",
    "for pc in [\n",
    "    \"Hawke (Female) | Player Character\",\n",
    "    \"Inquisitor (Female) | Player Character\",\n",
    "    \"Warden (Female) | Player Character\",\n",
    "    \"Shepard (Female) | Player Character\",\n",
    "    \"Shepard (Male) | Player Character\",\n",
    "]:\n",
    "    if \"Hawke\" in pc:\n",
    "        renaming_dict[pc] = \"Hawke | Player Character\"\n",
    "    elif \"Inquisitor\" in pc:\n",
    "        renaming_dict[pc] = \"Inquisitor | Player Character\"\n",
    "    elif \"Warden\" in pc:\n",
    "        renaming_dict[pc] = \"Warden | Player Character\"\n",
    "    elif \"Shepard\" in pc:\n",
    "        renaming_dict[pc] = \"Shepard | Player Character\"\n",
    "\n",
    "# and setting their genders as ambig bc they vary but we want to count them as one here\n",
    "hottest_df[\"gender\"] = hottest_df[\"gender\"].mask(\n",
    "    cond=(\n",
    "        (hottest_df[\"full_name\"].str.contains(\"Female\", na=False)\n",
    "        ) | (hottest_df[\"full_name\"].str.contains(\"Male\", na=False)\n",
    "        ) | (hottest_df[\"full_name\"].str.contains(\" Doctor\", na=False))\n",
    "        ),\n",
    "    other=\"Ambig\"\n",
    ")\n",
    "hottest_df[\"full_name\"] = hottest_df[\"full_name\"].replace(to_replace=renaming_dict)\n",
    "\n",
    "# group by fandom, by characters, count characters\n",
    "hottest_df = hottest_df.groupby(\n",
    "    [\"fandom\", \"full_name\", \"gender\", \"race\"]\n",
    ").count().rename(\n",
    "    columns={\"slash_ship\":\"no_of_ships_they_in\"}\n",
    ").reset_index().sort_values(\n",
    "    by=[\"fandom\", \"no_of_ships_they_in\"],\n",
    "    ascending=False\n",
    ")\n",
    "\n",
    "# figuring out which fandoms' characters are all tied for ship numbers\n",
    "# unique_fandoms = hottest_df[\"fandom\"].unique()\n",
    "# tied_fandoms = []\n",
    "# for fandom in unique_fandoms:\n",
    "#     fandom_group = hottest_df.where(\n",
    "#         cond=hottest_df[\"fandom\"] == fandom\n",
    "#     ).sort_values(by=\"no_of_ships_they_in\").dropna()\n",
    "#     if fandom_group[\"no_of_ships_they_in\"].max() == fandom_group[\"no_of_ships_they_in\"].min() and \\\n",
    "#     fandom_group.shape[0] > 1 and fandom_group[\"no_of_ships_they_in\"].max() > 1:\n",
    "#         tied_fandoms.append(fandom)\n",
    "# print(tied_fandoms) # -> only ['Carmilla', 'Amphibia']\n",
    "\n",
    "# removing all chars that are in less than 3 ships, and any fandoms where all chars are tied\n",
    "hottest_df = hottest_df.where(\n",
    "    cond=(hottest_df[\"no_of_ships_they_in\"] > 2) & (\n",
    "    hottest_df[\"fandom\"] != 'Carmilla') & (\n",
    "    hottest_df[\"fandom\"] != 'Amphibia')\n",
    ").dropna()\n",
    "#hottest_df # currently only has 62 rows!\n",
    "\n",
    "unique_fandoms = hottest_df[\"fandom\"].unique()\n",
    "hottest_chars_by_ship_no_dict = {}\n",
    "for fandom in unique_fandoms:\n",
    "    hottest_chars_by_ship_no_dict[fandom] = {}\n",
    "    fandom_group = hottest_df.where(\n",
    "        cond=hottest_df[\"fandom\"] == fandom\n",
    "    ).sort_values(by=\"no_of_ships_they_in\").dropna()\n",
    "    for num in [3,4,5,6,7,8]:\n",
    "        char_rank_list = list(fandom_group[\"full_name\"].where(\n",
    "            fandom_group[\"no_of_ships_they_in\"] == num\n",
    "        ).dropna())\n",
    "        if len(char_rank_list) > 0:\n",
    "            hottest_chars_by_ship_no_dict[fandom][num] = char_rank_list\n",
    "\n",
    "hottest_chars_by_ship_no = pd.DataFrame(hottest_chars_by_ship_no_dict).sort_index(ascending=False)\n",
    "\n",
    "hottest_chars_dict = {}\n",
    "for fandom in hottest_chars_by_ship_no.columns:\n",
    "    all_chars = hottest_chars_by_ship_no[fandom].dropna()\n",
    "    hottest_chars_dict[fandom] = []\n",
    "    for index in all_chars.index:\n",
    "        value = [\n",
    "            index, # no of ships\n",
    "            all_chars.loc[index] # ppl tied at that number\n",
    "        ]\n",
    "        hottest_chars_dict[fandom].append(value)\n",
    "\n",
    "# hottest_chars_by_ship_no\n",
    "hottest_chars_dict # first item in list is highest ranked!\n",
    "\n",
    "rankings = {}\n",
    "rank_lookup_dict = {\n",
    "    1: \"1st\",\n",
    "    2: \"2nd\",\n",
    "    3: \"3rd\",\n",
    "    4: \"4th\",\n",
    "}\n",
    "for fandom in hottest_chars_dict:\n",
    "    count = 1\n",
    "    length = len(hottest_chars_dict[fandom])\n",
    "    rankings[fandom] = {}\n",
    "    for rank in hottest_chars_dict[fandom]:\n",
    "        rank_no = rank_lookup_dict[count]\n",
    "\n",
    "        names_list = sorted(rank[1])\n",
    "        no_of_ships = rank[0]\n",
    "        names_str = names_list[0]\n",
    "        if len(names_list) > 1:\n",
    "            for name in names_list[1:]:\n",
    "                names_str += \" & \" + name\n",
    "            names_str += \" (tied)\"\n",
    "\n",
    "        rankings[fandom][rank_no] = {\n",
    "            \"no_of_ships\": no_of_ships,\n",
    "            \"names\": names_str,\n",
    "        }\n",
    "        count += 1\n",
    "\n",
    "# print(rankings)\n",
    "\n",
    "rankings_columns = [\"fandom\", \"rank\", \"names\", \"no_of_ships\"]\n",
    "rankings_list = []\n",
    "for fandom in rankings:\n",
    "    for rank in rankings[fandom]:\n",
    "        temp_list = [\n",
    "            fandom, \n",
    "            rank,\n",
    "            rankings[fandom][rank][\"names\"],\n",
    "            rankings[fandom][rank][\"no_of_ships\"]\n",
    "        ]\n",
    "        rankings_list.append(temp_list)\n",
    "\n",
    "hottest_rank_df = pd.DataFrame(\n",
    "    data=rankings_list, \n",
    "    columns=rankings_columns\n",
    ").sort_values(by=[\"fandom\", \"rank\"])\n",
    "hottest_rank_df\n"
   ]
  },
  {
   "cell_type": "code",
   "execution_count": 4,
   "metadata": {},
   "outputs": [],
   "source": [
    "# plotly imports\n",
    "\n",
    "import plotly.express as px\n",
    "import plotly.graph_objects as go\n",
    "from plotly.subplots import make_subplots"
   ]
  },
  {
   "cell_type": "code",
   "execution_count": 60,
   "metadata": {},
   "outputs": [
    {
     "data": {
      "application/vnd.plotly.v1+json": {
       "config": {
        "plotlyServerURL": "https://plot.ly"
       },
       "data": [
        {
         "cells": {
          "align": "left",
          "fill": {
           "color": "aliceblue"
          },
          "line": {
           "color": "slategrey"
          },
          "values": [
           [
            "A Song of Ice and Fire / Game of Thrones Universe",
            "Adam Lambert",
            "Bangtan Boys / BTS",
            "Bangtan Boys / BTS",
            "Bangtan Boys / BTS",
            "Buffy Universe",
            "Buffy Universe",
            "DC",
            "DC",
            "Doctor Who",
            "Dragon Age",
            "Glee",
            "Glee",
            "Hamilton",
            "Harry Potter Universe",
            "Harry Potter Universe",
            "Harry Potter Universe",
            "Homestuck",
            "Marvel",
            "Marvel",
            "Marvel",
            "Marvel",
            "Mass Effect",
            "My Hero Academia | 僕のヒーローアカデミア",
            "My Hero Academia | 僕のヒーローアカデミア",
            "One Direction",
            "One Direction",
            "Steven Universe",
            "Stranger Things",
            "Supernatural",
            "Supernatural",
            "Teen Wolf",
            "Teen Wolf",
            "Teen Wolf",
            "The 100",
            "Voltron",
            "Youtube",
            "Youtube",
            "Youtube",
            "Youtube"
           ],
           [
            "1st",
            "1st",
            "1st",
            "2nd",
            "3rd",
            "1st",
            "2nd",
            "1st",
            "2nd",
            "1st",
            "1st",
            "1st",
            "2nd",
            "1st",
            "1st",
            "2nd",
            "3rd",
            "1st",
            "1st",
            "2nd",
            "3rd",
            "4th",
            "1st",
            "1st",
            "2nd",
            "1st",
            "2nd",
            "1st",
            "1st",
            "1st",
            "2nd",
            "1st",
            "2nd",
            "3rd",
            "1st",
            "1st",
            "1st",
            "2nd",
            "3rd",
            "4th"
           ],
           [
            "Sansa Stark",
            "Adam Lambert",
            "Min Yoongi | Suga",
            "Jeon Jungkook | Jungkook & Park Jimin | Jimin (tied)",
            "Kim Namjoon | Rap Monster/RM & Kim Taehyung | V (tied)",
            "Buffy Summers",
            "Spike",
            "Alexandra 'Alex' Danvers | Supergirl/Sentinel",
            "Clark Kent | Superman & Kara Danvers/Zor-El | Supergirl & Sara Lance | White Canary (tied)",
            "The Doctor",
            "Inquisitor | Player Character",
            "Kurt Hummel",
            "Rachel Berry & Santana Lopez (tied)",
            "Alexander Hamilton",
            "Hermione Granger",
            "Harry Potter",
            "Ginny Weasley & Severus Snape (tied)",
            "Dave Strider & Karkat Vantas (tied)",
            "Tony Stark | Iron Man",
            "Natalia Alianovna 'Natasha' Romanova | Black Widow",
            "James Buchanan 'Bucky' Barnes | Winter Soldier/Captain America & Loki Laufeyson/Odinson (tied)",
            "Peter Parker | Spiderman & Steve Rogers | Captain America & Y/N | Reader (tied)",
            "Shepard | Player Character",
            "Bakugou Katsuki & Midoriya Izuku | Deku (tied)",
            "Uraraka Ochako | Uravity",
            "Zayn Malik",
            "Harry Styles & Liam Payne & Louis Tomlinson & Niall Horan (tied)",
            "Pearl & Peridot (tied)",
            "Eddie Munson & Steve Harrington (tied)",
            "Sam Winchester",
            "Charlie Bradbury & Dean Winchester (tied)",
            "Lydia Martin",
            "Stiles Stilinski",
            "Scott McCall",
            "Clarke Griffin & Raven Reyes (tied)",
            "Shiro",
            "Thomas Michael Simons | TommyInnit",
            "Alexander | Technoblade & Clay | Dream & Phil Watson | Philza (tied)",
            "Nicholas Armstrong | Sapnap & William Patrick Spencer Gold | Wilbur Soot (tied)",
            "Ranboo & Toby Smith | Tubbo (tied)"
           ],
           [
            3,
            3,
            5,
            4,
            3,
            4,
            3,
            5,
            3,
            6,
            5,
            4,
            3,
            3,
            6,
            5,
            3,
            3,
            7,
            5,
            4,
            3,
            4,
            5,
            3,
            4,
            3,
            3,
            3,
            6,
            3,
            5,
            4,
            3,
            3,
            4,
            8,
            5,
            4,
            3
           ]
          ]
         },
         "header": {
          "align": "left",
          "fill": {
           "color": "skyblue"
          },
          "line": {
           "color": "slategrey"
          },
          "values": [
           "fandom",
           "rank",
           "names",
           "no_of_ships"
          ]
         },
         "type": "table"
        }
       ],
       "layout": {
        "template": {
         "data": {
          "bar": [
           {
            "error_x": {
             "color": "#2a3f5f"
            },
            "error_y": {
             "color": "#2a3f5f"
            },
            "marker": {
             "line": {
              "color": "#E5ECF6",
              "width": 0.5
             },
             "pattern": {
              "fillmode": "overlay",
              "size": 10,
              "solidity": 0.2
             }
            },
            "type": "bar"
           }
          ],
          "barpolar": [
           {
            "marker": {
             "line": {
              "color": "#E5ECF6",
              "width": 0.5
             },
             "pattern": {
              "fillmode": "overlay",
              "size": 10,
              "solidity": 0.2
             }
            },
            "type": "barpolar"
           }
          ],
          "carpet": [
           {
            "aaxis": {
             "endlinecolor": "#2a3f5f",
             "gridcolor": "white",
             "linecolor": "white",
             "minorgridcolor": "white",
             "startlinecolor": "#2a3f5f"
            },
            "baxis": {
             "endlinecolor": "#2a3f5f",
             "gridcolor": "white",
             "linecolor": "white",
             "minorgridcolor": "white",
             "startlinecolor": "#2a3f5f"
            },
            "type": "carpet"
           }
          ],
          "choropleth": [
           {
            "colorbar": {
             "outlinewidth": 0,
             "ticks": ""
            },
            "type": "choropleth"
           }
          ],
          "contour": [
           {
            "colorbar": {
             "outlinewidth": 0,
             "ticks": ""
            },
            "colorscale": [
             [
              0,
              "#0d0887"
             ],
             [
              0.1111111111111111,
              "#46039f"
             ],
             [
              0.2222222222222222,
              "#7201a8"
             ],
             [
              0.3333333333333333,
              "#9c179e"
             ],
             [
              0.4444444444444444,
              "#bd3786"
             ],
             [
              0.5555555555555556,
              "#d8576b"
             ],
             [
              0.6666666666666666,
              "#ed7953"
             ],
             [
              0.7777777777777778,
              "#fb9f3a"
             ],
             [
              0.8888888888888888,
              "#fdca26"
             ],
             [
              1,
              "#f0f921"
             ]
            ],
            "type": "contour"
           }
          ],
          "contourcarpet": [
           {
            "colorbar": {
             "outlinewidth": 0,
             "ticks": ""
            },
            "type": "contourcarpet"
           }
          ],
          "heatmap": [
           {
            "colorbar": {
             "outlinewidth": 0,
             "ticks": ""
            },
            "colorscale": [
             [
              0,
              "#0d0887"
             ],
             [
              0.1111111111111111,
              "#46039f"
             ],
             [
              0.2222222222222222,
              "#7201a8"
             ],
             [
              0.3333333333333333,
              "#9c179e"
             ],
             [
              0.4444444444444444,
              "#bd3786"
             ],
             [
              0.5555555555555556,
              "#d8576b"
             ],
             [
              0.6666666666666666,
              "#ed7953"
             ],
             [
              0.7777777777777778,
              "#fb9f3a"
             ],
             [
              0.8888888888888888,
              "#fdca26"
             ],
             [
              1,
              "#f0f921"
             ]
            ],
            "type": "heatmap"
           }
          ],
          "heatmapgl": [
           {
            "colorbar": {
             "outlinewidth": 0,
             "ticks": ""
            },
            "colorscale": [
             [
              0,
              "#0d0887"
             ],
             [
              0.1111111111111111,
              "#46039f"
             ],
             [
              0.2222222222222222,
              "#7201a8"
             ],
             [
              0.3333333333333333,
              "#9c179e"
             ],
             [
              0.4444444444444444,
              "#bd3786"
             ],
             [
              0.5555555555555556,
              "#d8576b"
             ],
             [
              0.6666666666666666,
              "#ed7953"
             ],
             [
              0.7777777777777778,
              "#fb9f3a"
             ],
             [
              0.8888888888888888,
              "#fdca26"
             ],
             [
              1,
              "#f0f921"
             ]
            ],
            "type": "heatmapgl"
           }
          ],
          "histogram": [
           {
            "marker": {
             "pattern": {
              "fillmode": "overlay",
              "size": 10,
              "solidity": 0.2
             }
            },
            "type": "histogram"
           }
          ],
          "histogram2d": [
           {
            "colorbar": {
             "outlinewidth": 0,
             "ticks": ""
            },
            "colorscale": [
             [
              0,
              "#0d0887"
             ],
             [
              0.1111111111111111,
              "#46039f"
             ],
             [
              0.2222222222222222,
              "#7201a8"
             ],
             [
              0.3333333333333333,
              "#9c179e"
             ],
             [
              0.4444444444444444,
              "#bd3786"
             ],
             [
              0.5555555555555556,
              "#d8576b"
             ],
             [
              0.6666666666666666,
              "#ed7953"
             ],
             [
              0.7777777777777778,
              "#fb9f3a"
             ],
             [
              0.8888888888888888,
              "#fdca26"
             ],
             [
              1,
              "#f0f921"
             ]
            ],
            "type": "histogram2d"
           }
          ],
          "histogram2dcontour": [
           {
            "colorbar": {
             "outlinewidth": 0,
             "ticks": ""
            },
            "colorscale": [
             [
              0,
              "#0d0887"
             ],
             [
              0.1111111111111111,
              "#46039f"
             ],
             [
              0.2222222222222222,
              "#7201a8"
             ],
             [
              0.3333333333333333,
              "#9c179e"
             ],
             [
              0.4444444444444444,
              "#bd3786"
             ],
             [
              0.5555555555555556,
              "#d8576b"
             ],
             [
              0.6666666666666666,
              "#ed7953"
             ],
             [
              0.7777777777777778,
              "#fb9f3a"
             ],
             [
              0.8888888888888888,
              "#fdca26"
             ],
             [
              1,
              "#f0f921"
             ]
            ],
            "type": "histogram2dcontour"
           }
          ],
          "mesh3d": [
           {
            "colorbar": {
             "outlinewidth": 0,
             "ticks": ""
            },
            "type": "mesh3d"
           }
          ],
          "parcoords": [
           {
            "line": {
             "colorbar": {
              "outlinewidth": 0,
              "ticks": ""
             }
            },
            "type": "parcoords"
           }
          ],
          "pie": [
           {
            "automargin": true,
            "type": "pie"
           }
          ],
          "scatter": [
           {
            "fillpattern": {
             "fillmode": "overlay",
             "size": 10,
             "solidity": 0.2
            },
            "type": "scatter"
           }
          ],
          "scatter3d": [
           {
            "line": {
             "colorbar": {
              "outlinewidth": 0,
              "ticks": ""
             }
            },
            "marker": {
             "colorbar": {
              "outlinewidth": 0,
              "ticks": ""
             }
            },
            "type": "scatter3d"
           }
          ],
          "scattercarpet": [
           {
            "marker": {
             "colorbar": {
              "outlinewidth": 0,
              "ticks": ""
             }
            },
            "type": "scattercarpet"
           }
          ],
          "scattergeo": [
           {
            "marker": {
             "colorbar": {
              "outlinewidth": 0,
              "ticks": ""
             }
            },
            "type": "scattergeo"
           }
          ],
          "scattergl": [
           {
            "marker": {
             "colorbar": {
              "outlinewidth": 0,
              "ticks": ""
             }
            },
            "type": "scattergl"
           }
          ],
          "scattermapbox": [
           {
            "marker": {
             "colorbar": {
              "outlinewidth": 0,
              "ticks": ""
             }
            },
            "type": "scattermapbox"
           }
          ],
          "scatterpolar": [
           {
            "marker": {
             "colorbar": {
              "outlinewidth": 0,
              "ticks": ""
             }
            },
            "type": "scatterpolar"
           }
          ],
          "scatterpolargl": [
           {
            "marker": {
             "colorbar": {
              "outlinewidth": 0,
              "ticks": ""
             }
            },
            "type": "scatterpolargl"
           }
          ],
          "scatterternary": [
           {
            "marker": {
             "colorbar": {
              "outlinewidth": 0,
              "ticks": ""
             }
            },
            "type": "scatterternary"
           }
          ],
          "surface": [
           {
            "colorbar": {
             "outlinewidth": 0,
             "ticks": ""
            },
            "colorscale": [
             [
              0,
              "#0d0887"
             ],
             [
              0.1111111111111111,
              "#46039f"
             ],
             [
              0.2222222222222222,
              "#7201a8"
             ],
             [
              0.3333333333333333,
              "#9c179e"
             ],
             [
              0.4444444444444444,
              "#bd3786"
             ],
             [
              0.5555555555555556,
              "#d8576b"
             ],
             [
              0.6666666666666666,
              "#ed7953"
             ],
             [
              0.7777777777777778,
              "#fb9f3a"
             ],
             [
              0.8888888888888888,
              "#fdca26"
             ],
             [
              1,
              "#f0f921"
             ]
            ],
            "type": "surface"
           }
          ],
          "table": [
           {
            "cells": {
             "fill": {
              "color": "#EBF0F8"
             },
             "line": {
              "color": "white"
             }
            },
            "header": {
             "fill": {
              "color": "#C8D4E3"
             },
             "line": {
              "color": "white"
             }
            },
            "type": "table"
           }
          ]
         },
         "layout": {
          "annotationdefaults": {
           "arrowcolor": "#2a3f5f",
           "arrowhead": 0,
           "arrowwidth": 1
          },
          "autotypenumbers": "strict",
          "coloraxis": {
           "colorbar": {
            "outlinewidth": 0,
            "ticks": ""
           }
          },
          "colorscale": {
           "diverging": [
            [
             0,
             "#8e0152"
            ],
            [
             0.1,
             "#c51b7d"
            ],
            [
             0.2,
             "#de77ae"
            ],
            [
             0.3,
             "#f1b6da"
            ],
            [
             0.4,
             "#fde0ef"
            ],
            [
             0.5,
             "#f7f7f7"
            ],
            [
             0.6,
             "#e6f5d0"
            ],
            [
             0.7,
             "#b8e186"
            ],
            [
             0.8,
             "#7fbc41"
            ],
            [
             0.9,
             "#4d9221"
            ],
            [
             1,
             "#276419"
            ]
           ],
           "sequential": [
            [
             0,
             "#0d0887"
            ],
            [
             0.1111111111111111,
             "#46039f"
            ],
            [
             0.2222222222222222,
             "#7201a8"
            ],
            [
             0.3333333333333333,
             "#9c179e"
            ],
            [
             0.4444444444444444,
             "#bd3786"
            ],
            [
             0.5555555555555556,
             "#d8576b"
            ],
            [
             0.6666666666666666,
             "#ed7953"
            ],
            [
             0.7777777777777778,
             "#fb9f3a"
            ],
            [
             0.8888888888888888,
             "#fdca26"
            ],
            [
             1,
             "#f0f921"
            ]
           ],
           "sequentialminus": [
            [
             0,
             "#0d0887"
            ],
            [
             0.1111111111111111,
             "#46039f"
            ],
            [
             0.2222222222222222,
             "#7201a8"
            ],
            [
             0.3333333333333333,
             "#9c179e"
            ],
            [
             0.4444444444444444,
             "#bd3786"
            ],
            [
             0.5555555555555556,
             "#d8576b"
            ],
            [
             0.6666666666666666,
             "#ed7953"
            ],
            [
             0.7777777777777778,
             "#fb9f3a"
            ],
            [
             0.8888888888888888,
             "#fdca26"
            ],
            [
             1,
             "#f0f921"
            ]
           ]
          },
          "colorway": [
           "#636efa",
           "#EF553B",
           "#00cc96",
           "#ab63fa",
           "#FFA15A",
           "#19d3f3",
           "#FF6692",
           "#B6E880",
           "#FF97FF",
           "#FECB52"
          ],
          "font": {
           "color": "#2a3f5f"
          },
          "geo": {
           "bgcolor": "white",
           "lakecolor": "white",
           "landcolor": "#E5ECF6",
           "showlakes": true,
           "showland": true,
           "subunitcolor": "white"
          },
          "hoverlabel": {
           "align": "left"
          },
          "hovermode": "closest",
          "mapbox": {
           "style": "light"
          },
          "paper_bgcolor": "white",
          "plot_bgcolor": "#E5ECF6",
          "polar": {
           "angularaxis": {
            "gridcolor": "white",
            "linecolor": "white",
            "ticks": ""
           },
           "bgcolor": "#E5ECF6",
           "radialaxis": {
            "gridcolor": "white",
            "linecolor": "white",
            "ticks": ""
           }
          },
          "scene": {
           "xaxis": {
            "backgroundcolor": "#E5ECF6",
            "gridcolor": "white",
            "gridwidth": 2,
            "linecolor": "white",
            "showbackground": true,
            "ticks": "",
            "zerolinecolor": "white"
           },
           "yaxis": {
            "backgroundcolor": "#E5ECF6",
            "gridcolor": "white",
            "gridwidth": 2,
            "linecolor": "white",
            "showbackground": true,
            "ticks": "",
            "zerolinecolor": "white"
           },
           "zaxis": {
            "backgroundcolor": "#E5ECF6",
            "gridcolor": "white",
            "gridwidth": 2,
            "linecolor": "white",
            "showbackground": true,
            "ticks": "",
            "zerolinecolor": "white"
           }
          },
          "shapedefaults": {
           "line": {
            "color": "#2a3f5f"
           }
          },
          "ternary": {
           "aaxis": {
            "gridcolor": "white",
            "linecolor": "white",
            "ticks": ""
           },
           "baxis": {
            "gridcolor": "white",
            "linecolor": "white",
            "ticks": ""
           },
           "bgcolor": "#E5ECF6",
           "caxis": {
            "gridcolor": "white",
            "linecolor": "white",
            "ticks": ""
           }
          },
          "title": {
           "x": 0.05
          },
          "xaxis": {
           "automargin": true,
           "gridcolor": "white",
           "linecolor": "white",
           "ticks": "",
           "title": {
            "standoff": 15
           },
           "zerolinecolor": "white",
           "zerolinewidth": 2
          },
          "yaxis": {
           "automargin": true,
           "gridcolor": "white",
           "linecolor": "white",
           "ticks": "",
           "title": {
            "standoff": 15
           },
           "zerolinecolor": "white",
           "zerolinewidth": 2
          }
         }
        }
       }
      },
      "text/html": [
       "<div>                            <div id=\"64c15cef-774b-4c5e-aaf8-3001352858aa\" class=\"plotly-graph-div\" style=\"height:525px; width:100%;\"></div>            <script type=\"text/javascript\">                require([\"plotly\"], function(Plotly) {                    window.PLOTLYENV=window.PLOTLYENV || {};                                    if (document.getElementById(\"64c15cef-774b-4c5e-aaf8-3001352858aa\")) {                    Plotly.newPlot(                        \"64c15cef-774b-4c5e-aaf8-3001352858aa\",                        [{\"cells\":{\"align\":\"left\",\"fill\":{\"color\":\"aliceblue\"},\"line\":{\"color\":\"slategrey\"},\"values\":[[\"A Song of Ice and Fire \\u002f Game of Thrones Universe\",\"Adam Lambert\",\"Bangtan Boys \\u002f BTS\",\"Bangtan Boys \\u002f BTS\",\"Bangtan Boys \\u002f BTS\",\"Buffy Universe\",\"Buffy Universe\",\"DC\",\"DC\",\"Doctor Who\",\"Dragon Age\",\"Glee\",\"Glee\",\"Hamilton\",\"Harry Potter Universe\",\"Harry Potter Universe\",\"Harry Potter Universe\",\"Homestuck\",\"Marvel\",\"Marvel\",\"Marvel\",\"Marvel\",\"Mass Effect\",\"My Hero Academia | \\u50d5\\u306e\\u30d2\\u30fc\\u30ed\\u30fc\\u30a2\\u30ab\\u30c7\\u30df\\u30a2\",\"My Hero Academia | \\u50d5\\u306e\\u30d2\\u30fc\\u30ed\\u30fc\\u30a2\\u30ab\\u30c7\\u30df\\u30a2\",\"One Direction\",\"One Direction\",\"Steven Universe\",\"Stranger Things\",\"Supernatural\",\"Supernatural\",\"Teen Wolf\",\"Teen Wolf\",\"Teen Wolf\",\"The 100\",\"Voltron\",\"Youtube\",\"Youtube\",\"Youtube\",\"Youtube\"],[\"1st\",\"1st\",\"1st\",\"2nd\",\"3rd\",\"1st\",\"2nd\",\"1st\",\"2nd\",\"1st\",\"1st\",\"1st\",\"2nd\",\"1st\",\"1st\",\"2nd\",\"3rd\",\"1st\",\"1st\",\"2nd\",\"3rd\",\"4th\",\"1st\",\"1st\",\"2nd\",\"1st\",\"2nd\",\"1st\",\"1st\",\"1st\",\"2nd\",\"1st\",\"2nd\",\"3rd\",\"1st\",\"1st\",\"1st\",\"2nd\",\"3rd\",\"4th\"],[\"Sansa Stark\",\"Adam Lambert\",\"Min Yoongi | Suga\",\"Jeon Jungkook | Jungkook & Park Jimin | Jimin (tied)\",\"Kim Namjoon | Rap Monster\\u002fRM & Kim Taehyung | V (tied)\",\"Buffy Summers\",\"Spike\",\"Alexandra 'Alex' Danvers | Supergirl\\u002fSentinel\",\"Clark Kent | Superman & Kara Danvers\\u002fZor-El | Supergirl & Sara Lance | White Canary (tied)\",\"The Doctor\",\"Inquisitor | Player Character\",\"Kurt Hummel\",\"Rachel Berry & Santana Lopez (tied)\",\"Alexander Hamilton\",\"Hermione Granger\",\"Harry Potter\",\"Ginny Weasley & Severus Snape (tied)\",\"Dave Strider & Karkat Vantas (tied)\",\"Tony Stark | Iron Man\",\"Natalia Alianovna 'Natasha' Romanova | Black Widow\",\"James Buchanan 'Bucky' Barnes | Winter Soldier\\u002fCaptain America & Loki Laufeyson\\u002fOdinson (tied)\",\"Peter Parker | Spiderman & Steve Rogers | Captain America & Y\\u002fN | Reader (tied)\",\"Shepard | Player Character\",\"Bakugou Katsuki & Midoriya Izuku | Deku (tied)\",\"Uraraka Ochako | Uravity\",\"Zayn Malik\",\"Harry Styles & Liam Payne & Louis Tomlinson & Niall Horan (tied)\",\"Pearl & Peridot (tied)\",\"Eddie Munson & Steve Harrington (tied)\",\"Sam Winchester\",\"Charlie Bradbury & Dean Winchester (tied)\",\"Lydia Martin\",\"Stiles Stilinski\",\"Scott McCall\",\"Clarke Griffin & Raven Reyes (tied)\",\"Shiro\",\"Thomas Michael Simons | TommyInnit\",\"Alexander | Technoblade & Clay | Dream & Phil Watson | Philza (tied)\",\"Nicholas Armstrong | Sapnap & William Patrick Spencer Gold | Wilbur Soot (tied)\",\"Ranboo & Toby Smith | Tubbo (tied)\"],[3,3,5,4,3,4,3,5,3,6,5,4,3,3,6,5,3,3,7,5,4,3,4,5,3,4,3,3,3,6,3,5,4,3,3,4,8,5,4,3]]},\"header\":{\"align\":\"left\",\"fill\":{\"color\":\"skyblue\"},\"line\":{\"color\":\"slategrey\"},\"values\":[\"fandom\",\"rank\",\"names\",\"no_of_ships\"]},\"type\":\"table\"}],                        {\"template\":{\"data\":{\"histogram2dcontour\":[{\"type\":\"histogram2dcontour\",\"colorbar\":{\"outlinewidth\":0,\"ticks\":\"\"},\"colorscale\":[[0.0,\"#0d0887\"],[0.1111111111111111,\"#46039f\"],[0.2222222222222222,\"#7201a8\"],[0.3333333333333333,\"#9c179e\"],[0.4444444444444444,\"#bd3786\"],[0.5555555555555556,\"#d8576b\"],[0.6666666666666666,\"#ed7953\"],[0.7777777777777778,\"#fb9f3a\"],[0.8888888888888888,\"#fdca26\"],[1.0,\"#f0f921\"]]}],\"choropleth\":[{\"type\":\"choropleth\",\"colorbar\":{\"outlinewidth\":0,\"ticks\":\"\"}}],\"histogram2d\":[{\"type\":\"histogram2d\",\"colorbar\":{\"outlinewidth\":0,\"ticks\":\"\"},\"colorscale\":[[0.0,\"#0d0887\"],[0.1111111111111111,\"#46039f\"],[0.2222222222222222,\"#7201a8\"],[0.3333333333333333,\"#9c179e\"],[0.4444444444444444,\"#bd3786\"],[0.5555555555555556,\"#d8576b\"],[0.6666666666666666,\"#ed7953\"],[0.7777777777777778,\"#fb9f3a\"],[0.8888888888888888,\"#fdca26\"],[1.0,\"#f0f921\"]]}],\"heatmap\":[{\"type\":\"heatmap\",\"colorbar\":{\"outlinewidth\":0,\"ticks\":\"\"},\"colorscale\":[[0.0,\"#0d0887\"],[0.1111111111111111,\"#46039f\"],[0.2222222222222222,\"#7201a8\"],[0.3333333333333333,\"#9c179e\"],[0.4444444444444444,\"#bd3786\"],[0.5555555555555556,\"#d8576b\"],[0.6666666666666666,\"#ed7953\"],[0.7777777777777778,\"#fb9f3a\"],[0.8888888888888888,\"#fdca26\"],[1.0,\"#f0f921\"]]}],\"heatmapgl\":[{\"type\":\"heatmapgl\",\"colorbar\":{\"outlinewidth\":0,\"ticks\":\"\"},\"colorscale\":[[0.0,\"#0d0887\"],[0.1111111111111111,\"#46039f\"],[0.2222222222222222,\"#7201a8\"],[0.3333333333333333,\"#9c179e\"],[0.4444444444444444,\"#bd3786\"],[0.5555555555555556,\"#d8576b\"],[0.6666666666666666,\"#ed7953\"],[0.7777777777777778,\"#fb9f3a\"],[0.8888888888888888,\"#fdca26\"],[1.0,\"#f0f921\"]]}],\"contourcarpet\":[{\"type\":\"contourcarpet\",\"colorbar\":{\"outlinewidth\":0,\"ticks\":\"\"}}],\"contour\":[{\"type\":\"contour\",\"colorbar\":{\"outlinewidth\":0,\"ticks\":\"\"},\"colorscale\":[[0.0,\"#0d0887\"],[0.1111111111111111,\"#46039f\"],[0.2222222222222222,\"#7201a8\"],[0.3333333333333333,\"#9c179e\"],[0.4444444444444444,\"#bd3786\"],[0.5555555555555556,\"#d8576b\"],[0.6666666666666666,\"#ed7953\"],[0.7777777777777778,\"#fb9f3a\"],[0.8888888888888888,\"#fdca26\"],[1.0,\"#f0f921\"]]}],\"surface\":[{\"type\":\"surface\",\"colorbar\":{\"outlinewidth\":0,\"ticks\":\"\"},\"colorscale\":[[0.0,\"#0d0887\"],[0.1111111111111111,\"#46039f\"],[0.2222222222222222,\"#7201a8\"],[0.3333333333333333,\"#9c179e\"],[0.4444444444444444,\"#bd3786\"],[0.5555555555555556,\"#d8576b\"],[0.6666666666666666,\"#ed7953\"],[0.7777777777777778,\"#fb9f3a\"],[0.8888888888888888,\"#fdca26\"],[1.0,\"#f0f921\"]]}],\"mesh3d\":[{\"type\":\"mesh3d\",\"colorbar\":{\"outlinewidth\":0,\"ticks\":\"\"}}],\"scatter\":[{\"fillpattern\":{\"fillmode\":\"overlay\",\"size\":10,\"solidity\":0.2},\"type\":\"scatter\"}],\"parcoords\":[{\"type\":\"parcoords\",\"line\":{\"colorbar\":{\"outlinewidth\":0,\"ticks\":\"\"}}}],\"scatterpolargl\":[{\"type\":\"scatterpolargl\",\"marker\":{\"colorbar\":{\"outlinewidth\":0,\"ticks\":\"\"}}}],\"bar\":[{\"error_x\":{\"color\":\"#2a3f5f\"},\"error_y\":{\"color\":\"#2a3f5f\"},\"marker\":{\"line\":{\"color\":\"#E5ECF6\",\"width\":0.5},\"pattern\":{\"fillmode\":\"overlay\",\"size\":10,\"solidity\":0.2}},\"type\":\"bar\"}],\"scattergeo\":[{\"type\":\"scattergeo\",\"marker\":{\"colorbar\":{\"outlinewidth\":0,\"ticks\":\"\"}}}],\"scatterpolar\":[{\"type\":\"scatterpolar\",\"marker\":{\"colorbar\":{\"outlinewidth\":0,\"ticks\":\"\"}}}],\"histogram\":[{\"marker\":{\"pattern\":{\"fillmode\":\"overlay\",\"size\":10,\"solidity\":0.2}},\"type\":\"histogram\"}],\"scattergl\":[{\"type\":\"scattergl\",\"marker\":{\"colorbar\":{\"outlinewidth\":0,\"ticks\":\"\"}}}],\"scatter3d\":[{\"type\":\"scatter3d\",\"line\":{\"colorbar\":{\"outlinewidth\":0,\"ticks\":\"\"}},\"marker\":{\"colorbar\":{\"outlinewidth\":0,\"ticks\":\"\"}}}],\"scattermapbox\":[{\"type\":\"scattermapbox\",\"marker\":{\"colorbar\":{\"outlinewidth\":0,\"ticks\":\"\"}}}],\"scatterternary\":[{\"type\":\"scatterternary\",\"marker\":{\"colorbar\":{\"outlinewidth\":0,\"ticks\":\"\"}}}],\"scattercarpet\":[{\"type\":\"scattercarpet\",\"marker\":{\"colorbar\":{\"outlinewidth\":0,\"ticks\":\"\"}}}],\"carpet\":[{\"aaxis\":{\"endlinecolor\":\"#2a3f5f\",\"gridcolor\":\"white\",\"linecolor\":\"white\",\"minorgridcolor\":\"white\",\"startlinecolor\":\"#2a3f5f\"},\"baxis\":{\"endlinecolor\":\"#2a3f5f\",\"gridcolor\":\"white\",\"linecolor\":\"white\",\"minorgridcolor\":\"white\",\"startlinecolor\":\"#2a3f5f\"},\"type\":\"carpet\"}],\"table\":[{\"cells\":{\"fill\":{\"color\":\"#EBF0F8\"},\"line\":{\"color\":\"white\"}},\"header\":{\"fill\":{\"color\":\"#C8D4E3\"},\"line\":{\"color\":\"white\"}},\"type\":\"table\"}],\"barpolar\":[{\"marker\":{\"line\":{\"color\":\"#E5ECF6\",\"width\":0.5},\"pattern\":{\"fillmode\":\"overlay\",\"size\":10,\"solidity\":0.2}},\"type\":\"barpolar\"}],\"pie\":[{\"automargin\":true,\"type\":\"pie\"}]},\"layout\":{\"autotypenumbers\":\"strict\",\"colorway\":[\"#636efa\",\"#EF553B\",\"#00cc96\",\"#ab63fa\",\"#FFA15A\",\"#19d3f3\",\"#FF6692\",\"#B6E880\",\"#FF97FF\",\"#FECB52\"],\"font\":{\"color\":\"#2a3f5f\"},\"hovermode\":\"closest\",\"hoverlabel\":{\"align\":\"left\"},\"paper_bgcolor\":\"white\",\"plot_bgcolor\":\"#E5ECF6\",\"polar\":{\"bgcolor\":\"#E5ECF6\",\"angularaxis\":{\"gridcolor\":\"white\",\"linecolor\":\"white\",\"ticks\":\"\"},\"radialaxis\":{\"gridcolor\":\"white\",\"linecolor\":\"white\",\"ticks\":\"\"}},\"ternary\":{\"bgcolor\":\"#E5ECF6\",\"aaxis\":{\"gridcolor\":\"white\",\"linecolor\":\"white\",\"ticks\":\"\"},\"baxis\":{\"gridcolor\":\"white\",\"linecolor\":\"white\",\"ticks\":\"\"},\"caxis\":{\"gridcolor\":\"white\",\"linecolor\":\"white\",\"ticks\":\"\"}},\"coloraxis\":{\"colorbar\":{\"outlinewidth\":0,\"ticks\":\"\"}},\"colorscale\":{\"sequential\":[[0.0,\"#0d0887\"],[0.1111111111111111,\"#46039f\"],[0.2222222222222222,\"#7201a8\"],[0.3333333333333333,\"#9c179e\"],[0.4444444444444444,\"#bd3786\"],[0.5555555555555556,\"#d8576b\"],[0.6666666666666666,\"#ed7953\"],[0.7777777777777778,\"#fb9f3a\"],[0.8888888888888888,\"#fdca26\"],[1.0,\"#f0f921\"]],\"sequentialminus\":[[0.0,\"#0d0887\"],[0.1111111111111111,\"#46039f\"],[0.2222222222222222,\"#7201a8\"],[0.3333333333333333,\"#9c179e\"],[0.4444444444444444,\"#bd3786\"],[0.5555555555555556,\"#d8576b\"],[0.6666666666666666,\"#ed7953\"],[0.7777777777777778,\"#fb9f3a\"],[0.8888888888888888,\"#fdca26\"],[1.0,\"#f0f921\"]],\"diverging\":[[0,\"#8e0152\"],[0.1,\"#c51b7d\"],[0.2,\"#de77ae\"],[0.3,\"#f1b6da\"],[0.4,\"#fde0ef\"],[0.5,\"#f7f7f7\"],[0.6,\"#e6f5d0\"],[0.7,\"#b8e186\"],[0.8,\"#7fbc41\"],[0.9,\"#4d9221\"],[1,\"#276419\"]]},\"xaxis\":{\"gridcolor\":\"white\",\"linecolor\":\"white\",\"ticks\":\"\",\"title\":{\"standoff\":15},\"zerolinecolor\":\"white\",\"automargin\":true,\"zerolinewidth\":2},\"yaxis\":{\"gridcolor\":\"white\",\"linecolor\":\"white\",\"ticks\":\"\",\"title\":{\"standoff\":15},\"zerolinecolor\":\"white\",\"automargin\":true,\"zerolinewidth\":2},\"scene\":{\"xaxis\":{\"backgroundcolor\":\"#E5ECF6\",\"gridcolor\":\"white\",\"linecolor\":\"white\",\"showbackground\":true,\"ticks\":\"\",\"zerolinecolor\":\"white\",\"gridwidth\":2},\"yaxis\":{\"backgroundcolor\":\"#E5ECF6\",\"gridcolor\":\"white\",\"linecolor\":\"white\",\"showbackground\":true,\"ticks\":\"\",\"zerolinecolor\":\"white\",\"gridwidth\":2},\"zaxis\":{\"backgroundcolor\":\"#E5ECF6\",\"gridcolor\":\"white\",\"linecolor\":\"white\",\"showbackground\":true,\"ticks\":\"\",\"zerolinecolor\":\"white\",\"gridwidth\":2}},\"shapedefaults\":{\"line\":{\"color\":\"#2a3f5f\"}},\"annotationdefaults\":{\"arrowcolor\":\"#2a3f5f\",\"arrowhead\":0,\"arrowwidth\":1},\"geo\":{\"bgcolor\":\"white\",\"landcolor\":\"#E5ECF6\",\"subunitcolor\":\"white\",\"showland\":true,\"showlakes\":true,\"lakecolor\":\"white\"},\"title\":{\"x\":0.05},\"mapbox\":{\"style\":\"light\"}}}},                        {\"responsive\": true}                    ).then(function(){\n",
       "                            \n",
       "var gd = document.getElementById('64c15cef-774b-4c5e-aaf8-3001352858aa');\n",
       "var x = new MutationObserver(function (mutations, observer) {{\n",
       "        var display = window.getComputedStyle(gd).display;\n",
       "        if (!display || display === 'none') {{\n",
       "            console.log([gd, 'removed!']);\n",
       "            Plotly.purge(gd);\n",
       "            observer.disconnect();\n",
       "        }}\n",
       "}});\n",
       "\n",
       "// Listen for the removal of the full notebook cells\n",
       "var notebookContainer = gd.closest('#notebook-container');\n",
       "if (notebookContainer) {{\n",
       "    x.observe(notebookContainer, {childList: true});\n",
       "}}\n",
       "\n",
       "// Listen for the clearing of the current output cell\n",
       "var outputEl = gd.closest('.output');\n",
       "if (outputEl) {{\n",
       "    x.observe(outputEl, {childList: true});\n",
       "}}\n",
       "\n",
       "                        })                };                });            </script>        </div>"
      ]
     },
     "metadata": {},
     "output_type": "display_data"
    }
   ],
   "source": [
    "# visualise hottest characters:\n",
    "\n",
    "fig = go.Figure(data=[\n",
    "    go.Table(\n",
    "        header=dict(\n",
    "            values=list(hottest_rank_df.columns),\n",
    "            align='left',\n",
    "            line_color='slategrey',\n",
    "            fill_color='skyblue',\n",
    "        ),\n",
    "        cells=dict(\n",
    "            values=[hottest_rank_df[\"fandom\"], hottest_rank_df[\"rank\"], hottest_rank_df[\"names\"], hottest_rank_df[\"no_of_ships\"],],\n",
    "            align='left',\n",
    "            line_color='slategrey',\n",
    "            fill_color='aliceblue',\n",
    "        )\n",
    "    )\n",
    "])\n",
    "fig.show() \n",
    "\n",
    "# I can't save the whole thing from here, \n",
    "# TODO: will need to look into kaleido smh \n",
    "# (and then we might as well put all of this into python files smh)"
   ]
  }
 ],
 "metadata": {
  "kernelspec": {
   "display_name": "venv",
   "language": "python",
   "name": "python3"
  },
  "language_info": {
   "codemirror_mode": {
    "name": "ipython",
    "version": 3
   },
   "file_extension": ".py",
   "mimetype": "text/x-python",
   "name": "python",
   "nbconvert_exporter": "python",
   "pygments_lexer": "ipython3",
   "version": "3.11.1"
  }
 },
 "nbformat": 4,
 "nbformat_minor": 2
}
